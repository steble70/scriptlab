{
  "cells": [
    {
      "cell_type": "markdown",
      "metadata": {
        "id": "view-in-github",
        "colab_type": "text"
      },
      "source": [
        "<a href=\"https://colab.research.google.com/github/steble70/scriptlab/blob/master/CV-2021_test.ipynb\" target=\"_parent\"><img src=\"https://colab.research.google.com/assets/colab-badge.svg\" alt=\"Open In Colab\"/></a>"
      ]
    },
    {
      "cell_type": "markdown",
      "metadata": {
        "id": "dAOPbqTBCfiv"
      },
      "source": [
        "# **IT kompetenser**\n",
        "#### © 2023 av Stefan Blecko, `070-6445868`  \n",
        "**CV: [LinkedIn](https://se.linkedin.com/in/stefan70) | [Arbetsomdöme](https://github.com/steble70/scriptlab/blob/master/Blecko_Stefan_Arbetsbetyg.pdf) | Referens: [Peter Mwaka](https://www.linkedin.com/in/peter-mwaka-23ab0915?lipi=urn%3Ali%3Apage%3Ad_flagship3_profile_view_base_contact_details%3BuqCZBsuNRmCXcZ7ilYV97A%3D%3D) |\n",
        "Portfolio: [GitHub](https://github.com/steble70/scriptlab) | [IT kompetenser 2](https://github.com/steble70/scriptlab/blob/master/Blecko_Stefan_kompetenser2.ipynb)**"
      ]
    },
    {
      "cell_type": "code",
      "execution_count": null,
      "metadata": {
        "id": "39g8MX1sCfi0"
      },
      "outputs": [],
      "source": [
        "%matplotlib inline"
      ]
    },
    {
      "cell_type": "code",
      "execution_count": 6,
      "metadata": {
        "id": "8KoByO2pCfi2"
      },
      "outputs": [],
      "source": [
        "import os\n",
        "import random\n",
        "import matplotlib.pyplot as plt\n",
        "import subprocess"
      ]
    },
    {
      "cell_type": "code",
      "execution_count": 11,
      "metadata": {
        "id": "-rN9kh0bCfi4",
        "outputId": "16f82231-b81b-4c7b-828c-62cfa994faa5",
        "colab": {
          "base_uri": "https://localhost:8080/",
          "height": 452
        }
      },
      "outputs": [
        {
          "output_type": "display_data",
          "data": {
            "text/plain": [
              "<Figure size 640x480 with 1 Axes>"
            ],
            "image/png": "[encoded data removed]"
          },
          "metadata": {}
        }
      ],
      "source": [
        "# Exempel av Stefan Blecko\n",
        "\n",
        "def kompetenser(**skills):\n",
        "    x = skills.keys()\n",
        "    y = skills.values()\n",
        "    plt.bar()\n",
        "    plt.ylabel('Kunskapsnivå')\n",
        "    plt.title('IT kompetenser')\n",
        "    plt.show()\n",
        "\n",
        "# Support är ett medelvärde\n",
        "kompetenser(Operativsystem=3, Programmering=2, Support=3)"
      ]
    },
    {
      "cell_type": "markdown",
      "metadata": {
        "id": "0cNfOQtmCfi5"
      },
      "source": [
        "### **Kunskaper om operativsystem**"
      ]
    },
    {
      "cell_type": "code",
      "execution_count": null,
      "metadata": {
        "id": "PdLXZaHrCfi5",
        "outputId": "98e3fecb-190b-492d-d689-9a262e39d9b1"
      },
      "outputs": [
        {
          "name": "stdout",
          "output_type": "stream",
          "text": [
            "\n",
            "Tillverkare        : Acer\n",
            "Modell             : NC-ES1-131-C8KH\n",
            "BIOS               : Insyde Corp.\n",
            "BIOS version       : ACRSYS - 3\n",
            "Windows version    : Microsoft Windows 10 Home\n",
            "Windows Produkt-ID : 00326-10000-00000-AA635\n",
            "Processor          : Intel(R) Celeron(R) CPU  N3050  @ 1.60GHz\n",
            "RAM                : 2\n",
            "Ljudkort           : {Realtek High Definition Audio, Intel(R) bildsk„rmsljud}\n",
            "Grafikkort         : Intel(R) HD Graphics\n",
            "HDD                : 29\n",
            "\n",
            "\n",
            "\n"
          ]
        }
      ],
      "source": [
        "# Exempel av Stefan Blecko\n",
        "homepath = Path().home()\n",
        "myoutput = open(homepath.joinpath('sysinfo_out.txt'),'w+')\n",
        "subprocess.run(['pwsh', '-NoLogo', '-NoProfile', '-File',\n",
        "                homepath.joinpath('stefans_sysinfo.ps1')], stdout=myoutput)\n",
        "myoutput.close()\n",
        "\n",
        "with open(homepath.joinpath('sysinfo_out.txt'), \"r\") as f:\n",
        "    print(f.read())\n",
        "    f.close()"
      ]
    },
    {
      "cell_type": "markdown",
      "metadata": {
        "id": "apzsQBiVCfi6"
      },
      "source": [
        "##### **NIC** #####"
      ]
    },
    {
      "cell_type": "code",
      "execution_count": null,
      "metadata": {
        "id": "tMXbyKkDCfi7",
        "outputId": "a4bf16a4-a17c-4abe-d2b0-41a7aa0a3615"
      },
      "outputs": [
        {
          "name": "stdout",
          "output_type": "stream",
          "text": [
            "\n",
            "NIC             : Qualcomm Atheros AR956x Wireless Network Adapter\n",
            "MAC adress      : B8:86:87:D2:CF:BF\n",
            "Hostname        : DESKTOP-F24MLRV\n",
            "DHCP server     : 192.0.2.1\n",
            "DNS Domain      : pubnet.sll.se\n",
            "IP-adress       : {192.168.142.198, fe80::a985:d20d:aef3:74c6}\n",
            "Default Gateway : {192.168.128.1}\n",
            "Subn„tmask      : {255.255.240.0, 64}\n",
            "\n",
            "\n",
            "\n"
          ]
        }
      ],
      "source": [
        "# Exempel av Stefan Blecko\n",
        "homepath = Path().home()\n",
        "myoutput = open(homepath.joinpath('sysinfo_out_nic.txt'),'w+')\n",
        "subprocess.run(['pwsh', '-NoLogo', '-NoProfile', '-File',\n",
        "                homepath.joinpath('stefans_sysinfo_nic.ps1')], stdout=myoutput)\n",
        "myoutput.close()\n",
        "\n",
        "with open(homepath.joinpath('sysinfo_out_nic.txt'), \"r\") as f:\n",
        "    print(f.read())\n",
        "    f.close()"
      ]
    },
    {
      "cell_type": "markdown",
      "metadata": {
        "id": "OcRVTAi0Cfi7"
      },
      "source": [
        "## **Programmering**"
      ]
    },
    {
      "cell_type": "code",
      "execution_count": null,
      "metadata": {
        "id": "gvfebj-HCfi9"
      },
      "outputs": [],
      "source": [
        "# Multiplikationstabellen i Python\n",
        "# Exempel av Stefan Blecko\n",
        "def mul(t, r):\n",
        "    for item in range(1, r + 1):\n",
        "        for k, v in {f'{t} * {item}':t*item}.items():\n",
        "            yield f'{k} = {v}'"
      ]
    },
    {
      "cell_type": "code",
      "execution_count": null,
      "metadata": {
        "id": "1XiZ52DKCfi9",
        "outputId": "9d1f8c1b-be01-4d27-c342-773a4e1161b8"
      },
      "outputs": [
        {
          "name": "stdout",
          "output_type": "stream",
          "text": [
            "4.5 * 1 = 4.5\n",
            "4.5 * 2 = 9.0\n",
            "4.5 * 3 = 13.5\n",
            "4.5 * 4 = 18.0\n",
            "4.5 * 5 = 22.5\n",
            "4.5 * 6 = 27.0\n"
          ]
        }
      ],
      "source": [
        "for x in mul(4.5, 6):\n",
        "    print(x)"
      ]
    },
    {
      "cell_type": "markdown",
      "metadata": {
        "id": "VPVjnuDvCfi-"
      },
      "source": [
        "## **Erfarenheter av IT-support**"
      ]
    },
    {
      "cell_type": "code",
      "execution_count": null,
      "metadata": {
        "id": "HI7KknL7Cfi_",
        "outputId": "5abe00d9-858b-4bbd-e5d0-24beefb0cf9d"
      },
      "outputs": [
        {
          "data": {
            "image/png": "[encoded data removed]",
            "text/plain": [
              "<Figure size 432x288 with 1 Axes>"
            ]
          },
          "metadata": {
            "needs_background": "light"
          },
          "output_type": "display_data"
        }
      ],
      "source": [
        "# Exempel av Stefan Blecko\n",
        "def support(**skills):\n",
        "    x = skills.keys()\n",
        "    y = skills.values()\n",
        "    plt.bar(x, y, color='purple')\n",
        "    plt.ylabel('Kunskapsnivå')\n",
        "    plt.title('Erfarenheter av IT-support')\n",
        "    plt.show()\n",
        "\n",
        "support(AD=4, Serveruppd=2, Episerver=2, Remote_verktyg=4)\n"
      ]
    }
  ],
  "metadata": {
    "kernelspec": {
      "display_name": "Python 3 (ipykernel)",
      "language": "python",
      "name": "python3"
    },
    "language_info": {
      "codemirror_mode": {
        "name": "ipython",
        "version": 3
      },
      "file_extension": ".py",
      "mimetype": "text/x-python",
      "name": "python",
      "nbconvert_exporter": "python",
      "pygments_lexer": "ipython3",
      "version": "3.11.4"
    },
    "colab": {
      "provenance": [],
      "include_colab_link": true
    }
  },
  "nbformat": 4,
  "nbformat_minor": 0
}