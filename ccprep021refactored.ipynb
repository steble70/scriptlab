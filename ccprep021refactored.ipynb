{
 "cells": [
  {
   "cell_type": "markdown",
   "id": "2b216bd9-892e-4b47-88b9-f0690fa5fb8b",
   "metadata": {},
   "source": [
    "# ccprep.py 0.2.1 refactored version\n",
    "#### © 2025 av Stefan Blecko, [MS-900](https://www.linkedin.com/posts/stefan70_microsoft-365-certified-fundamentals-activity-7132201402134671360-sZQr?utm_source=share&utm_medium=member_desktop&rcm=ACoAABLNm-IBiq5TlsugIMH7rx0wSvX1qkpzei0) och [SC-900](https://www.linkedin.com/posts/stefan70_microsoft-certified-security-compliance-activity-7125476344208969728-TL_O?utm_source=share&utm_medium=member_desktop&rcm=ACoAABLNm-IBiq5TlsugIMH7rx0wSvX1qkpzei0) certifierad, 070-6445868\n",
    "---"
   ]
  },
  {
   "cell_type": "markdown",
   "id": "39812f10-d962-4714-b45a-50c7e9a72635",
   "metadata": {},
   "source": [
    "Omstrukturering av programkod (refactoring) och göra den mera \"ren\" och läsbar genom att ta bort dubblettkod, förenkla komplex logik samt ändra variabelnamn är viktigt. Jag lät Copilot omstrukturera mitt **[ccprep.py](https://github.com/steble70/scriptlab/blob/master/ccprep.py)** skript. Skriptet blev visserligen längre med docstrings och kommentarer (vilket är bra) samt fick bättre variabelnamn. En extra funktion skapades också (vilket jag kan tycka är onödigt) för extrahera datat från JSON filen."
   ]
  },
  {
   "cell_type": "code",
   "execution_count": 1,
   "id": "d865bd73-93ec-494f-a271-e91c1400b663",
   "metadata": {},
   "outputs": [],
   "source": [
    "# ccprep.py 0.2.1\n",
    "# © Stefan Blecko 2025\n",
    "\n",
    "import json\n",
    "import random\n",
    "import os"
   ]
  },
  {
   "cell_type": "code",
   "execution_count": 2,
   "id": "e8d98b40-7749-44b6-b508-b231a097dbf8",
   "metadata": {},
   "outputs": [],
   "source": [
    "def load_glossary(fpath=\"AZ-900_glossary.json\"):\n",
    "    \"\"\"\n",
    "    Loads the glossary data from a JSON file.\n",
    "\n",
    "    Changes the working directory to the user's profile directory\n",
    "    (retrieved from the USERPROFILE environment variable) before\n",
    "    loading.\n",
    "\n",
    "    Args:\n",
    "        fpath (str): Path to the glossary JSON file. Defaults to\n",
    "        'AZ-900_glossary.json'.\n",
    "\n",
    "    Returns:\n",
    "        dict: The JSON data loaded as a dictionary.\n",
    "\n",
    "    Raises:\n",
    "        EnvironmentError: If the USERPROFILE environment variable is\n",
    "        not set.\n",
    "    \"\"\"\n",
    "    # Change working directory to the user's profile directory\n",
    "    user_profile = os.environ.get(\"USERPROFILE\")\n",
    "    if not user_profile:\n",
    "        raise EnvironmentError(\"USERPROFILE environment variable is not set.\")\n",
    "    os.chdir(user_profile)\n",
    "\n",
    "    # Open and load the JSON data using a context manager for safe file \n",
    "    # handling\n",
    "    with open(fpath, \"r\") as file:\n",
    "        data = json.load(file)\n",
    "    return data"
   ]
  },
  {
   "cell_type": "code",
   "execution_count": 3,
   "id": "1a7546de-5463-4673-9291-be30fc5fcb25",
   "metadata": {},
   "outputs": [],
   "source": [
    "def get_random_glossary_pair(glossary_data):\n",
    "    \"\"\"\n",
    "    Selects and returns a random term and a random definition from the\n",
    "    glossary data.\n",
    "\n",
    "    Args:\n",
    "        glossary_data (dict): A dictionary that contains a key\n",
    "        'Glossary' with term-definition pairs.\n",
    "\n",
    "    Returns:\n",
    "        tuple: A tuple (term, definition) randomly selected from\n",
    "        the glossary.\n",
    "\n",
    "    Raises:\n",
    "        ValueError: If the 'Glossary' key is missing or empty in\n",
    "        the data.\n",
    "    \"\"\"\n",
    "    glossary = glossary_data.get(\"Glossary\", {})\n",
    "    if not glossary:\n",
    "        raise ValueError(\"Glossary is empty or is missing.\")\n",
    "\n",
    "    # Randomly select one term and one definition (the selections are\n",
    "    # independent)\n",
    "    term = random.choice(list(glossary.keys()))\n",
    "    definition = random.choice(list(glossary.values()))\n",
    "    return term, definition"
   ]
  },
  {
   "cell_type": "code",
   "execution_count": 4,
   "id": "6e751a01-6832-411c-9630-9fad878013c6",
   "metadata": {},
   "outputs": [
    {
     "name": "stdout",
     "output_type": "stream",
     "text": [
      "\n",
      "AZ-900 - TEST YOUR KNOWLEDGE\n",
      "\n",
      "What is \"Azure Kubernetes Service\"?\n",
      "\n",
      "On-demand delivery of IT resources over the internet with pay-as-you-go pricing.\n",
      "A suite of tools for software development and deployment in Azure.\n",
      "Offers a platform allowing customers to develop, run, and manage applications.\n",
      "Physically separate locations within an Azure region for high availability.\n",
      "Microsoft's expansive set of cloud services to help organizations meet business challenges.\n"
     ]
    }
   ],
   "source": [
    "def main():\n",
    "    \"\"\"\n",
    "    Main function to run the AZ-900 knowledge test.\n",
    "\n",
    "    It loads the glossary data once, prints a random term as a\n",
    "    question, and collects 5 unique random definitions from the\n",
    "    glossary.\n",
    "    \"\"\"\n",
    "    # Load glossary data into memory only once\n",
    "    glossary_data = load_glossary()\n",
    "\n",
    "    # Print the header and a question featuring a random term from the\n",
    "    # glossary\n",
    "    print(\"\\nAZ-900 - TEST YOUR KNOWLEDGE\\n\")\n",
    "    random_term, _ = get_random_glossary_pair(glossary_data)\n",
    "    print(f'What is \"{random_term}\"?\\n')\n",
    "\n",
    "    # Collect 5 unique random definitions\n",
    "    unique_definitions = set()\n",
    "    while len(unique_definitions) < 5:\n",
    "        _, definition = get_random_glossary_pair(glossary_data)\n",
    "        unique_definitions.add(definition)\n",
    "\n",
    "    # Print each unique definition on a new line\n",
    "    for definition in unique_definitions:\n",
    "        print(definition)\n",
    "\n",
    "\n",
    "if __name__ == \"__main__\":\n",
    "    main()"
   ]
  },
  {
   "cell_type": "markdown",
   "id": "e5787af8-bc7c-4fd6-9f0e-283bf2759f7a",
   "metadata": {},
   "source": [
    "### Summa summarum - 5 refactoring tips\n",
    "1. **Loop förenkling**: Förenklar sättet att skriva loopar genom att använda *list comprehension*.\n",
    "2. **Använd beskrivande variabelnamn**: För att öka läsbarheten så använd beskrivande variabelnamn.\n",
    "3. **Single Responsibility Principle/DRY (Don't Repeat Yourself)**: En funktion bör endast göra en sak. Gör funktionen fler saker bör man dela upp funktionen.\n",
    "4. **Använd Pythons inbyggda funktioner**: Python har många inbyggda funtioner som sum(), zip(), och [list/dictionary comprehensions](https://docs.python.org/3/tutorial/datastructures.html#list-comprehensions). Använd dessa.\n",
    "5. **Automatisk refactoring**: IDE:er som PyCharm eller VSCode erbjuder automatisk refactoring. För automatisk kod formatering (för att öka läsbarheten) så använd ```black```.\n"
   ]
  }
 ],
 "metadata": {
  "kernelspec": {
   "display_name": "Python 3 (ipykernel)",
   "language": "python",
   "name": "python3"
  },
  "language_info": {
   "codemirror_mode": {
    "name": "ipython",
    "version": 3
   },
   "file_extension": ".py",
   "mimetype": "text/x-python",
   "name": "python",
   "nbconvert_exporter": "python",
   "pygments_lexer": "ipython3",
   "version": "3.12.2"
  }
 },
 "nbformat": 4,
 "nbformat_minor": 5
}
