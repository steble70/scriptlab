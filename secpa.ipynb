{
 "cells": [
  {
   "cell_type": "markdown",
   "id": "32cbf065-e04b-4e48-bed8-e8532932d3ea",
   "metadata": {},
   "source": [
    "# **Säkra lösenord (Python implementering)** \n",
    "##### © 2025 av Stefan Blecko, [MS-900](https://github.com/steble70/scriptlab/blob/master/MS-900.pdf) och [SC-900](https://github.com/steble70/scriptlab/blob/master/SC-900.pdf) certifierad, 070-6445868  \n",
    "##### [LinkedIn](https://se.linkedin.com/in/stefan70 \"se.linkedin.com/in/stefan70/\") | [GitHub](https://github.com/steble70/scriptlab \"github.com/steble70/scriptlab\")\n",
    "---"
   ]
  },
  {
   "cell_type": "code",
   "execution_count": 1,
   "id": "5d4f9d68-744a-4d52-9693-c5aa3d7da8c1",
   "metadata": {},
   "outputs": [
    {
     "name": "stdout",
     "output_type": "stream",
     "text": [
      "Overwriting secpa.py\n"
     ]
    }
   ],
   "source": [
    "%%writefile secpa.py\n",
    "# secpa.py 0.2\n",
    "# © Stefan Blecko 2025\n",
    "\n",
    "import argparse\n",
    "import random\n",
    "import csv\n",
    "from pathlib import Path\n",
    "\n",
    "class Password:\n",
    "    def __init__(self, chr):\n",
    "        self.chr = chr\n",
    "               \n",
    "    def generate(self):\n",
    "        character_set = [\n",
    "            ['!', '@', '#', '$', '%', '&', '*', '(', ')', '–', '_', \n",
    "             '=', '+', ':', '.', '?'], ['0', '1', '2', '3', '4', \n",
    "             '5', '6', '7', '8', '9'], ['a', 'b', 'c', 'd', 'e', \n",
    "             'f', 'g', 'h', 'i', 'j', 'k', 'l', 'm', 'n', 'o', 'p',\n",
    "             'q', 'r', 's', 't', 'u', 'v', 'w', 'x', 'y', 'z']]\n",
    "        collect_all_character = []\n",
    "    \n",
    "        collect_all_character.append(\n",
    "            random.choice(character_set[1][0:]))\n",
    "        collect_all_character.append(random.choice(\n",
    "            character_set[0][0:]))\n",
    "        collect_all_character.append(str(random.choice(\n",
    "            character_set[2][0:])).upper())\n",
    "        for item in range(0, self.chr-3): \n",
    "            collect_all_character.append(random.choice(\n",
    "                character_set[2][0:]))\n",
    "    \n",
    "        \n",
    "        random.shuffle(collect_all_character)\n",
    "        list2string = ''.join(collect_all_character)\n",
    "        \n",
    "        return list2string\n",
    "\n",
    "def main():\n",
    "    parser = argparse.ArgumentParser(\n",
    "        usage='python secpa.py --n 5 (genererar t.ex. 5 lösenord).')\n",
    "    parser.add_argument('-c', '--character', type=int, default=12,\n",
    "                        choices=[12, 13, 14, 15, 16, 17, 18, 19, 20])\n",
    "    parser.add_argument('-n', '--number', type=int, default=1)\n",
    "    args = parser.parse_args()\n",
    "    \n",
    "    filename = Path().home().joinpath('passwd.csv')\n",
    "    new_password = Password(args.character)\n",
    "\n",
    "    with open(filename, 'w', newline='', encoding='utf8') as cf:\n",
    "        writer = csv.writer(cf)\n",
    "        writer.writerow(['Password'])\n",
    "        \n",
    "        for _ in range(args.number):\n",
    "            writer.writerow([new_password.generate()])\n",
    "                    \n",
    "if __name__ == '__main__':\n",
    "    main()"
   ]
  },
  {
   "cell_type": "code",
   "execution_count": 2,
   "id": "2dbe6b24-0114-4570-ae8e-fdbcc057499f",
   "metadata": {},
   "outputs": [
    {
     "name": "stdout",
     "output_type": "stream",
     "text": [
      "usage: python secpa.py --n 5 (genererar t.ex. 5 lösenord).\n",
      "\n",
      "options:\n",
      "  -h, --help            show this help message and exit\n",
      "  -c {12,13,14,15,16,17,18,19,20}, --character {12,13,14,15,16,17,18,19,20}\n",
      "  -n NUMBER, --number NUMBER\n"
     ]
    }
   ],
   "source": [
    "!python secpa.py --help"
   ]
  },
  {
   "cell_type": "code",
   "execution_count": 3,
   "id": "d99be2d4-bc23-40cd-b158-845868ed9b7d",
   "metadata": {},
   "outputs": [],
   "source": [
    "!python secpa.py -n 5"
   ]
  },
  {
   "cell_type": "markdown",
   "id": "c463540f-25db-4c26-a372-502f1ac44fab",
   "metadata": {},
   "source": [
    "### **Verifierar att ```passwd.csv``` har skapats**"
   ]
  },
  {
   "cell_type": "code",
   "execution_count": 4,
   "id": "045f65b9-5156-41e7-b9c5-e019bf994360",
   "metadata": {},
   "outputs": [
    {
     "name": "stdout",
     "output_type": "stream",
     "text": [
      "C:\\Users\\steble70\n"
     ]
    }
   ],
   "source": [
    "%cd ~"
   ]
  },
  {
   "cell_type": "code",
   "execution_count": 5,
   "id": "1fb0557c-0b42-4242-a3c4-de81faa9fa74",
   "metadata": {},
   "outputs": [
    {
     "name": "stdout",
     "output_type": "stream",
     "text": [
      "\n",
      "\u001b[32;1mPassword\u001b[0m\n",
      "\u001b[32;1m--------\u001b[0m\n",
      "vxu0Tsyrkx_b\n",
      "yhhmfgi1O=tl\n",
      "mxibnvW8n*wv\n",
      "g*myP3pbylwo\n",
      "x=Pahwlaj9mz\n",
      "\n"
     ]
    }
   ],
   "source": [
    "# Exempel av Stefan Blecko\n",
    "!pwsh -nol -noni -nop -c \"Get-Content passwd.csv -Encoding utf8 | ConvertFrom-Csv\" "
   ]
  }
 ],
 "metadata": {
  "kernelspec": {
   "display_name": "Python 3 (ipykernel)",
   "language": "python",
   "name": "python3"
  },
  "language_info": {
   "codemirror_mode": {
    "name": "ipython",
    "version": 3
   },
   "file_extension": ".py",
   "mimetype": "text/x-python",
   "name": "python",
   "nbconvert_exporter": "python",
   "pygments_lexer": "ipython3",
   "version": "3.12.2"
  }
 },
 "nbformat": 4,
 "nbformat_minor": 5
}
