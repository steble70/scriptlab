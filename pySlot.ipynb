{
 "cells": [
  {
   "cell_type": "markdown",
   "metadata": {},
   "source": [
    "# pySlot, version 0.1, © den 4 aug 2020 klockan 03:55 av Stefan Blecko"
   ]
  },
  {
   "cell_type": "code",
   "execution_count": 498,
   "metadata": {},
   "outputs": [],
   "source": [
    "import random"
   ]
  },
  {
   "cell_type": "code",
   "execution_count": 499,
   "metadata": {},
   "outputs": [],
   "source": [
    "class Slot(object):\n",
    "    def __init__(self, deposit=100, number_of_attempts=1):\n",
    "        self.deposit = deposit\n",
    "        self.number_of_attempts = number_of_attempts\n",
    "\n",
    "    def play(self):\n",
    "        for x in range(0, self.number_of_attempts):\n",
    "            wins = [random.randint(0, 24), 0, 0, 0, random.randint(0, 10),\n",
    "                    0, 0, 0, 0, 0, 500, 0, 0, 0, 0, 0, random.randint(0, 150), 0]\n",
    "            pick_wins = random.choice(wins)\n",
    "            self.deposit = (self.deposit + int(pick_wins)) - 5  # Det kostar 5:- att spela\n",
    "            if self.deposit >= 500:\n",
    "                yield f\"\\nMAXVINST! Du vann {pick_wins}:- sammanlagt {self.deposit}:-\"\n",
    "                break\n",
    "            elif self.deposit <= 0:\n",
    "                yield \"\\nGame Over. Mata in mera pengar i maskinen\"\n",
    "                break\n",
    "            else:\n",
    "                yield f\"\\nVinst: {pick_wins}:-\\n\"\n",
    "            x = x + 1\n",
    "\n",
    "    def credits(self):\n",
    "        if self.deposit < 0:\n",
    "            yield '0'\n",
    "        else:\n",
    "            yield f\"{self.deposit}:-\""
   ]
  },
  {
   "cell_type": "markdown",
   "metadata": {},
   "source": [
    "# Slot() definierar insatsen och hur mycket man vill spela"
   ]
  },
  {
   "cell_type": "code",
   "execution_count": 500,
   "metadata": {},
   "outputs": [],
   "source": [
    "Stefans_madhouse = Slot(50, 6)\n",
    "Benny_The_King = Slot(80, 4)\n",
    "The_army_of_Jonsson = Slot(50, 12)"
   ]
  },
  {
   "cell_type": "markdown",
   "metadata": {},
   "source": [
    "# Running program"
   ]
  },
  {
   "cell_type": "code",
   "execution_count": 501,
   "metadata": {},
   "outputs": [
    {
     "name": "stdout",
     "output_type": "stream",
     "text": [
      "\n",
      "Vinst: 0:-\n",
      " \n",
      "Vinst: 0:-\n",
      " \n",
      "Vinst: 0:-\n",
      " \n",
      "Vinst: 0:-\n",
      " \n",
      "Vinst: 0:-\n",
      " \n",
      "Vinst: 0:-\n",
      "\n"
     ]
    }
   ],
   "source": [
    "print(*Stefans_madhouse.play())"
   ]
  },
  {
   "cell_type": "code",
   "execution_count": 502,
   "metadata": {},
   "outputs": [
    {
     "name": "stdout",
     "output_type": "stream",
     "text": [
      "20:-\n"
     ]
    }
   ],
   "source": [
    "print(*Stefans_madhouse.credits())"
   ]
  },
  {
   "cell_type": "code",
   "execution_count": 503,
   "metadata": {},
   "outputs": [
    {
     "name": "stdout",
     "output_type": "stream",
     "text": [
      "\n",
      "Vinst: 0:-\n",
      " \n",
      "Vinst: 0:-\n",
      " \n",
      "Vinst: 0:-\n",
      " \n",
      "Vinst: 0:-\n",
      "\n"
     ]
    }
   ],
   "source": [
    "print(*Benny_The_King.play())"
   ]
  },
  {
   "cell_type": "code",
   "execution_count": 504,
   "metadata": {},
   "outputs": [
    {
     "name": "stdout",
     "output_type": "stream",
     "text": [
      "60:-\n"
     ]
    }
   ],
   "source": [
    "print(*Benny_The_King.credits())"
   ]
  },
  {
   "cell_type": "code",
   "execution_count": 505,
   "metadata": {},
   "outputs": [
    {
     "name": "stdout",
     "output_type": "stream",
     "text": [
      "\n",
      "Vinst: 1:-\n",
      " \n",
      "Vinst: 83:-\n",
      " \n",
      "Vinst: 4:-\n",
      " \n",
      "Vinst: 0:-\n",
      "\n"
     ]
    }
   ],
   "source": [
    "print(*Benny_The_King.play())"
   ]
  },
  {
   "cell_type": "code",
   "execution_count": 506,
   "metadata": {},
   "outputs": [
    {
     "name": "stdout",
     "output_type": "stream",
     "text": [
      "128:-\n"
     ]
    }
   ],
   "source": [
    "print(*Benny_The_King.credits())"
   ]
  },
  {
   "cell_type": "code",
   "execution_count": 507,
   "metadata": {},
   "outputs": [
    {
     "name": "stdout",
     "output_type": "stream",
     "text": [
      "\n",
      "Vinst: 0:-\n",
      " \n",
      "Vinst: 0:-\n",
      " \n",
      "Vinst: 0:-\n",
      " \n",
      "Vinst: 0:-\n",
      " \n",
      "Vinst: 0:-\n",
      " \n",
      "Vinst: 0:-\n",
      " \n",
      "Vinst: 0:-\n",
      " \n",
      "Vinst: 0:-\n",
      " \n",
      "Vinst: 0:-\n",
      " \n",
      "MAXVINST! Du vann 500:- sammanlagt 500:-\n"
     ]
    }
   ],
   "source": [
    "print(*The_army_of_Jonsson.play())"
   ]
  },
  {
   "cell_type": "code",
   "execution_count": 508,
   "metadata": {},
   "outputs": [
    {
     "name": "stdout",
     "output_type": "stream",
     "text": [
      "500:-\n"
     ]
    }
   ],
   "source": [
    "print(*The_army_of_Jonsson.credits())"
   ]
  },
  {
   "cell_type": "code",
   "execution_count": 509,
   "metadata": {},
   "outputs": [
    {
     "name": "stdout",
     "output_type": "stream",
     "text": [
      "\n",
      "Vinst: 0:-\n",
      " \n",
      "Vinst: 0:-\n",
      " \n",
      "Vinst: 0:-\n",
      " \n",
      "Game Over. Mata in mera pengar i maskinen\n"
     ]
    }
   ],
   "source": [
    "print(*Stefans_madhouse.play())"
   ]
  },
  {
   "cell_type": "code",
   "execution_count": 510,
   "metadata": {},
   "outputs": [
    {
     "name": "stdout",
     "output_type": "stream",
     "text": [
      "128:-\n"
     ]
    }
   ],
   "source": [
    "print(*Benny_The_King.credits())"
   ]
  },
  {
   "cell_type": "code",
   "execution_count": 511,
   "metadata": {},
   "outputs": [],
   "source": [
    "Benny_The_King = Slot(50, 1)"
   ]
  },
  {
   "cell_type": "code",
   "execution_count": 512,
   "metadata": {},
   "outputs": [
    {
     "name": "stdout",
     "output_type": "stream",
     "text": [
      "\n",
      "Vinst: 0:-\n",
      "\n"
     ]
    }
   ],
   "source": [
    "print(*Benny_The_King.play())"
   ]
  },
  {
   "cell_type": "code",
   "execution_count": 513,
   "metadata": {},
   "outputs": [
    {
     "name": "stdout",
     "output_type": "stream",
     "text": [
      "\n",
      "Vinst: 32:-\n",
      "\n"
     ]
    }
   ],
   "source": [
    "print(*Benny_The_King.play())"
   ]
  },
  {
   "cell_type": "code",
   "execution_count": 514,
   "metadata": {},
   "outputs": [
    {
     "name": "stdout",
     "output_type": "stream",
     "text": [
      "72:-\n"
     ]
    }
   ],
   "source": [
    "print(*Benny_The_King.credits())"
   ]
  }
 ],
 "metadata": {
  "kernelspec": {
   "display_name": "Python 3",
   "language": "python",
   "name": "python3"
  },
  "language_info": {
   "codemirror_mode": {
    "name": "ipython",
    "version": 3
   },
   "file_extension": ".py",
   "mimetype": "text/x-python",
   "name": "python",
   "nbconvert_exporter": "python",
   "pygments_lexer": "ipython3",
   "version": "3.7.7"
  }
 },
 "nbformat": 4,
 "nbformat_minor": 4
}
