{
 "cells": [
  {
   "cell_type": "markdown",
   "metadata": {},
   "source": [
    "# **pySlot.py** \n",
    "#### **version 0.1d**\n",
    "#### © 10 aug 2020 klockan 20:00 av Stefan Blecko, `070-6445868`  \n",
    "**CV: [LinkedIn](https://se.linkedin.com/in/stefan70) | [Arbetsomdöme](https://github.com/steble70/scriptlab/blob/master/Blecko_Stefan_Arbetsbetyg.pdf) | Referens: [Peter Mwaka](https://www.linkedin.com/in/peter-mwaka-23ab0915?lipi=urn%3Ali%3Apage%3Ad_flagship3_profile_view_base_contact_details%3BuqCZBsuNRmCXcZ7ilYV97A%3D%3D) |\n",
    "Portfolio: [GitHub](https://github.com/steble70/scriptlab)**"
   ]
  },
  {
   "cell_type": "code",
   "execution_count": 1,
   "metadata": {},
   "outputs": [],
   "source": [
    "import random\n",
    "import math\n",
    "class Slot(object):\n",
    "    def __init__(self, deposit=100, bet=5, number_of_attempts=1):\n",
    "        self.deposit = deposit\n",
    "        self.bet = bet\n",
    "        self.number_of_attempts = number_of_attempts\n",
    "\n",
    "    def play(self):\n",
    "        for x in range(0, self.number_of_attempts):\n",
    "            small_win = [random.randint(self.bet, 10),\n",
    "                          random.randint(self.bet, 10),\n",
    "                          random.randint(self.bet, 20),\n",
    "                          random.randint(self.bet, 30),\n",
    "                          random.randint(self.bet, 40),\n",
    "                          random.randint(self.bet, 50)]\n",
    "            big_win = [random.randint(0, 150),\n",
    "                       random.randint(0, 250)]\n",
    "            no_win = [0 for x in range(1, 50)]\n",
    "            wins = small_win + no_win + big_win\n",
    "            random.shuffle(wins)\n",
    "            pick_wins = random.choice(wins)\n",
    "            self.deposit = (self.deposit + pick_wins) - self.bet  # Det kostar bet kr att spela\n",
    "            if self.deposit >= 1000:\n",
    "                yield f\"\\nMAXVINST. Du vann {pick_wins}:-, sammanlagt {self.deposit}:-\" \n",
    "                self.deposit = 0\n",
    "                self.bet = 0\n",
    "                self.number_of_attempts = 0\n",
    "                break\n",
    "            elif self.deposit == 0:\n",
    "                yield \"\\nGame Over. Mata in mera pengar i maskinen\"\n",
    "                break\n",
    "            elif self.bet > self.deposit:\n",
    "                yield '\\nInte tillräckligt med krediter'\n",
    "                break\n",
    "            else:\n",
    "                yield f\"\\nVinst: {pick_wins}:-\\n\"\n",
    "            x = x + 1\n",
    "\n",
    "    def credits(self):\n",
    "        if self.deposit < 0:\n",
    "            yield \"0:-\"\n",
    "        else:\n",
    "            yield f\"{self.deposit}:-\""
   ]
  },
  {
   "cell_type": "markdown",
   "metadata": {},
   "source": [
    "## Slot() definierar insatsen samt hur många gånger man vill spela"
   ]
  },
  {
   "cell_type": "code",
   "execution_count": 2,
   "metadata": {},
   "outputs": [],
   "source": [
    "Stefans_madhouse = Slot(100, 5, 10)"
   ]
  },
  {
   "cell_type": "code",
   "execution_count": 3,
   "metadata": {},
   "outputs": [],
   "source": [
    "Benny_The_King = Slot(50, 3, 8)"
   ]
  },
  {
   "cell_type": "code",
   "execution_count": 4,
   "metadata": {},
   "outputs": [],
   "source": [
    "The_army_of_Jonsson = Slot(100, 4, 8)"
   ]
  },
  {
   "cell_type": "markdown",
   "metadata": {},
   "source": [
    "## Kör programmet"
   ]
  },
  {
   "cell_type": "code",
   "execution_count": 5,
   "metadata": {},
   "outputs": [
    {
     "name": "stdout",
     "output_type": "stream",
     "text": [
      "\n",
      "Vinst: 0:-\n",
      " \n",
      "Vinst: 5:-\n",
      " \n",
      "Vinst: 0:-\n",
      " \n",
      "Vinst: 0:-\n",
      " \n",
      "Vinst: 38:-\n",
      " \n",
      "Vinst: 0:-\n",
      " \n",
      "Vinst: 33:-\n",
      " \n",
      "Vinst: 0:-\n",
      " \n",
      "Vinst: 25:-\n",
      " \n",
      "Vinst: 0:-\n",
      "\n"
     ]
    }
   ],
   "source": [
    "print(*Stefans_madhouse.play())"
   ]
  },
  {
   "cell_type": "code",
   "execution_count": 6,
   "metadata": {},
   "outputs": [
    {
     "name": "stdout",
     "output_type": "stream",
     "text": [
      "\n",
      "Vinst: 0:-\n",
      " \n",
      "Vinst: 0:-\n",
      " \n",
      "Vinst: 32:-\n",
      " \n",
      "Vinst: 0:-\n",
      " \n",
      "Vinst: 0:-\n",
      " \n",
      "Vinst: 0:-\n",
      " \n",
      "Vinst: 0:-\n",
      " \n",
      "Vinst: 0:-\n",
      " \n",
      "Vinst: 0:-\n",
      " \n",
      "Vinst: 0:-\n",
      "\n"
     ]
    }
   ],
   "source": [
    "print(*Stefans_madhouse.play())"
   ]
  },
  {
   "cell_type": "code",
   "execution_count": 7,
   "metadata": {},
   "outputs": [
    {
     "name": "stdout",
     "output_type": "stream",
     "text": [
      "133:-\n"
     ]
    }
   ],
   "source": [
    "print(*Stefans_madhouse.credits())"
   ]
  },
  {
   "cell_type": "code",
   "execution_count": 8,
   "metadata": {},
   "outputs": [
    {
     "name": "stdout",
     "output_type": "stream",
     "text": [
      "\n",
      "Vinst: 0:-\n",
      " \n",
      "Vinst: 0:-\n",
      " \n",
      "Vinst: 0:-\n",
      " \n",
      "Vinst: 0:-\n",
      " \n",
      "Vinst: 0:-\n",
      " \n",
      "Vinst: 0:-\n",
      " \n",
      "Vinst: 0:-\n",
      " \n",
      "Vinst: 0:-\n",
      "\n"
     ]
    }
   ],
   "source": [
    "print(*Benny_The_King.play())"
   ]
  },
  {
   "cell_type": "code",
   "execution_count": 10,
   "metadata": {},
   "outputs": [
    {
     "name": "stdout",
     "output_type": "stream",
     "text": [
      "\n",
      "Inte tillräckligt med krediter\n"
     ]
    }
   ],
   "source": [
    "print(*Benny_The_King.play())"
   ]
  },
  {
   "cell_type": "code",
   "execution_count": 11,
   "metadata": {},
   "outputs": [
    {
     "name": "stdout",
     "output_type": "stream",
     "text": [
      "0:-\n"
     ]
    }
   ],
   "source": [
    "print(*Benny_The_King.credits())"
   ]
  },
  {
   "cell_type": "code",
   "execution_count": 12,
   "metadata": {},
   "outputs": [
    {
     "name": "stdout",
     "output_type": "stream",
     "text": [
      "\n",
      "Vinst: 0:-\n",
      " \n",
      "Vinst: 0:-\n",
      " \n",
      "Vinst: 92:-\n",
      " \n",
      "Vinst: 0:-\n",
      " \n",
      "Vinst: 0:-\n",
      " \n",
      "Vinst: 0:-\n",
      " \n",
      "Vinst: 0:-\n",
      " \n",
      "Vinst: 0:-\n",
      "\n"
     ]
    }
   ],
   "source": [
    "print(*The_army_of_Jonsson.play())"
   ]
  },
  {
   "cell_type": "code",
   "execution_count": 13,
   "metadata": {},
   "outputs": [
    {
     "name": "stdout",
     "output_type": "stream",
     "text": [
      "\n",
      "Vinst: 0:-\n",
      " \n",
      "Vinst: 0:-\n",
      " \n",
      "Vinst: 0:-\n",
      " \n",
      "Vinst: 0:-\n",
      " \n",
      "Vinst: 0:-\n",
      " \n",
      "Vinst: 0:-\n",
      " \n",
      "Vinst: 0:-\n",
      " \n",
      "Vinst: 24:-\n",
      "\n"
     ]
    }
   ],
   "source": [
    "print(*The_army_of_Jonsson.play())"
   ]
  },
  {
   "cell_type": "code",
   "execution_count": 14,
   "metadata": {},
   "outputs": [
    {
     "name": "stdout",
     "output_type": "stream",
     "text": [
      "\n",
      "Vinst: 0:-\n",
      " \n",
      "Vinst: 0:-\n",
      " \n",
      "Vinst: 0:-\n",
      " \n",
      "Vinst: 0:-\n",
      " \n",
      "Vinst: 0:-\n",
      " \n",
      "Vinst: 0:-\n",
      " \n",
      "Vinst: 0:-\n",
      " \n",
      "Vinst: 0:-\n",
      "\n"
     ]
    }
   ],
   "source": [
    "print(*The_army_of_Jonsson.play())"
   ]
  },
  {
   "cell_type": "code",
   "execution_count": 15,
   "metadata": {},
   "outputs": [],
   "source": [
    "Stefans_madhouse.deposit=100"
   ]
  },
  {
   "cell_type": "code",
   "execution_count": 16,
   "metadata": {},
   "outputs": [],
   "source": [
    "Stefans_madhouse.bet=5"
   ]
  },
  {
   "cell_type": "code",
   "execution_count": 17,
   "metadata": {},
   "outputs": [],
   "source": [
    "Stefans_madhouse.number_of_attempts=5"
   ]
  },
  {
   "cell_type": "code",
   "execution_count": 18,
   "metadata": {},
   "outputs": [
    {
     "name": "stdout",
     "output_type": "stream",
     "text": [
      "100:-\n"
     ]
    }
   ],
   "source": [
    "print(*Stefans_madhouse.credits())"
   ]
  },
  {
   "cell_type": "code",
   "execution_count": 19,
   "metadata": {},
   "outputs": [
    {
     "name": "stdout",
     "output_type": "stream",
     "text": [
      "\n",
      "Vinst: 0:-\n",
      " \n",
      "Vinst: 0:-\n",
      " \n",
      "Vinst: 0:-\n",
      " \n",
      "Vinst: 0:-\n",
      " \n",
      "Vinst: 0:-\n",
      " \n",
      "Vinst: 0:-\n",
      " \n",
      "Vinst: 0:-\n",
      " \n",
      "Vinst: 0:-\n",
      "\n"
     ]
    }
   ],
   "source": [
    "print(*The_army_of_Jonsson.play())"
   ]
  },
  {
   "cell_type": "code",
   "execution_count": 20,
   "metadata": {},
   "outputs": [
    {
     "name": "stdout",
     "output_type": "stream",
     "text": [
      "\n",
      "Vinst: 0:-\n",
      " \n",
      "Vinst: 0:-\n",
      " \n",
      "Vinst: 0:-\n",
      " \n",
      "Vinst: 0:-\n",
      " \n",
      "Vinst: 9:-\n",
      " \n",
      "Vinst: 0:-\n",
      " \n",
      "Vinst: 3:-\n",
      " \n",
      "Vinst: 13:-\n",
      "\n"
     ]
    }
   ],
   "source": [
    "print(*The_army_of_Jonsson.play())"
   ]
  },
  {
   "cell_type": "code",
   "execution_count": 21,
   "metadata": {},
   "outputs": [
    {
     "name": "stdout",
     "output_type": "stream",
     "text": [
      "\n",
      "Vinst: 0:-\n",
      " \n",
      "Vinst: 0:-\n",
      " \n",
      "Vinst: 0:-\n",
      " \n",
      "Vinst: 0:-\n",
      " \n",
      "Vinst: 73:-\n",
      " \n",
      "Vinst: 0:-\n",
      " \n",
      "Vinst: 52:-\n",
      " \n",
      "Vinst: 0:-\n",
      "\n"
     ]
    }
   ],
   "source": [
    "print(*The_army_of_Jonsson.play())"
   ]
  },
  {
   "cell_type": "code",
   "execution_count": 22,
   "metadata": {},
   "outputs": [
    {
     "name": "stdout",
     "output_type": "stream",
     "text": [
      "0:-\n"
     ]
    }
   ],
   "source": [
    "print(*Benny_The_King.credits())"
   ]
  },
  {
   "cell_type": "code",
   "execution_count": 28,
   "metadata": {},
   "outputs": [],
   "source": [
    "Benny_The_King.deposit=20"
   ]
  },
  {
   "cell_type": "code",
   "execution_count": 29,
   "metadata": {},
   "outputs": [],
   "source": [
    "Benny_The_King.bet=5"
   ]
  },
  {
   "cell_type": "code",
   "execution_count": 30,
   "metadata": {},
   "outputs": [],
   "source": [
    "Benny_The_King.number_of_attempts=1"
   ]
  },
  {
   "cell_type": "code",
   "execution_count": 31,
   "metadata": {},
   "outputs": [
    {
     "name": "stdout",
     "output_type": "stream",
     "text": [
      "\n",
      "Vinst: 0:-\n",
      "\n"
     ]
    }
   ],
   "source": [
    "print(*Benny_The_King.play())"
   ]
  },
  {
   "cell_type": "code",
   "execution_count": 32,
   "metadata": {},
   "outputs": [
    {
     "name": "stdout",
     "output_type": "stream",
     "text": [
      "\n",
      "Vinst: 0:-\n",
      "\n"
     ]
    }
   ],
   "source": [
    "print(*Benny_The_King.play())"
   ]
  },
  {
   "cell_type": "code",
   "execution_count": 33,
   "metadata": {},
   "outputs": [
    {
     "name": "stdout",
     "output_type": "stream",
     "text": [
      "\n",
      "Vinst: 0:-\n",
      "\n"
     ]
    }
   ],
   "source": [
    "print(*Benny_The_King.play())"
   ]
  },
  {
   "cell_type": "code",
   "execution_count": 34,
   "metadata": {},
   "outputs": [
    {
     "name": "stdout",
     "output_type": "stream",
     "text": [
      "\n",
      "Game Over. Mata in mera pengar i maskinen\n"
     ]
    }
   ],
   "source": [
    "print(*Benny_The_King.play())"
   ]
  }
 ],
 "metadata": {
  "kernelspec": {
   "display_name": "Python 3",
   "language": "python",
   "name": "python3"
  },
  "language_info": {
   "codemirror_mode": {
    "name": "ipython",
    "version": 3
   },
   "file_extension": ".py",
   "mimetype": "text/x-python",
   "name": "python",
   "nbconvert_exporter": "python",
   "pygments_lexer": "ipython3",
   "version": "3.9.1"
  }
 },
 "nbformat": 4,
 "nbformat_minor": 4
}
