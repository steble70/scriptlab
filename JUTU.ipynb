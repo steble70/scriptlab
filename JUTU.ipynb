{
 "cells": [
  {
   "cell_type": "markdown",
   "metadata": {},
   "source": [
    "# **Programutveckling med JupyterLab** #\n",
    "#### © 2025 Stefan Blecko, 070-6445868  \n",
    "\n",
    "---"
   ]
  },
  {
   "cell_type": "markdown",
   "metadata": {},
   "source": [
    "## **Vad är JupyterLab**\n",
    "* JupyterLab är ett mellanting mellan en editor och ett shell.\n",
    "* JupyterLab är skrivet i Python och körs i din webbläsare.\n",
    "* Filerna som skapas i JupyterLab kallas Notebooks och sparas som vanliga textfiler (i JSON format).\n",
    "* Du kan dela din Notebooks med andra med [nbviewer](https://nbviewer.jupyter.org).\n",
    "* Förutom Python kan man också använda andra [programmeringspråk](https://github.com/jupyter/jupyter/wiki/Jupyter-kernels) i JupyterLab.\n",
    "* Dokumentationen till JupyterLab finns [här](https://jupyterlab.readthedocs.io/en/stable).\n",
    "* Installation (från PowerShell eller CMD): `pip install jupyterlab`.\n",
    "* Starta JupyterLab (från PowerShell eller CMD): `jupyter lab`.\n",
    "\n"
   ]
  },
  {
   "cell_type": "markdown",
   "metadata": {},
   "source": [
    "## **Skapa en projektmapp**"
   ]
  },
  {
   "cell_type": "code",
   "execution_count": 1,
   "metadata": {},
   "outputs": [
    {
     "name": "stdout",
     "output_type": "stream",
     "text": [
      "C:\\Users\\steble70\n"
     ]
    }
   ],
   "source": [
    "cd ~"
   ]
  },
  {
   "cell_type": "code",
   "execution_count": 2,
   "metadata": {},
   "outputs": [],
   "source": [
    "mkdir rollspelstärningen"
   ]
  },
  {
   "cell_type": "code",
   "execution_count": 3,
   "metadata": {},
   "outputs": [
    {
     "name": "stdout",
     "output_type": "stream",
     "text": [
      "C:\\Users\\steble70\\rollspelstärningen\n"
     ]
    }
   ],
   "source": [
    "cd rollspelstärningen"
   ]
  },
  {
   "cell_type": "markdown",
   "metadata": {},
   "source": [
    "## **Code cells**\n",
    "#### I *code cells* skriver man in själva koden. För att köra koden: **Shift + Enter**."
   ]
  },
  {
   "cell_type": "code",
   "execution_count": 4,
   "metadata": {},
   "outputs": [
    {
     "name": "stdout",
     "output_type": "stream",
     "text": [
      "1T4+0: 2 = 2 + 0 = 2\n",
      "5T6+6: 3, 3, 4, 5, 1 = 16 + 6 = 22\n",
      "4T20+5: 3, 2, 18, 8 = 31 + 5 = 36\n",
      "1T8+0: 2 = 2 + 0 = 2\n"
     ]
    }
   ],
   "source": [
    "# rollspelstärningen 0.1 av Stefan Blecko.\n",
    "\n",
    "import random\n",
    "\n",
    "class Dice:\n",
    "    \"\"\"\n",
    "    A class representing a dice object.\n",
    "    \n",
    "    Attributes:\n",
    "    number (int): How many dice.\n",
    "    side (int): Type of dice.\n",
    "    \n",
    "    Methods:\n",
    "    roll(sconstant=0): Roll the dice.\n",
    "    \"\"\"\n",
    "    def __init__(self, number=1, side=20):\n",
    "        self.number = number\n",
    "        self.side = side\n",
    "\n",
    "    def roll(self, constant=0):\n",
    "        \"\"\"\n",
    "        Roll the dice\n",
    "        \n",
    "        Returns:\n",
    "        The sum of all the dice.\n",
    "        \"\"\"\n",
    "        l = lambda: random.randint(1, self.side)\n",
    "        dice_list = []\n",
    "        for item in range(1, self.number + 1):\n",
    "            dice_list.append(l())\n",
    "        return f\"{self.number}T{self.side}+{constant}: {str(dice_list).lstrip('[').rstrip(']')} \\\n",
    "= {sum(dice_list)} + {constant} = {sum(dice_list) + constant}\"\n",
    "\n",
    "\n",
    "one_d4 = Dice(1, 4)\n",
    "five_d6 = Dice(5, 6)\n",
    "four_d20 = Dice(4, 20)\n",
    "one_d8 = Dice(1, 8)\n",
    "print(one_d4.roll())\n",
    "print(five_d6.roll(6))\n",
    "print(four_d20.roll(5))\n",
    "print(one_d8.roll())"
   ]
  },
  {
   "cell_type": "code",
   "execution_count": 5,
   "metadata": {},
   "outputs": [
    {
     "name": "stdout",
     "output_type": "stream",
     "text": [
      "The following commands were written to file `rollspelstärningen.py`:\n",
      "# rollspelstärningen 0.1 av Stefan Blecko.\n",
      "\n",
      "import random\n",
      "\n",
      "class Dice:\n",
      "    \"\"\"\n",
      "    A class representing a dice object.\n",
      "    \n",
      "    Attributes:\n",
      "    number (int): How many dice.\n",
      "    side (int): Type of dice.\n",
      "    \n",
      "    Methods:\n",
      "    roll(sconstant=0): Roll the dice.\n",
      "    \"\"\"\n",
      "    def __init__(self, number=1, side=20):\n",
      "        self.number = number\n",
      "        self.side = side\n",
      "\n",
      "    def roll(self, constant=0):\n",
      "        \"\"\"\n",
      "        Roll the dice\n",
      "        \n",
      "        Returns:\n",
      "        The sum of all the dice.\n",
      "        \"\"\"\n",
      "        l = lambda: random.randint(1, self.side)\n",
      "        dice_list = []\n",
      "        for item in range(1, self.number + 1):\n",
      "            dice_list.append(l())\n",
      "        return f\"{self.number}T{self.side}+{constant}: {str(dice_list).lstrip('[').rstrip(']')} \\\n",
      "= {sum(dice_list)} + {constant} = {sum(dice_list) + constant}\"\n",
      "\n",
      "\n",
      "one_d4 = Dice(1, 4)\n",
      "five_d6 = Dice(5, 6)\n",
      "four_d20 = Dice(4, 20)\n",
      "one_d8 = Dice(1, 8)\n",
      "print(one_d4.roll())\n",
      "print(five_d6.roll(6))\n",
      "print(four_d20.roll(5))\n",
      "print(one_d8.roll())\n"
     ]
    }
   ],
   "source": [
    "%save -r -f rollspelstärningen.py 4"
   ]
  },
  {
   "cell_type": "markdown",
   "metadata": {},
   "source": [
    "## **Shell kommandon**\n",
    "#### Med ! operatorn kan man även köra shell kommandon i JupyterLab."
   ]
  },
  {
   "cell_type": "code",
   "execution_count": 6,
   "metadata": {},
   "outputs": [
    {
     "name": "stderr",
     "output_type": "stream",
     "text": [
      "reformatted rollspelstärningen.py\n",
      "\n",
      "All done! \\u2728 \\U0001f370 \\u2728\n",
      "1 file reformatted.\n"
     ]
    }
   ],
   "source": [
    "!black rollspelstärningen.py"
   ]
  },
  {
   "cell_type": "code",
   "execution_count": 7,
   "metadata": {},
   "outputs": [
    {
     "name": "stdout",
     "output_type": "stream",
     "text": [
      "rollspelstärningen.py:30:9: E731 do not assign a lambda expression, use a def\n",
      "        l = lambda: random.randint(1, self.side)\n",
      "        ^\n",
      "    Compound statements (on the same line) are generally\n",
      "    discouraged.\n",
      "\n",
      "    While sometimes it's okay to put an if/for/while with a small body\n",
      "    on the same line, never do this for multi-clause statements.\n",
      "    Also avoid folding such long lines!\n",
      "\n",
      "    Always use a def statement instead of an assignment statement that\n",
      "    binds a lambda expression directly to a name.\n",
      "\n",
      "    Okay: if foo == 'blah':\\n    do_blah_thing()\n",
      "    Okay: do_one()\n",
      "    Okay: do_two()\n",
      "    Okay: do_three()\n",
      "\n",
      "    E701: if foo == 'blah': do_blah_thing()\n",
      "    E701: for x in lst: total += x\n",
      "    E701: while t < 10: t = delay()\n",
      "    E701: if foo == 'blah': do_blah_thing()\n",
      "    E701: else: do_non_blah_thing()\n",
      "    E701: try: something()\n",
      "    E701: finally: cleanup()\n",
      "    E701: if foo == 'blah': one(); two(); three()\n",
      "    E702: do_one(); do_two(); do_three()\n",
      "    E703: do_four();  # useless semicolon\n",
      "    E704: def f(x): return 2*x\n",
      "    E731: f = lambda x: 2*x\n",
      "rollspelstärningen.py:30:9: E741 ambiguous variable name 'l'\n",
      "        l = lambda: random.randint(1, self.side)\n",
      "        ^\n",
      "    Never use the characters 'l', 'O', or 'I' as variable names.\n",
      "\n",
      "    In some fonts, these characters are indistinguishable from the\n",
      "    numerals one and zero. When tempted to use 'l', use 'L' instead.\n",
      "\n",
      "    Okay: L = 0\n",
      "    Okay: o = 123\n",
      "    Okay: i = 42\n",
      "    E741: l = 0\n",
      "    E741: O = 123\n",
      "    E741: I = 42\n",
      "\n",
      "    Variables can be bound in several other contexts, including class\n",
      "    and function definitions, lambda functions, 'global' and 'nonlocal'\n",
      "    statements, exception handlers, and 'with' and 'for' statements.\n",
      "    In addition, we have a special handling for function parameters.\n",
      "\n",
      "    Okay: except AttributeError as o:\n",
      "    Okay: with lock as L:\n",
      "    Okay: foo(l=12)\n",
      "    Okay: foo(l=I)\n",
      "    Okay: for a in foo(l=12):\n",
      "    Okay: lambda arg: arg * l\n",
      "    Okay: lambda a=l[I:5]: None\n",
      "    Okay: lambda x=a.I: None\n",
      "    Okay: if l >= 12:\n",
      "    E741: except AttributeError as O:\n",
      "    E741: with lock as l:\n",
      "    E741: global I\n",
      "    E741: nonlocal l\n",
      "    E741: def foo(l):\n",
      "    E741: def foo(l=12):\n",
      "    E741: l = foo(l=12)\n",
      "    E741: for l in range(10):\n",
      "    E741: [l for l in lines if l]\n",
      "    E741: lambda l: None\n",
      "    E741: lambda a=x[1:5], l: None\n",
      "    E741: lambda **l:\n",
      "    E741: def f(**l):\n",
      "    E742: class I(object):\n",
      "    E743: def l(x):\n",
      "rollspelstärningen.py:34:80: E501 line too long (97 > 79 characters)\n",
      "        return f\"{self.number}T{self.side}+{constant}: {str(dice_list).lstrip('[').rstrip(']')} \\\n",
      "                                                                               ^\n",
      "    Limit all lines to a maximum of 79 characters.\n",
      "\n",
      "    There are still many devices around that are limited to 80 character\n",
      "    lines; plus, limiting windows to 80 characters makes it possible to\n",
      "    have several windows side-by-side.  The default wrapping on such\n",
      "    devices looks ugly.  Therefore, please limit all lines to a maximum\n",
      "    of 79 characters. For flowing long blocks of text (docstrings or\n",
      "    comments), limiting the length to 72 characters is recommended.\n",
      "\n",
      "    Reports error E501.\n",
      "rollspelstärningen.py:34:80: E501 line too long (97 > 79 characters)\n",
      "        return f\"{self.number}T{self.side}+{constant}: {str(dice_list).lstrip('[').rstrip(']')} \\\n",
      "                                                                               ^\n",
      "    Limit all lines to a maximum of 79 characters.\n",
      "\n",
      "    There are still many devices around that are limited to 80 character\n",
      "    lines; plus, limiting windows to 80 characters makes it possible to\n",
      "    have several windows side-by-side.  The default wrapping on such\n",
      "    devices looks ugly.  Therefore, please limit all lines to a maximum\n",
      "    of 79 characters. For flowing long blocks of text (docstrings or\n",
      "    comments), limiting the length to 72 characters is recommended.\n",
      "\n",
      "    Reports error E501.\n"
     ]
    }
   ],
   "source": [
    "!pycodestyle --show-source --show-pep8 rollspelstärningen.py"
   ]
  },
  {
   "cell_type": "code",
   "execution_count": 8,
   "metadata": {},
   "outputs": [
    {
     "name": "stdout",
     "output_type": "stream",
     "text": [
      "************* Module rollspelstärningen\n",
      "rollspelstärningen.py:1:0: C0114: Missing module docstring (missing-module-docstring)\n",
      "rollspelstärningen.py:1:0: W2402: File name \"rollspelstärningen\" contains a non-ASCII character. (non-ascii-file-name)\n",
      "rollspelstärningen.py:30:12: C3001: Lambda expression assigned to a variable. Define a function using the \"def\" keyword instead. (unnecessary-lambda-assignment)\n",
      "rollspelstärningen.py:32:12: W0612: Unused variable 'item' (unused-variable)\n",
      "rollspelstärningen.py:7:0: R0903: Too few public methods (1/2) (too-few-public-methods)\n",
      "\n",
      "------------------------------------------------------------------\n",
      "Your code has been rated at 7.37/10 (previous run: 7.50/10, -0.13)\n",
      "\n"
     ]
    }
   ],
   "source": [
    "!pylint rollspelstärningen.py"
   ]
  },
  {
   "cell_type": "markdown",
   "metadata": {
    "scrolled": true
   },
   "source": [
    "## **Magic functions**\n",
    "#### Magic functions är inbyggda kommandon i JupyterLab. Ex på kommandon:\n",
    "\n",
    "|          |           | \n",
    "|----------|-----------|\n",
    "|%quickref |%load      | \n",
    "|%env      |%%writefile| \n",
    "|%history  |%alias     | \n",
    "|%run      |%lsmagic   |  \n",
    "|%save     |%pinfo     |\n"
   ]
  },
  {
   "cell_type": "code",
   "execution_count": 9,
   "metadata": {},
   "outputs": [
    {
     "data": {
      "text/plain": [
       "\u001b[31mDocstring:\u001b[39m\n",
       "Provide detailed information about an object.\n",
       "\n",
       "'%pinfo object' is just a synonym for object? or ?object.\n",
       "\u001b[31mFile:\u001b[39m      c:\\users\\steble70\\appdata\\local\\programs\\python\\python312\\lib\\site-packages\\ipython\\core\\magics\\namespace.py"
      ]
     },
     "metadata": {},
     "output_type": "display_data"
    }
   ],
   "source": [
    "%pinfo?"
   ]
  },
  {
   "cell_type": "code",
   "execution_count": 10,
   "metadata": {},
   "outputs": [
    {
     "data": {
      "text/plain": [
       "\u001b[31mDocstring:\u001b[39m List currently available magic functions.\n",
       "\u001b[31mFile:\u001b[39m      c:\\users\\steble70\\appdata\\local\\programs\\python\\python312\\lib\\site-packages\\ipython\\core\\magics\\basic.py"
      ]
     },
     "metadata": {},
     "output_type": "display_data"
    }
   ],
   "source": [
    "%lsmagic?"
   ]
  },
  {
   "cell_type": "markdown",
   "metadata": {},
   "source": [
    "## **Debugging i Jupyterlab**\n",
    "1. **Identifiera problemet/läs igenom Tracebacks** först.\n",
    "2. **Aktivera Debuggern**:. För att aktivera debuggern, gå till “View” -> “Show Log Console”. Du kan också använda genvägen **Ctrl + Shift + L**. Se [JupyterLabs dokumentation](https://jupyterlab.readthedocs.io/en/stable/user/debugger.html) för mer information.\n",
    "3. **Sätt Breakpoints**: Du kan sätta breakpoints genom att klicka på radnumret i cellen där du vill att koden ska stoppa.\n",
    "4. **Kör Koden**: Kör cellen eller hela notebook med “Run” -> “Run Selected Cells” eller “Run All Cells”. Koden kommer att stoppa vid din breakpoint.\n",
    "5. **Använd Debuggern**: När koden stoppar vid en breakpoint, kan du använda debuggern för att stega igenom koden, inspektera variabler, etc.\n",
    "6. **Avsluta Debuggern**: När du är klar med debugging, kan du stänga debuggern genom att klicka på “Stop” i debuggerns kontrollpanel."
   ]
  },
  {
   "cell_type": "markdown",
   "metadata": {},
   "source": [
    "## **HTML sidor i Jupyterlab**"
   ]
  },
  {
   "cell_type": "code",
   "execution_count": 11,
   "metadata": {},
   "outputs": [],
   "source": [
    "from IPython.display import IFrame, SVG"
   ]
  },
  {
   "cell_type": "code",
   "execution_count": 12,
   "metadata": {},
   "outputs": [
    {
     "data": {
      "text/html": [
       "\n",
       "        <iframe\n",
       "            width=\"900\"\n",
       "            height=\"500\"\n",
       "            src=\"https://copilot.microsoft.com\"\n",
       "            frameborder=\"0\"\n",
       "            allowfullscreen\n",
       "            \n",
       "        ></iframe>\n",
       "        "
      ],
      "text/plain": [
       "<IPython.lib.display.IFrame at 0x109e7aa4260>"
      ]
     },
     "metadata": {},
     "output_type": "display_data"
    }
   ],
   "source": [
    "display(IFrame(\"https://copilot.microsoft.com\", 900, 500))"
   ]
  },
  {
   "cell_type": "markdown",
   "metadata": {},
   "source": [
    "## **Markdown cells**\n",
    "#### Markdown är ett formateringsspråk som genererar HTML i dina Notebooks. I JupyterLab kan man ha Markdown celler. Nedan visas vad man kan göra i Markdown celler.\n",
    "* **Fet** stil\n",
    "* *Kursiv* stil\n",
    "* ~~Genomstruken~~\n",
    "* Länkar: [Markdown Guide](https://www.markdownguide.org/)\n",
    "* Syntax highlighting\n",
    "* Codeblock\n",
    "\n",
    "```powershell\n",
    "# Exekvera Python filer inuti PowerShell skript. Exempel av Stefan Blecko.\n",
    "function Import-PythonCode {\n",
    "    Set-Location $env:USERPROFILE\\Documents\\PowerShell\\\n",
    "    $pyfiles = Get-ChildItem *.py -Name\n",
    "    if ($pyfiles) {\n",
    "        foreach ($p in $pyfiles) {\n",
    "            & python $p\n",
    "        }\n",
    "    }\n",
    "}\n",
    "\n",
    "# Exempel 2: Kryptera filer i PowerShell.\n",
    "New-Alias -Name \"New-GPG\" gpg.exe  \n",
    "New-GPG New-GPG -c --no-symkey-cache .\\hemliga_filen.odt\n",
    "```\n",
    "\n",
    "* Punktlista  \n",
    "    Mina kvalitéer som IT-tekniker:  \n",
    "    * IT kunskaper och erfarenheter från flera olika företag och myndigheter. \n",
    "    * Jag handledde/utbildade nyanställda IT-tekniker på Militärhögskolan Karlberg.\n",
    "    * Aktuella IT kunskaper (MS-900 och SC-900 certifierad).\n",
    "* Linje \n",
    "\n",
    "---\n",
    "\n",
    "* `Inline code`\n",
    "* Man kan även ha bildfiler i Notebooks (.jpg tex)\n",
    "\n",
    "    ![ThePicture_small](ThePicture31_small.jpg)\n",
    "\n",
    "* Blockquote\n",
    "\n",
    "> #### *”Stefan är känd av de anställda vid Militärhögskolan Karlberg som en kunnig nätverkstekniker.”*\n"
   ]
  },
  {
   "cell_type": "markdown",
   "metadata": {},
   "source": [
    "## **JupyterLabs shortcuts**\n",
    "* **TAB** - Completion\n",
    "* **Shift + TAB** - Tool tip\n",
    "* **?** - Invoke help\n",
    "* **Shift + Enter** - Execute cell\n",
    "* **Alt + Enter** - Execute cell + new cell below\n",
    "* **Shift + O** - Newline (endast IPython)\n",
    "* **Alt + Höger musknapp** - Markera text vertikalt \n",
    "* **DD** - Delete cells \n",
    "* **A** - Insert cell Above\n",
    "* **B** - Insert cell Below\n",
    "* **K** - Select cell above\n",
    "* **J** - Select cell below\n",
    "* **Shift + L** - Toggle Line Number\n",
    "* **II** -Interrupt kernel (samma som Ctrl + C)\n",
    "* **Ctrl + +** - increase font size\n",
    "* **Ctrl + Shift + H** - Show Keybord Shortcuts"
   ]
  }
 ],
 "metadata": {
  "kernelspec": {
   "display_name": "Python 3 (ipykernel)",
   "language": "python",
   "name": "python3"
  },
  "language_info": {
   "codemirror_mode": {
    "name": "ipython",
    "version": 3
   },
   "file_extension": ".py",
   "mimetype": "text/x-python",
   "name": "python",
   "nbconvert_exporter": "python",
   "pygments_lexer": "ipython3",
   "version": "3.12.2"
  }
 },
 "nbformat": 4,
 "nbformat_minor": 4
}
