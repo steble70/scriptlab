{
 "cells": [
  {
   "cell_type": "markdown",
   "id": "0b299ba7-6aa8-4267-9029-ea261d2b42cd",
   "metadata": {},
   "source": [
    "# **mapy.py - Matte är Python**\n",
    "## *Träna huvudräkning med Python*\n",
    "#### Version 0.1test (C) 2023 av Stefan Blecko\n",
    "\n",
    "Andra försöket att göra någonting med matematik med Python. Skripet funkar \n",
    "visserligen, men är kanske inte den bästa implementeringen.\n",
    "\n",
    "**CV: [LinkedIn](https://se.linkedin.com/in/stefan70) | [Arbetsomdöme](https://github.com/steble70/scriptlab/blob/master/Blecko_Stefan_Arbetsbetyg.pdf) | Portfolio: [GitHub](https://github.com/steble70/scriptlab) |\n",
    "[IT kompetenser 1](https://github.com/steble70/scriptlab/blob/master/CV-2021.ipynb)** "
   ]
  },
  {
   "cell_type": "code",
   "execution_count": 1,
   "id": "d06f8356-f5e2-489e-8b06-b62b26419e2a",
   "metadata": {
    "tags": []
   },
   "outputs": [],
   "source": [
    "import random\n",
    "import time\n",
    "from pathlib import Path\n",
    "\n",
    "savedir = Path().home()"
   ]
  },
  {
   "cell_type": "code",
   "execution_count": 2,
   "id": "12901b1b-a3fc-4d52-b371-3ea249bf7299",
   "metadata": {
    "tags": []
   },
   "outputs": [],
   "source": [
    "def num_selection():\n",
    "    eighty_procent = random.randint(3, 10)\n",
    "    twenty_procent = random.randint(0, 2)\n",
    "    selection = [eighty_procent, eighty_procent, eighty_procent, eighty_procent,\n",
    "                 eighty_procent, eighty_procent, eighty_procent, eighty_procent,\n",
    "                 twenty_procent, twenty_procent]\n",
    "    return random.choice(selection)"
   ]
  },
  {
   "cell_type": "code",
   "execution_count": 3,
   "id": "7bc0a130-ac19-4805-8b66-4fff6b31f639",
   "metadata": {
    "tags": []
   },
   "outputs": [],
   "source": [
    "def num1():\n",
    "    return str(num_selection())\n",
    "\n",
    "def num2():\n",
    "    return str(num_selection())\n",
    "\n",
    "def operator():\n",
    "    group1 = random.choice(['+', '-', '/'])\n",
    "    group2 = '*'\n",
    "    group1_and_group2 = [group1, group2]\n",
    "    return random.choice(group1_and_group2)"
   ]
  },
  {
   "cell_type": "code",
   "execution_count": 4,
   "id": "a0ada972-7277-4d39-bf99-60bc20df93ad",
   "metadata": {},
   "outputs": [],
   "source": [
    "def save_highscore(s=0):\n",
    "    with open(savedir.joinpath(\"highscore\"), \"a\", encoding=\"utf-8\") as sfile:\n",
    "        sfile.write(str(s))\n",
    "        sfile.write(' ')\n",
    "        return sfile.close()"
   ]
  },
  {
   "cell_type": "code",
   "execution_count": 5,
   "id": "0988cff1-6f34-49ca-b8df-f021860fe63e",
   "metadata": {
    "tags": []
   },
   "outputs": [],
   "source": [
    "def load_highscore():\n",
    "    with open(savedir.joinpath(\"highscore\"), \"r\", encoding=\"utf-8\") as lfile:\n",
    "        sb = lfile.read()\n",
    "        string2list = [int(item) for item in sb.split()]\n",
    "        return sum(string2list)"
   ]
  },
  {
   "cell_type": "code",
   "execution_count": 6,
   "id": "eb4a8620-9fd7-4d3b-9525-82554d4bdb34",
   "metadata": {
    "tags": []
   },
   "outputs": [],
   "source": [
    "def assemble_numbers():\n",
    "    while True:\n",
    "        try:\n",
    "            o1 = num1() + str(operator()) + num2()\n",
    "            o2 = num1() + str(operator()) + num2() + str(operator()) + num1() + \\\n",
    "            str(operator()) + num1()\n",
    "            o3 = [o1, o2]\n",
    "            o4 = random.choice(o3)\n",
    "            r = eval(o4)\n",
    "            break\n",
    "        except ZeroDivisionError:\n",
    "            pass\n",
    "    return dict({o4: round(r, 2)})"
   ]
  },
  {
   "cell_type": "code",
   "execution_count": null,
   "id": "c01c7714-bfec-403e-ab22-79b93e336cba",
   "metadata": {
    "tags": []
   },
   "outputs": [],
   "source": [
    "def main():\n",
    "    try:\n",
    "        print('Senaste poäng:',load_highscore())\n",
    "        delete_hsfile = savedir.joinpath(\"highscore\")\n",
    "        delete_hsfile.unlink()\n",
    "    except FileNotFoundError:\n",
    "        pass\n",
    "    d = {}\n",
    "    for item in range(1, random.randint(1, 10)):\n",
    "        d.update(assemble_numbers())\n",
    "\n",
    "    for k, v in d.items():\n",
    "        while True:\n",
    "            try:\n",
    "                user_input = float(input('\\n{}='.format(k)))\n",
    "                break\n",
    "            except ValueError:\n",
    "                pass\n",
    "        if user_input == v:\n",
    "            print('Rätt!')\n",
    "            save_highscore(2)\n",
    "        else:\n",
    "            print(f'Fel! Rätt svar är {v}') # Att implementera: Du får bara göra 3 fel\n",
    "    try:\n",
    "        print('Du fick', load_highscore(), 'Poäng')\n",
    "    except FileNotFoundError:\n",
    "        print('Du fick 0 poäng')\n",
    "        \n",
    "if __name__ == \"__main__\":\n",
    "    main()"
   ]
  },
  {
   "cell_type": "raw",
   "id": "5a243856-9da5-4a81-8e81-424c898c0685",
   "metadata": {},
   "source": [
    "Senaste poäng: 4\n",
    "\n",
    "\n",
    "10*9= 90\n",
    "Rätt!\n",
    "\n",
    "4*3= 12\n",
    "Rätt!\n",
    "\n",
    "0/9*7*4= 0\n",
    "Rätt!\n",
    "\n",
    "3/9-8*0= 0\n",
    "Fel! Rätt svar är 0.33\n",
    "\n",
    "4/5= 0.9\n",
    "Fel! Rätt svar är 0.8\n",
    "\n",
    "5*8= 40\n",
    "Rätt!\n",
    "\n",
    "4*4/9+4= 4.6\n",
    "Fel! Rätt svar är 5.78\n",
    "\n",
    "5+5= 10\n",
    "Rätt!\n",
    "\n",
    "7/2+2*10= 23.5\n",
    "Rätt!\n",
    "Du fick 12 Poäng"
   ]
  },
  {
   "cell_type": "markdown",
   "id": "b9fbdd81-be4f-48da-bf04-5e5aa4d3dc3c",
   "metadata": {},
   "source": [
    "# **Läs mer om huvudräkning på:**\n",
    "![Matteboken](https://www.matteboken.se/Media/r3edmupc/matteboken_logo.svg)"
   ]
  }
 ],
 "metadata": {
  "kernelspec": {
   "display_name": "Python 3 (ipykernel)",
   "language": "python",
   "name": "python3"
  },
  "language_info": {
   "codemirror_mode": {
    "name": "ipython",
    "version": 3
   },
   "file_extension": ".py",
   "mimetype": "text/x-python",
   "name": "python",
   "nbconvert_exporter": "python",
   "pygments_lexer": "ipython3",
   "version": "3.11.2"
  }
 },
 "nbformat": 4,
 "nbformat_minor": 5
}
