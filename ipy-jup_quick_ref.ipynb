{
 "cells": [
  {
   "cell_type": "markdown",
   "metadata": {},
   "source": [
    "# **JupyterLab/IPython lathund**  \n",
    "#### © 2022 av Stefan Blecko, `070-6445868`  \n",
    "**[LinkedIn](https://se.linkedin.com/in/stefan70 \"se.linkedin.com/in/stefan70/\"), [GitHub](https://github.com/steble70/scriptlab \"github.com/steble70/scriptlab\")**"
   ]
  },
  {
   "cell_type": "markdown",
   "metadata": {},
   "source": [
    "## Kort om hur systemet är uppbyggd\n",
    "* JupyterLab är ett mellanting mellan en editor och ett shell\n",
    "* JupyterLab är skrivet i Python och körs i din webbläsare\n",
    "* Filerna som skapas i JupyterLab kallas Notebooks och sparas som vanliga textfiler (i JSON format)\n",
    "* Du kan dela din Notebooks med andra med [nbviewer](https://nbviewer.jupyter.org)\n",
    "* Du kan också använda andra programmeringspråk ([kernels](https://github.com/jupyter/jupyter/wiki/Jupyter-kernels)) än Python \n",
    "* Dokumentationen till JupyterLab finns [här](https://jupyterlab.readthedocs.io/en/stable).\n",
    "* Starta JupyterLab från PowerShell: jupyter lab\n",
    "* Installation (från PowerShell): pip install jupyterlab\n"
   ]
  },
  {
   "cell_type": "markdown",
   "metadata": {},
   "source": [
    "## Magic functions\n",
    "#### Magic functions är inbyggda kommandon i JupyterLab."
   ]
  },
  {
   "cell_type": "code",
   "execution_count": null,
   "metadata": {},
   "outputs": [],
   "source": [
    "%lsmagic\n",
    "# List currently available magic functions."
   ]
  },
  {
   "cell_type": "code",
   "execution_count": null,
   "metadata": {},
   "outputs": [],
   "source": [
    "# Listar alla miljövariabler\n",
    "%env"
   ]
  },
  {
   "cell_type": "code",
   "execution_count": null,
   "metadata": {},
   "outputs": [],
   "source": [
    "# Change directory\n",
    "%cd Desktop/pyTmp/"
   ]
  },
  {
   "cell_type": "code",
   "execution_count": null,
   "metadata": {},
   "outputs": [],
   "source": [
    "# Listar inputs\n",
    "%history -n 1-10 "
   ]
  },
  {
   "cell_type": "code",
   "execution_count": null,
   "metadata": {},
   "outputs": [],
   "source": [
    "# Run the named python file inside IPython/Jupyter as a program.\n",
    "%run"
   ]
  },
  {
   "cell_type": "code",
   "execution_count": null,
   "metadata": {},
   "outputs": [],
   "source": [
    "# Load code into the current frontend.\n",
    "%load file.py\n"
   ]
  },
  {
   "cell_type": "code",
   "execution_count": null,
   "metadata": {},
   "outputs": [],
   "source": [
    "# Activate the interactive debugger.\n",
    "%%debug"
   ]
  },
  {
   "cell_type": "code",
   "execution_count": null,
   "metadata": {},
   "outputs": [],
   "source": [
    "%%writefile junk.py\n",
    "# Write the contents of the cell to a file."
   ]
  },
  {
   "cell_type": "code",
   "execution_count": null,
   "metadata": {},
   "outputs": [],
   "source": [
    "%history -p -f myHistory.txt 22"
   ]
  },
  {
   "cell_type": "markdown",
   "metadata": {},
   "source": [
    "## Markdown cells\n",
    "#### Markdown är ett formateringsspråk som generar HTML i dina Notebooks. I JupyterLab kan man ha Markdown celler. Nedan visar jag vad man kan göra i Markdown celler.\n",
    "* **Fet** stil\n",
    "* *Kursiv* stil\n",
    "* ~~Genomstruken~~\n",
    "* [Länkar](https://github.com/steble70/scriptlab)\n",
    "* Syntax highlighting för en rad olika programmeringsspråk\n",
    "* Codeblock\n",
    "\n",
    "```powershell\n",
    "# Exekvera Python filer inuti PowerShell skript \n",
    "# Exempel av Stefan Blecko\n",
    "function Import-PythonCode {\n",
    "    Set-Location $env:USERPROFILE\\Documents\\PowerShell\\\n",
    "    $pyfiles = Get-ChildItem *.py -Name\n",
    "    if ($pyfiles) {\n",
    "        foreach ($p in $pyfiles) {\n",
    "            & python $p\n",
    "        }\n",
    "    }\n",
    "}\n",
    "\n",
    "# Exempel 2: Kryptera filer i PowerShell\n",
    "New-Alias -Name \"New-GPG\" gpg.exe  \n",
    "New-GPG New-GPG -c --no-symkey-cache .\\hemliga_filen.odt\n",
    "```\n",
    "* Blockquote\n",
    "> # ***\"Stefan är känd av de anställda vid Militärhögskolan Karlberg som en kunnig nätverkstekniker\"***\n",
    "* Punktlista  \n",
    "    Mina främsta kvalitéer som IT-tekniker:  \n",
    "    * Jag har IT kunskaper och erfarenheter från flera olika företag \n",
    "    * Jag handledde/utbildade nyanstälda IT-tekniker på Karlberg\n",
    "* Linje \n",
    "---\n",
    "* `Inline code` with backticks\n",
    "* Man kan även ha bildfiler i Notebooks (.jpg tex)\n",
    "\n",
    "    ![ThePicture31_small](/ThePicture31_small.jpg) "
   ]
  },
  {
   "cell_type": "markdown",
   "metadata": {},
   "source": [
    "# Shortcuts ##\n",
    "* **TAB** - Completion\n",
    "* **Shift + TAB** - Tool tip\n",
    "* **?** - Invoke help\n",
    "* **Shift + Enter** - Execute cell\n",
    "* **Alt + Enter** - Execute cell + new cell below\n",
    "* **Shift + O** - Newline (endast IPython)\n",
    "* **Alt + Höger musknapp** - Markera text vertikalt \n",
    "* **DD** - Delete cells \n",
    "* **A** - Insert cell Above\n",
    "* **B** - Insert cell Below\n",
    "* **K** - Select cell above\n",
    "* **J** - Select cell below\n",
    "* **Shift + L** - Toggle Line Number\n",
    "* **II** -Interrupt kernel (samma som Ctrl + C)\n",
    "* **Ctrl + +** - increase font size\n"
   ]
  },
  {
   "cell_type": "markdown",
   "metadata": {},
   "source": [
    "## Code cells\n",
    "#### Här skriver man in koden. För att köra koden: **Shift + Enter**"
   ]
  },
  {
   "cell_type": "code",
   "execution_count": 10,
   "metadata": {},
   "outputs": [
    {
     "name": "stdout",
     "output_type": "stream",
     "text": [
      "5T6+0: 5, 6, 3, 3, 6 = 23 + 0 = 23\n",
      "7T8+8: 8, 8, 2, 4, 6, 1, 1 = 30 + 8 = 38\n",
      "5T6+2: 3, 5, 3, 2, 5 = 18 + 2 = 20\n",
      "1T4+0: 1 = 1 + 0 = 1\n",
      "1T20+2: 3 = 3 + 2 = 5\n"
     ]
    }
   ],
   "source": [
    "# Rollspeltärningen 0.1\n",
    "# Ex av Stefan Blecko\n",
    "import random\n",
    "\n",
    "class Dice:\n",
    "    def __init__(self, number=1, side=20):\n",
    "        self.number = number\n",
    "        self.side = side\n",
    "    \n",
    "    def roll(self, constant=0):\n",
    "        l = lambda : random.randint(1, self.side)\n",
    "        dice_list = []\n",
    "        for item in range(1, self.number+1):\n",
    "            dice_list.append(l())\n",
    "        return f\"{self.number}T{self.side}+{constant}: {str(dice_list).lstrip('[').rstrip(']')} = {sum(dice_list)} + \\\n",
    "{constant} = {sum(dice_list) + constant}\"\n",
    "\n",
    "OneD4 = Dice(1, 4)    \n",
    "FiveD6 = Dice(5, 6)\n",
    "SevenD8 = Dice(7, 8)\n",
    "OneD20 = Dice()\n",
    "print(FiveD6.roll())\n",
    "print(SevenD8.roll(8))\n",
    "print(FiveD6.roll(2))\n",
    "print(OneD4.roll())\n",
    "print(OneD20.roll(2))"
   ]
  }
 ],
 "metadata": {
  "kernelspec": {
   "display_name": "Python 3 (ipykernel)",
   "language": "python",
   "name": "python3"
  },
  "language_info": {
   "codemirror_mode": {
    "name": "ipython",
    "version": 3
   },
   "file_extension": ".py",
   "mimetype": "text/x-python",
   "name": "python",
   "nbconvert_exporter": "python",
   "pygments_lexer": "ipython3",
   "version": "3.10.1"
  }
 },
 "nbformat": 4,
 "nbformat_minor": 4
}
