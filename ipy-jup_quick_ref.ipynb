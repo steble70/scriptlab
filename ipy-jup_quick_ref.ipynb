{
 "cells": [
  {
   "cell_type": "markdown",
   "metadata": {},
   "source": [
    "# JupyterLab/IPython lathund  \n",
    "#### © 2020 av Stefan Blecko, `070-6445868`  \n",
    "**[LinkedIn](https://se.linkedin.com/in/stefan70 \"se.linkedin.com/in/stefan70\"), [GitHub](https://github.com/steble70/scriptlab \"github.com/steble70/scriptlab\")**"
   ]
  },
  {
   "cell_type": "markdown",
   "metadata": {},
   "source": [
    "## Kort om hur systemet är uppbyggd\n",
    "* JupyterLab är ett mellanting mellan en editor och ett shell\n",
    "* JupyterLab är skrivet i Python och körs i din webbläsare\n",
    "* Filerna som skapas i JupyterLab kallas Notebooks och sparas som vanliga textfiler (i json format)\n",
    "* Du kan dela din Notebooks med andra med [nbviewer](https://nbviewer.jupyter.org)\n",
    "* Du kan också använda andra [kernels](https://github.com/jupyter/jupyter/wiki/Jupyter-kernels) (programmeringsspråk) med JupyterLab \n",
    "* Dokumentationen till JupyterLab finns [här](https://jupyterlab.readthedocs.io/en/stable).\n",
    "* Starta JupyterLab från PowerShell: jupyter lab\n",
    "* Installation (från PowerShell): pip install jupyterlab\n"
   ]
  },
  {
   "cell_type": "markdown",
   "metadata": {},
   "source": [
    "## Magic functions\n",
    "#### Magic functions är inbyggda kommandon i JupyterLab."
   ]
  },
  {
   "cell_type": "code",
   "execution_count": null,
   "metadata": {},
   "outputs": [],
   "source": [
    "%lsmagic\n",
    "# List currently available magic functions."
   ]
  },
  {
   "cell_type": "code",
   "execution_count": null,
   "metadata": {},
   "outputs": [],
   "source": [
    "# Listar alla miljövariabler\n",
    "%env"
   ]
  },
  {
   "cell_type": "code",
   "execution_count": null,
   "metadata": {},
   "outputs": [],
   "source": [
    "# Change directory\n",
    "%cd Desktop/pyTmp/"
   ]
  },
  {
   "cell_type": "code",
   "execution_count": null,
   "metadata": {},
   "outputs": [],
   "source": [
    "# Listar inputs\n",
    "%history -n 1-10 "
   ]
  },
  {
   "cell_type": "code",
   "execution_count": null,
   "metadata": {},
   "outputs": [],
   "source": [
    "# Run the named python file inside IPython/Jupyter as a program.\n",
    "%run"
   ]
  },
  {
   "cell_type": "code",
   "execution_count": null,
   "metadata": {},
   "outputs": [],
   "source": [
    "# Load code into the current frontend.\n",
    "%load file.py\n"
   ]
  },
  {
   "cell_type": "code",
   "execution_count": null,
   "metadata": {},
   "outputs": [],
   "source": [
    "# Activate the interactive debugger.\n",
    "%%debug"
   ]
  },
  {
   "cell_type": "code",
   "execution_count": null,
   "metadata": {},
   "outputs": [],
   "source": [
    "%%writefile junk.py\n",
    "# Write the contents of the cell to a file."
   ]
  },
  {
   "cell_type": "code",
   "execution_count": null,
   "metadata": {},
   "outputs": [],
   "source": [
    "%history -p -f myHistory.txt 22"
   ]
  },
  {
   "cell_type": "markdown",
   "metadata": {},
   "source": [
    "## Markdown cells\n",
    "#### Markdown är ett formateringsspråk som generar HTML i dina Notebooks. I JupyterLab kan man ha Markdown celler. Nedan visar jag vad man kan göra i Markdown celler.\n",
    "* **Fet** stil\n",
    "* *Kursiv* stil\n",
    "* [Länkar](https://github.com/steble70/scriptlab)\n",
    "* Syntax highlighting för en rad olika programmeringsspråk (funkar bra med Python med inte med PowerShell)\n",
    "* Codeblock\n",
    "\n",
    "```\n",
    "# Jag är även en del PowerShell kunskaper.  \n",
    "# Nedan visar jag exempel på hur man man kan köra Python filer inuti PowerShell skript  \n",
    "function Import-PythonCode {\n",
    "    Set-Location $env:USERPROFILE\\Documents\\PowerShell\\\n",
    "    $pyfiles = Get-ChildItem *.py -Name\n",
    "    if ($pyfiles) {\n",
    "        foreach ($p in $pyfiles) {\n",
    "            & python $p\n",
    "        }\n",
    "    }\n",
    "}\n",
    "# Ex på hur man kan kryptera filer i PowerShell\n",
    "New-Alias -Name \"New-GPG\" gpg.exe  \n",
    "New-GPG New-GPG -c --no-symkey-cache .\\hemliga_filen.odt\n",
    "```\n",
    "\n",
    "\n",
    "* Blockquote \n",
    "> ## ”Förutom mitt genuina IT intresse har jag även haft flera förtroendeuppdrag inom Svenska kyrkan”\n",
    "> ### Stefan Blecko\n",
    "* Punktlista  \n",
    "    Mina främsta kvalitéer som IT-tekniker:  \n",
    "    * Jag har kunskaper och erfarenheter från flera olika företag, bl.a. **Försvarsmakten** och **Polisen** \n",
    "    * Jag utbildade nya IT-tekniker på Karlberg\n",
    "    * Jag har har bra \"IT-tänk\"\n",
    "    * Jag är lugn och pedagogisk\n",
    "* Linje \n",
    "---\n",
    "* `Inline code` with backticks\n",
    "* Du kan ha bild filer i dina Notebooks (.jpg tex)\n",
    "\n",
    "![Image](https://avatars1.githubusercontent.com/u/7893816?s=400&u=85e00550b60ba87fc492f6a65d1c578c4ff690b5&v=4 'Stefan Blecko')\n",
    "\n"
   ]
  },
  {
   "cell_type": "markdown",
   "metadata": {},
   "source": [
    "## JupyterLab/IPython shortcuts\n",
    "\n",
    "* **TAB** - Completion\n",
    "* **Shift + TAB** - Tool tip\n",
    "* **?** - Invoke help\n",
    "* **Shift + Enter** - Execute cell\n",
    "* **Alt + Enter** - Execute cell + new cell below\n",
    "* **Shift + O** - Newline (endast IPython)\n",
    "* **Alt + Höger musknapp** - Markera text vertikalt \n",
    "* **DD** - Delete cells \n",
    "* **A** - Insert cell Above\n",
    "* **B** - Insert cell Below\n",
    "* **K** - Select cell above\n",
    "* **J** - Select cell below\n",
    "* **Shift + L** - Toggle Line Number\n",
    "* **II** -Interrupt kernel (samma som Ctrl + C)\n",
    "* **Ctrl + +** - increase font size\n"
   ]
  },
  {
   "cell_type": "markdown",
   "metadata": {},
   "source": [
    "## Code cells\n",
    "#### Här skriver du in din kod. För att köra koden: **Shift + Enter**"
   ]
  },
  {
   "cell_type": "code",
   "execution_count": 27,
   "metadata": {},
   "outputs": [
    {
     "name": "stdout",
     "output_type": "stream",
     "text": [
      "FÖRLORARE: 451 ggr.\n",
      "VINNARE: 549 ggr.\n",
      "\n",
      "Programmet väljer slumpvis (1000 ggr) om du är en VINNARE eller FÖRLORARE\n",
      "Denna gång blev du är en VINNARE.\n"
     ]
    }
   ],
   "source": [
    "'''\n",
    "vef.py - Vinnare eller Förlorare\n",
    "(c) 2020 av Stefan Blecko\n",
    "Version 0.2b\n",
    "'''\n",
    "import random\n",
    "from collections import Counter\n",
    "\n",
    "winner_or_loser = ['VINNARE', 'FÖRLORARE'] \n",
    "save_winner_or_loser = [] \n",
    "\n",
    "for l in range(1, 1001): \n",
    "    r = random.choice(winner_or_loser)\n",
    "    save_winner_or_loser.append(r) \n",
    "\n",
    "resultat = Counter(save_winner_or_loser)\n",
    "for k, v in resultat.items():\n",
    "    print(f'{k}: {v} ggr.')\n",
    "\n",
    "\n",
    "maximum_value = [(value, key) for key, value in resultat.items()]\n",
    "print('\\nProgrammet väljer slumpvis (1000 ggr) om du är en VINNARE eller FÖRLORARE')\n",
    "print('Denna gång blev du är en', max(maximum_value)[1] + '.')"
   ]
  }
 ],
 "metadata": {
  "kernelspec": {
   "display_name": "Python 3",
   "language": "python",
   "name": "python3"
  },
  "language_info": {
   "codemirror_mode": {
    "name": "ipython",
    "version": 3
   },
   "file_extension": ".py",
   "mimetype": "text/x-python",
   "name": "python",
   "nbconvert_exporter": "python",
   "pygments_lexer": "ipython3",
   "version": "3.7.4"
  }
 },
 "nbformat": 4,
 "nbformat_minor": 4
}
