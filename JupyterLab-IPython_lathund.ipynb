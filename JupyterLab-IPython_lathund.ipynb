{
 "cells": [
  {
   "cell_type": "markdown",
   "metadata": {},
   "source": [
    "# **Programutveckling med JupyterLab** #\n",
    "#### © 2024 av Stefan Blecko, [MS-900](https://github.com/steble70/scriptlab/blob/master/MS-900.pdf) och [SC-900](https://github.com/steble70/scriptlab/blob/master/SC-900.pdf) certifierad, tel. 070-6445868  \n",
    "**[LinkedIn](https://se.linkedin.com/in/stefan70 \"se.linkedin.com/in/stefan70/\"), [GitHub](https://github.com/steble70/scriptlab \"github.com/steble70/scriptlab\")**\n",
    "\n",
    "---"
   ]
  },
  {
   "cell_type": "markdown",
   "metadata": {},
   "source": [
    "## **Kort om hur systemet är uppbyggd**\n",
    "* JupyterLab är ett mellanting mellan en editor och ett shell.\n",
    "* JupyterLab är skrivet i Python och körs i din webbläsare.\n",
    "* Filerna som skapas i JupyterLab kallas Notebooks och sparas som vanliga textfiler (i JSON format).\n",
    "* Du kan dela din Notebooks med andra med [nbviewer](https://nbviewer.jupyter.org).\n",
    "* Förutom Python kan man också använda andra [programmeringspråk](https://github.com/jupyter/jupyter/wiki/Jupyter-kernels) i JupyterLab.\n",
    "* Dokumentationen till JupyterLab finns [här](https://jupyterlab.readthedocs.io/en/stable).\n",
    "* Installation (från PowerShell eller CMD): `pip install jupyterlab`\n",
    "* Starta JupyterLab (från PowerShell eller CMD): `jupyter lab`\n",
    "\n"
   ]
  },
  {
   "cell_type": "markdown",
   "metadata": {
    "scrolled": true
   },
   "source": [
    "## **Magic functions**\n",
    "#### Magic functions är inbyggda kommandon i JupyterLab. Ex på kommandon:\n",
    "\n",
    "|                   |              | \n",
    "| ----------------- | ------------ |\n",
    "| %quickref         | %load        | \n",
    "| %env              | %%writefile  | \n",
    "| %history          | %alias       | \n",
    "| %run              | %save        | \n",
    "| %pycat            | %lsmagic     | \n"
   ]
  },
  {
   "cell_type": "code",
   "execution_count": null,
   "metadata": {},
   "outputs": [],
   "source": [
    "# %run - Run the named python file inside IPython/Jupyter as a program.\n",
    "%run c:/Users/steble70/.ipython/profile_clipro/startup/hello.py"
   ]
  },
  {
   "cell_type": "code",
   "execution_count": null,
   "metadata": {},
   "outputs": [],
   "source": [
    "# %pycat - Show a syntax-highlighted file through a pager.\n",
    "%pycat c:/Users/steble70/.ipython/profile_clipro/startup/hello.py"
   ]
  },
  {
   "cell_type": "code",
   "execution_count": null,
   "metadata": {},
   "outputs": [],
   "source": [
    "%load - Load code into the current frontend.\n",
    "# %load c:/Users/steble70/.ipython/profile_clipro/startup/hello.py"
   ]
  },
  {
   "cell_type": "code",
   "execution_count": 1,
   "metadata": {},
   "outputs": [
    {
     "name": "stdout",
     "output_type": "stream",
     "text": [
      "c:\\Users\\steble70\\Desktop\n"
     ]
    }
   ],
   "source": [
    "# %cd - Change the current working directory.\n",
    "%cd c:/Users/steble70/Desktop/"
   ]
  },
  {
   "cell_type": "code",
   "execution_count": null,
   "metadata": {},
   "outputs": [],
   "source": [
    "# %save - Save a set of lines or a macro to a given filename."
   ]
  },
  {
   "cell_type": "markdown",
   "metadata": {},
   "source": [
    "## **Shell kommandon**\n",
    "#### Med ! operatorn kan man även köra shell kommandon i JupyterLab"
   ]
  },
  {
   "cell_type": "code",
   "execution_count": null,
   "metadata": {},
   "outputs": [],
   "source": [
    "!black test13apr.py"
   ]
  },
  {
   "cell_type": "code",
   "execution_count": null,
   "metadata": {},
   "outputs": [],
   "source": [
    "!pylint test13apr.py -f colorized"
   ]
  },
  {
   "cell_type": "code",
   "execution_count": 2,
   "metadata": {},
   "outputs": [
    {
     "name": "stdout",
     "output_type": "stream",
     "text": [
      "PowerShell test 0.1 av Stefan Blecko\n",
      "\n",
      "\u001b[32;1mDatornamn         : \u001b[0mDESKTOP-F24MLRV\n",
      "\u001b[32;1mDatortillverkare  : \u001b[0mAcer\n",
      "\u001b[32;1mDator serienummer : \u001b[0mNC-ES1-131-C8KH\n",
      "\u001b[32;1mWindows-Utg†va    : \u001b[0mWindows 10 Home\n",
      "\u001b[32;1mProdukt-ID        : \u001b[0m00326-10000-00000-AA635\n",
      "\u001b[32;1mWindows version   : \u001b[0m10.0.17134\n",
      "\u001b[32;1mWindows build     : \u001b[0m1803\n",
      "\n"
     ]
    }
   ],
   "source": [
    "# PowerShell skript från JupyterLab.\n",
    "!pwsh -NoProfile -NoLogo -NonInteractive -File PStest.ps1"
   ]
  },
  {
   "cell_type": "markdown",
   "metadata": {},
   "source": [
    "## **HTML sidor i Jupyterlab**"
   ]
  },
  {
   "cell_type": "code",
   "execution_count": 3,
   "metadata": {},
   "outputs": [],
   "source": [
    "from IPython.display import IFrame, SVG"
   ]
  },
  {
   "cell_type": "code",
   "execution_count": 4,
   "metadata": {},
   "outputs": [
    {
     "data": {
      "text/html": [
       "\n",
       "        <iframe\n",
       "            width=\"900\"\n",
       "            height=\"500\"\n",
       "            src=\"https://copilot.microsoft.com\"\n",
       "            frameborder=\"0\"\n",
       "            allowfullscreen\n",
       "            \n",
       "        ></iframe>\n",
       "        "
      ],
      "text/plain": [
       "<IPython.lib.display.IFrame at 0x294cda35010>"
      ]
     },
     "metadata": {},
     "output_type": "display_data"
    }
   ],
   "source": [
    "display(IFrame(\"https://copilot.microsoft.com\", 900, 500))"
   ]
  },
  {
   "cell_type": "markdown",
   "metadata": {},
   "source": [
    "## **Debugging i Jupyterlab**\n",
    "1. Identifiera problemet/läs igenom *Tracebacks* samt typ av fel.\n",
    "2. Använd Print Statements (för grundläggande debugging).\n",
    "   - Ex: `print(\"Debug message:\", variabel)`.\n",
    "3. Använd JupyterLabs inbyggda debugger. Se [JupyterLabs dokumentation](https://jupyterlab.readthedocs.io/en/stable/user/debugger.html).\n",
    "    - Sätt breakpoints.\n",
    "    - Inspektera variabler debuggern.\n",
    "4. Python har även en inbyggd, text baserad debugger (pdb).\n",
    "    - Se: `help('DEBUGGING')`.\n",
    "5. Använd Git/GitHub som debugging tool.\n",
    "    - Ex: `git commit -m \"Syntax fel, rad 18 rättad.\"`.\n"
   ]
  },
  {
   "cell_type": "markdown",
   "metadata": {
    "jp-MarkdownHeadingCollapsed": true
   },
   "source": [
    "## **Markdown cells**\n",
    "#### Markdown är ett formateringsspråk som genererar HTML i dina Notebooks. I JupyterLab kan man ha Markdown celler. Nedan visas vad man kan göra i Markdown celler.\n",
    "* **Fet** stil\n",
    "* *Kursiv* stil\n",
    "* ~~Genomstruken~~\n",
    "* Länkar: [Markdown Guide](https://www.markdownguide.org/)\n",
    "* Syntax highlighting för en rad olika programmeringsspråk\n",
    "* Codeblock\n",
    "\n",
    "```powershell\n",
    "# Exekvera Python filer inuti PowerShell skript \n",
    "# Exempel av Stefan Blecko\n",
    "function Import-PythonCode {\n",
    "    Set-Location $env:USERPROFILE\\Documents\\PowerShell\\\n",
    "    $pyfiles = Get-ChildItem *.py -Name\n",
    "    if ($pyfiles) {\n",
    "        foreach ($p in $pyfiles) {\n",
    "            & python $p\n",
    "        }\n",
    "    }\n",
    "}\n",
    "\n",
    "# Exempel 2: Kryptera filer i PowerShell\n",
    "New-Alias -Name \"New-GPG\" gpg.exe  \n",
    "New-GPG New-GPG -c --no-symkey-cache .\\hemliga_filen.odt\n",
    "```\n",
    "* Blockquote\n",
    "> # *”Stefan är känd av de anställda vid Militärhögskolan Karlberg som en kunnig nätverkstekniker”*\n",
    "* Punktlista  \n",
    "    Mina främsta kvalitéer som IT-tekniker:  \n",
    "    * IT kunskaper och erfarenheter från flera olika företag och myndigheter \n",
    "    * Handledde/utbildade nyanställda IT-tekniker på Karlberg\n",
    "    * Aktuella IT kunskaper (MS-900 och SC-900 certifierad)\n",
    "* Linje \n",
    "---\n",
    "* `Inline code`\n",
    "* Man kan även ha bildfiler i Notebooks (.jpg tex)\n",
    "\n",
    "    ![ThePicture_small](ThePicture31_small.jpg)"
   ]
  },
  {
   "cell_type": "markdown",
   "metadata": {},
   "source": [
    "## **Code cells**\n",
    "#### I *code cells* skriver man in själva koden. För att köra koden: **Shift + Enter**."
   ]
  },
  {
   "cell_type": "code",
   "execution_count": 5,
   "metadata": {},
   "outputs": [
    {
     "name": "stdout",
     "output_type": "stream",
     "text": [
      "5T6+0: 5, 1, 2, 5, 4 = 17 + 0 = 17\n",
      "4T8+8: 3, 2, 1, 2 = 8 + 8 = 16\n",
      "5T6+2: 6, 6, 5, 5, 2 = 24 + 2 = 26\n",
      "1T4+0: 2 = 2 + 0 = 2\n",
      "1T20+2: 16 = 16 + 2 = 18\n"
     ]
    }
   ],
   "source": [
    "# rollspelstärningen 0.1 av Stefan Blecko\n",
    "import random\n",
    "\n",
    "class Dice:\n",
    "    \"\"\"\n",
    "    A class representing a dice object.\n",
    "    \n",
    "    Attributes:\n",
    "    number (int): How many dice.\n",
    "    side (int): Type of dice.\n",
    "    \n",
    "    Methods:\n",
    "    roll(sconstant=0): Roll the dice.\n",
    "    \"\"\"\n",
    "    def __init__(self, number=1, side=20):\n",
    "        self.number = number\n",
    "        self.side = side\n",
    "\n",
    "    def roll(self, constant=0):\n",
    "        \"\"\"\n",
    "        Roll the dice\n",
    "        \n",
    "        Returns:\n",
    "        The sum of all the dice.\n",
    "        \"\"\"\n",
    "        l = lambda: random.randint(1, self.side)\n",
    "        dice_list = []\n",
    "        for item in range(1, self.number + 1):\n",
    "            dice_list.append(l())\n",
    "        return f\"{self.number}T{self.side}+{constant}: {str(dice_list).lstrip('[').rstrip(']')} \\\n",
    "= {sum(dice_list)} + {constant} = {sum(dice_list) + constant}\"\n",
    "\n",
    "\n",
    "OneD4 = Dice(1, 4)\n",
    "FiveD6 = Dice(5, 6)\n",
    "SevenD8 = Dice(4, 8)\n",
    "OneD20 = Dice()\n",
    "print(FiveD6.roll())\n",
    "print(SevenD8.roll(8))\n",
    "print(FiveD6.roll(2))\n",
    "print(OneD4.roll())\n",
    "print(OneD20.roll(2))"
   ]
  },
  {
   "cell_type": "code",
   "execution_count": 6,
   "metadata": {},
   "outputs": [
    {
     "name": "stdout",
     "output_type": "stream",
     "text": [
      "Help on class Dice in module __main__:\n",
      "\n",
      "class Dice(builtins.object)\n",
      " |  Dice(number=1, side=20)\n",
      " |\n",
      " |  A class representing a dice object.\n",
      " |\n",
      " |  Attributes:\n",
      " |  number (int): How many dice.\n",
      " |  side (int): Type of dice.\n",
      " |\n",
      " |  Methods:\n",
      " |  roll(sconstant=0): Roll the dice.\n",
      " |\n",
      " |  Methods defined here:\n",
      " |\n",
      " |  __init__(self, number=1, side=20)\n",
      " |      Initialize self.  See help(type(self)) for accurate signature.\n",
      " |\n",
      " |  roll(self, constant=0)\n",
      " |      Roll the dice\n",
      " |\n",
      " |      Returns:\n",
      " |      The sum of all the dice.\n",
      " |\n",
      " |  ----------------------------------------------------------------------\n",
      " |  Data descriptors defined here:\n",
      " |\n",
      " |  __dict__\n",
      " |      dictionary for instance variables\n",
      " |\n",
      " |  __weakref__\n",
      " |      list of weak references to the object\n",
      "\n"
     ]
    }
   ],
   "source": [
    "help(Dice)"
   ]
  },
  {
   "cell_type": "markdown",
   "metadata": {},
   "source": [
    "## **JupyterLabs shortcuts**\n",
    "* **TAB** - Completion\n",
    "* **Shift + TAB** - Tool tip\n",
    "* **?** - Invoke help\n",
    "* **Shift + Enter** - Execute cell\n",
    "* **Alt + Enter** - Execute cell + new cell below\n",
    "* **Shift + O** - Newline (endast IPython)\n",
    "* **Alt + Höger musknapp** - Markera text vertikalt \n",
    "* **DD** - Delete cells \n",
    "* **A** - Insert cell Above\n",
    "* **B** - Insert cell Below\n",
    "* **K** - Select cell above\n",
    "* **J** - Select cell below\n",
    "* **Shift + L** - Toggle Line Number\n",
    "* **II** -Interrupt kernel (samma som Ctrl + C)\n",
    "* **Ctrl + +** - increase font size\n",
    "* **Ctrl + Shift + H** - Show Keybord Shortcuts"
   ]
  }
 ],
 "metadata": {
  "kernelspec": {
   "display_name": "Python 3 (ipykernel)",
   "language": "python",
   "name": "python3"
  },
  "language_info": {
   "codemirror_mode": {
    "name": "ipython",
    "version": 3
   },
   "file_extension": ".py",
   "mimetype": "text/x-python",
   "name": "python",
   "nbconvert_exporter": "python",
   "pygments_lexer": "ipython3",
   "version": "3.12.2"
  }
 },
 "nbformat": 4,
 "nbformat_minor": 4
}
