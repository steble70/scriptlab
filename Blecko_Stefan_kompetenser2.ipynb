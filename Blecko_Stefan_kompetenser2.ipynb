{
 "cells": [
  {
   "cell_type": "markdown",
   "id": "7d1ce4e2-5ca2-455c-9c28-36e21ad0eade",
   "metadata": {
    "tags": []
   },
   "source": [
    "# **IT kompetenser 2** #\n",
    "#### Version: 0.3\n",
    "#### © 2023 av Stefan Blecko, `070-6445868`\n",
    "**CV: [LinkedIn](https://se.linkedin.com/in/stefan70) | [Arbetsomdöme](https://github.com/steble70/scriptlab/blob/master/Blecko_Stefan_Arbetsbetyg.pdf) | Portfolio: [GitHub](https://github.com/steble70/scriptlab) |\n",
    "[IT kompetenser 1](https://github.com/steble70/scriptlab/blob/master/CV-2021.ipynb)** "
   ]
  },
  {
   "cell_type": "code",
   "execution_count": 4,
   "id": "1b713f01-72dd-44c1-a7b7-efc943b70832",
   "metadata": {},
   "outputs": [],
   "source": [
    "from pathlib import Path\n",
    "import yaml\n",
    "import random\n",
    "# from PIL import Image\n",
    "# from IPython.display import display\n",
    "# from IPython.display import SVG"
   ]
  },
  {
   "cell_type": "code",
   "execution_count": 5,
   "id": "4152297a-85fa-4c6d-869b-9a1d363f0698",
   "metadata": {},
   "outputs": [],
   "source": [
    "homedir = Path().home()"
   ]
  },
  {
   "cell_type": "code",
   "execution_count": 6,
   "id": "9ba68ef5-e29b-4267-a80c-e398c3dff3c0",
   "metadata": {},
   "outputs": [],
   "source": [
    "%matplotlib inline"
   ]
  },
  {
   "cell_type": "markdown",
   "id": "485eaf53-abb1-4896-882b-d61e311d81c0",
   "metadata": {
    "tags": []
   },
   "source": [
    "## **YAML (används inom DevOps)**"
   ]
  },
  {
   "cell_type": "code",
   "execution_count": 7,
   "id": "b703fe99-f4e1-49ed-a27a-02176af43d8c",
   "metadata": {
    "tags": []
   },
   "outputs": [
    {
     "name": "stdout",
     "output_type": "stream",
     "text": [
      "C:\\Users\\steble70\\Desktop\\POPYS\n"
     ]
    }
   ],
   "source": [
    "%cd c:\\Users\\steble70\\Desktop\\POPYS"
   ]
  },
  {
   "cell_type": "markdown",
   "id": "7d9a1585-b200-4687-8bc2-f282a2cc8b29",
   "metadata": {},
   "source": [
    "### **Trollkarlen Flavianus orch generator**"
   ]
  },
  {
   "cell_type": "code",
   "execution_count": 8,
   "id": "388224b1-5671-419a-9dbb-c3076f530a29",
   "metadata": {},
   "outputs": [],
   "source": [
    "# Ex av Stefan Blecko\n",
    "\n",
    "import orchgen # Importerar modulen (orchgen.py) som genererar orcher.\n",
    "\n",
    "friends_of_flavianus = orchgen.Orchgen(3) \n",
    "friends_of_flavianus_generate = friends_of_flavianus.grundegenskaper() # Genererar 3 orcher\n",
    "friends_of_flavianus.save_grundegenskaper(friends_of_flavianus_generate) # Sparar"
   ]
  },
  {
   "cell_type": "code",
   "execution_count": 9,
   "id": "18ac5ab8-6cc5-438c-926e-4be6ba2c28cc",
   "metadata": {},
   "outputs": [
    {
     "name": "stdout",
     "output_type": "stream",
     "text": [
      "c:\\Users\\steble70\n"
     ]
    }
   ],
   "source": [
    "%cd c:\\Users\\steble70"
   ]
  },
  {
   "cell_type": "code",
   "execution_count": 10,
   "id": "042a5688-6339-4dea-b9a9-95d1317b5eca",
   "metadata": {},
   "outputs": [
    {
     "data": {
      "text/plain": [
       "\u001b[0mOrch\u001b[0m \u001b[1;36m1\u001b[0m\u001b[1;33m:\u001b[0m\u001b[1;33m\n",
       "\u001b[0m  \u001b[0mStyrka\u001b[0m\u001b[1;33m:\u001b[0m \u001b[1;36m10\u001b[0m\u001b[1;33m\n",
       "\u001b[0m  \u001b[0mFysik\u001b[0m\u001b[1;33m:\u001b[0m \u001b[1;36m14\u001b[0m\u001b[1;33m\n",
       "\u001b[0m  \u001b[0mStorlek\u001b[0m\u001b[1;33m:\u001b[0m \u001b[1;36m7\u001b[0m\u001b[1;33m\n",
       "\u001b[0m  \u001b[0mIntelligens\u001b[0m\u001b[1;33m:\u001b[0m \u001b[1;36m5\u001b[0m\u001b[1;33m\n",
       "\u001b[0m  \u001b[0mYrke\u001b[0m\u001b[1;33m:\u001b[0m \u001b[0mStråtrövare\u001b[0m\u001b[1;33m\n",
       "\u001b[0m  \u001b[0mVapen\u001b[0m\u001b[1;33m:\u001b[0m \u001b[0mDolk\u001b[0m\u001b[1;33m\n",
       "\u001b[0m\u001b[0mOrch\u001b[0m \u001b[1;36m2\u001b[0m\u001b[1;33m:\u001b[0m\u001b[1;33m\n",
       "\u001b[0m  \u001b[0mStyrka\u001b[0m\u001b[1;33m:\u001b[0m \u001b[1;36m16\u001b[0m\u001b[1;33m\n",
       "\u001b[0m  \u001b[0mFysik\u001b[0m\u001b[1;33m:\u001b[0m \u001b[1;36m17\u001b[0m\u001b[1;33m\n",
       "\u001b[0m  \u001b[0mStorlek\u001b[0m\u001b[1;33m:\u001b[0m \u001b[1;36m16\u001b[0m\u001b[1;33m\n",
       "\u001b[0m  \u001b[0mIntelligens\u001b[0m\u001b[1;33m:\u001b[0m \u001b[1;36m14\u001b[0m\u001b[1;33m\n",
       "\u001b[0m  \u001b[0mYrke\u001b[0m\u001b[1;33m:\u001b[0m \u001b[0mStråtrövare\u001b[0m\u001b[1;33m\n",
       "\u001b[0m  \u001b[0mVapen\u001b[0m\u001b[1;33m:\u001b[0m \u001b[0mSpikklubba\u001b[0m\u001b[1;33m\n",
       "\u001b[0m\u001b[0mOrch\u001b[0m \u001b[1;36m3\u001b[0m\u001b[1;33m:\u001b[0m\u001b[1;33m\n",
       "\u001b[0m  \u001b[0mStyrka\u001b[0m\u001b[1;33m:\u001b[0m \u001b[1;36m9\u001b[0m\u001b[1;33m\n",
       "\u001b[0m  \u001b[0mFysik\u001b[0m\u001b[1;33m:\u001b[0m \u001b[1;36m5\u001b[0m\u001b[1;33m\n",
       "\u001b[0m  \u001b[0mStorlek\u001b[0m\u001b[1;33m:\u001b[0m \u001b[1;36m10\u001b[0m\u001b[1;33m\n",
       "\u001b[0m  \u001b[0mIntelligens\u001b[0m\u001b[1;33m:\u001b[0m \u001b[1;36m7\u001b[0m\u001b[1;33m\n",
       "\u001b[0m  \u001b[0mYrke\u001b[0m\u001b[1;33m:\u001b[0m \u001b[0mStråtrövare\u001b[0m\u001b[1;33m\n",
       "\u001b[0m  \u001b[0mVapen\u001b[0m\u001b[1;33m:\u001b[0m \u001b[0mPilbåge\u001b[0m\u001b[1;33m\u001b[0m\u001b[1;33m\u001b[0m\u001b[0m\n"
      ]
     },
     "metadata": {},
     "output_type": "display_data"
    }
   ],
   "source": [
    "# Visar yaml filen som genererats i c:\\Users\\steble70\n",
    "%pycat orcher.yaml "
   ]
  },
  {
   "cell_type": "code",
   "execution_count": 12,
   "id": "e1cbb717-20e3-4c9a-a922-5182a758fa56",
   "metadata": {},
   "outputs": [
    {
     "name": "stdout",
     "output_type": "stream",
     "text": [
      "Orch 1: Storlek 7\n",
      "Orch 3: Intelligens 7\n"
     ]
    }
   ],
   "source": [
    "# Hur många orcher har 7 i grundegenskap\n",
    "for orc in friends_of_flavianus_generate:\n",
    "    for k, v in friends_of_flavianus_generate[f'{orc}'].items():\n",
    "        if v == 7:\n",
    "            print(f'{orc}: {k} {v}')\n",
    "        else:\n",
    "            pass"
   ]
  },
  {
   "cell_type": "markdown",
   "id": "b742cce4-7f48-4cbb-acc5-c7ab20d25cbd",
   "metadata": {},
   "source": [
    "## **Git/GitHub (projektplanering)**"
   ]
  },
  {
   "cell_type": "code",
   "execution_count": 6,
   "id": "e2a29667-a8a8-4949-80b7-4c11237072dc",
   "metadata": {},
   "outputs": [
    {
     "name": "stdout",
     "output_type": "stream",
     "text": [
      "C:\\Users\\steble70\n"
     ]
    }
   ],
   "source": [
    "%cd"
   ]
  },
  {
   "cell_type": "code",
   "execution_count": 7,
   "id": "ab41f75d-61bc-41ed-b650-8e3542761f7b",
   "metadata": {},
   "outputs": [
    {
     "name": "stdout",
     "output_type": "stream",
     "text": [
      "C:\\Users\\steble70\\Desktop\\POPYS\\VBH\n"
     ]
    }
   ],
   "source": [
    "%cd C:\\Users\\steble70\\Desktop\\POPYS\\VBH\\"
   ]
  },
  {
   "cell_type": "code",
   "execution_count": 8,
   "id": "648eb7b1-a858-48b6-a492-136a469743b4",
   "metadata": {},
   "outputs": [
    {
     "name": "stdout",
     "output_type": "stream",
     "text": [
      "docs\n",
      "VBH\n",
      "README.md\n",
      "temp\n"
     ]
    }
   ],
   "source": [
    "!dir /B /OD"
   ]
  },
  {
   "cell_type": "code",
   "execution_count": 10,
   "id": "08ef8a32-1997-4402-93b2-0b2585d37a61",
   "metadata": {},
   "outputs": [
    {
     "name": "stdout",
     "output_type": "stream",
     "text": [
      "On branch master\n",
      "\n",
      "No commits yet\n",
      "\n",
      "Changes to be committed:\n",
      "  (use \"git rm --cached <file>...\" to unstage)\n",
      "\tnew file:   README.md\n",
      "\tnew file:   temp/Synopsis.md\n",
      "\n",
      "Untracked files:\n",
      "  (use \"git add <file>...\" to include in what will be committed)\n",
      "\ttemp/.obsidian/\n",
      "\n"
     ]
    }
   ],
   "source": [
    "!git status # efter git add"
   ]
  },
  {
   "cell_type": "code",
   "execution_count": 13,
   "id": "e933870b-785c-44c6-8c3f-b6fe63c4e502",
   "metadata": {},
   "outputs": [
    {
     "name": "stdout",
     "output_type": "stream",
     "text": [
      "[master (root-commit) 66fe776] VBH projeket initierad\n",
      " 2 files changed, 47 insertions(+)\n",
      " create mode 100644 README.md\n",
      " create mode 100644 temp/Synopsis.md\n"
     ]
    }
   ],
   "source": [
    "!git commit -m \"VBH projeket initierad\""
   ]
  },
  {
   "cell_type": "code",
   "execution_count": null,
   "id": "4485b2c9-4291-4b79-adae-3a57504c89c4",
   "metadata": {},
   "outputs": [],
   "source": [
    "!git push -u origin main # OBS git push verkar inte funka i JupyterLab, funkar dock i pwsh"
   ]
  },
  {
   "cell_type": "markdown",
   "id": "a2343a8f-3ab1-426c-902c-80992134a53c",
   "metadata": {},
   "source": [
    "```shell\n",
    "The authenticity of host 'github.com (140.82.121.3)' can't be established.\n",
    "ED25519 key fingerprint is SHA256:+DiY3wvvV6TuJJhbpZisF/zLDA0zPMSvHdkr4UvCOqU.\n",
    "This key is not known by any other names\n",
    "Are you sure you want to continue connecting (yes/no/[fingerprint])? y\n",
    "Please type 'yes', 'no' or the fingerprint: y\n",
    "Please type 'yes', 'no' or the fingerprint: yes\n",
    "Warning: Permanently added 'github.com' (ED25519) to the list of known hosts.\n",
    "Enumerating objects: 5, done.\n",
    "Counting objects: 100% (5/5), done.\n",
    "Delta compression using up to 2 threads\n",
    "Compressing objects: 100% (3/3), done.\n",
    "Writing objects: 100% (5/5), 911 bytes | 113.00 KiB/s, done.\n",
    "Total 5 (delta 0), reused 0 (delta 0), pack-reused 0\n",
    "To github.com:steble70/VBH.git\n",
    " * [new branch]      main -> main\n",
    "branch 'main' set up to track 'origin/main'.\n",
    "```"
   ]
  },
  {
   "cell_type": "markdown",
   "id": "271e29e3-2f9e-40b5-b5ff-bf2a2e5061d7",
   "metadata": {},
   "source": [
    "## **PowerShell**\n",
    "### **Dator avstängningsknapp i PowerShell**\n",
    "![PSpic_v2](PSpic_v2.jpg)\n",
    "\n",
    "### **En \"changelog\" i PowerShell**\n",
    "```powershell\n",
    "function Get-ChangeLog {\n",
    "    [CmdletBinding()]\n",
    "    param (\n",
    "        [Parameter(Mandatory)]\n",
    "        [string]$Project,\n",
    "        [string]$Topic\n",
    "    )\n",
    "    begin {\n",
    "        $changelogname = $Project + '-changelog.csv'\n",
    "    }\n",
    "    process {\n",
    "        if ($Topic) {\n",
    "            $new_pscustobj = [PSCustomObject]@{\n",
    "                'Datum'     = \"$(Get-Date -Format FileDate)\"\n",
    "                'Changelog' = \"$Topic\"\n",
    "            }\n",
    "            $new_pscustobj | \n",
    "            Export-Csv \"$HOME\\Desktop\\$PSprojfoldername\\$Project\\docs\\$changelogname\" -Force -Append\n",
    "        }\n",
    "        else {\n",
    "            if (Test-Path -Path \"$HOME\\Desktop\\$PSprojfoldername\\$Project\\docs\\$changelogname\") {\n",
    "                Import-Csv -Path \"$HOME\\Desktop\\$PSprojfoldername\\$Project\\docs\\$changelogname\"\n",
    "            }\n",
    "            else {\n",
    "                Write-Error \"$HOME\\Desktop\\$PSprojfoldername\\$Project\\docs\\$changelogname måste skapas först.\"\n",
    "            }\n",
    "        }\n",
    "    }\n",
    "}\n",
    "```\n"
   ]
  },
  {
   "cell_type": "code",
   "execution_count": 37,
   "id": "f285ded0-0467-44c4-8562-63f577b177fe",
   "metadata": {},
   "outputs": [
    {
     "name": "stdout",
     "output_type": "stream",
     "text": [
      "\n",
      "\u001b[32;1mDatum    Changelog\u001b[0m\n",
      "\u001b[32;1m-----    ---------\u001b[0m\n",
      "20230108 Get-ChangeLog: $changelogname = $Project + '-changelog.csv'\n",
      "\n"
     ]
    }
   ],
   "source": [
    "!pwsh -Command \"Get-ChangeLog -Project Microsoft.PowerShell_profile\""
   ]
  }
 ],
 "metadata": {
  "kernelspec": {
   "display_name": "Python 3 (ipykernel)",
   "language": "python",
   "name": "python3"
  },
  "language_info": {
   "codemirror_mode": {
    "name": "ipython",
    "version": 3
   },
   "file_extension": ".py",
   "mimetype": "text/x-python",
   "name": "python",
   "nbconvert_exporter": "python",
   "pygments_lexer": "ipython3",
   "version": "3.10.1"
  }
 },
 "nbformat": 4,
 "nbformat_minor": 5
}
