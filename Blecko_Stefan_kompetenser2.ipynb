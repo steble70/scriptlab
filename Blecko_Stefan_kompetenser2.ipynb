{
 "cells": [
  {
   "cell_type": "markdown",
   "metadata": {},
   "source": [
    "# **JupyterLab/IPython lathund** #\n",
    "#### © 2022 av Stefan *\"IT-tekniker som gillar att dokumentera\"* Blecko, `070-6445868`  \n",
    "**[LinkedIn](https://se.linkedin.com/in/stefan70 \"se.linkedin.com/in/stefan70/\"), [GitHub](https://github.com/steble70/scriptlab \"github.com/steble70/scriptlab\")**"
   ]
  },
  {
   "cell_type": "markdown",
   "metadata": {},
   "source": [
    "## Kort om hur systemet är uppbyggd\n",
    "* JupyterLab är ett mellanting mellan en editor och ett shell\n",
    "* JupyterLab är skrivet i Python och körs i din webbläsare\n",
    "* Filerna som skapas i JupyterLab kallas Notebooks och sparas som vanliga textfiler (i JSON format)\n",
    "* Du kan dela din Notebooks med andra med [nbviewer](https://nbviewer.jupyter.org)\n",
    "* Du kan också använda andra programmeringspråk ([kernels](https://github.com/jupyter/jupyter/wiki/Jupyter-kernels)) än Python \n",
    "* Dokumentationen till JupyterLab finns [här](https://jupyterlab.readthedocs.io/en/stable).\n",
    "* Starta JupyterLab från PowerShell: jupyter lab\n",
    "* Installation (från PowerShell): *pip install jupyterlab*\n"
   ]
  },
  {
   "cell_type": "markdown",
   "metadata": {},
   "source": [
    "## Magic functions\n",
    "#### Magic functions är inbyggda kommandon i JupyterLab."
   ]
  },
  {
   "cell_type": "code",
   "execution_count": 1,
   "metadata": {},
   "outputs": [
    {
     "data": {
      "application/json": {
       "cell": {
        "!": "OSMagics",
        "HTML": "Other",
        "SVG": "Other",
        "bash": "Other",
        "capture": "ExecutionMagics",
        "cmd": "Other",
        "debug": "ExecutionMagics",
        "file": "Other",
        "html": "DisplayMagics",
        "javascript": "DisplayMagics",
        "js": "DisplayMagics",
        "latex": "DisplayMagics",
        "markdown": "DisplayMagics",
        "perl": "Other",
        "prun": "ExecutionMagics",
        "pypy": "Other",
        "python": "Other",
        "python2": "Other",
        "python3": "Other",
        "ruby": "Other",
        "script": "ScriptMagics",
        "sh": "Other",
        "svg": "DisplayMagics",
        "sx": "OSMagics",
        "system": "OSMagics",
        "time": "ExecutionMagics",
        "timeit": "ExecutionMagics",
        "writefile": "OSMagics"
       },
       "line": {
        "alias": "OSMagics",
        "alias_magic": "BasicMagics",
        "autoawait": "AsyncMagics",
        "autocall": "AutoMagics",
        "automagic": "AutoMagics",
        "autosave": "KernelMagics",
        "bookmark": "OSMagics",
        "cd": "OSMagics",
        "clear": "KernelMagics",
        "cls": "KernelMagics",
        "colors": "BasicMagics",
        "conda": "PackagingMagics",
        "config": "ConfigMagics",
        "connect_info": "KernelMagics",
        "copy": "Other",
        "ddir": "Other",
        "debug": "ExecutionMagics",
        "dhist": "OSMagics",
        "dirs": "OSMagics",
        "doctest_mode": "BasicMagics",
        "echo": "Other",
        "ed": "Other",
        "edit": "KernelMagics",
        "env": "OSMagics",
        "gui": "BasicMagics",
        "hist": "Other",
        "history": "HistoryMagics",
        "killbgscripts": "ScriptMagics",
        "ldir": "Other",
        "less": "KernelMagics",
        "load": "CodeMagics",
        "load_ext": "ExtensionMagics",
        "loadpy": "CodeMagics",
        "logoff": "LoggingMagics",
        "logon": "LoggingMagics",
        "logstart": "LoggingMagics",
        "logstate": "LoggingMagics",
        "logstop": "LoggingMagics",
        "ls": "Other",
        "lsmagic": "BasicMagics",
        "macro": "ExecutionMagics",
        "magic": "BasicMagics",
        "matplotlib": "PylabMagics",
        "mkdir": "Other",
        "more": "KernelMagics",
        "notebook": "BasicMagics",
        "page": "BasicMagics",
        "pastebin": "CodeMagics",
        "pdb": "ExecutionMagics",
        "pdef": "NamespaceMagics",
        "pdoc": "NamespaceMagics",
        "pfile": "NamespaceMagics",
        "pinfo": "NamespaceMagics",
        "pinfo2": "NamespaceMagics",
        "pip": "PackagingMagics",
        "popd": "OSMagics",
        "pprint": "BasicMagics",
        "precision": "BasicMagics",
        "prun": "ExecutionMagics",
        "psearch": "NamespaceMagics",
        "psource": "NamespaceMagics",
        "pushd": "OSMagics",
        "pwd": "OSMagics",
        "pycat": "OSMagics",
        "pylab": "PylabMagics",
        "qtconsole": "KernelMagics",
        "quickref": "BasicMagics",
        "recall": "HistoryMagics",
        "rehashx": "OSMagics",
        "reload_ext": "ExtensionMagics",
        "ren": "Other",
        "rep": "Other",
        "rerun": "HistoryMagics",
        "reset": "NamespaceMagics",
        "reset_selective": "NamespaceMagics",
        "rmdir": "Other",
        "run": "ExecutionMagics",
        "save": "CodeMagics",
        "sc": "OSMagics",
        "set_env": "OSMagics",
        "store": "StoreMagics",
        "sx": "OSMagics",
        "system": "OSMagics",
        "tb": "ExecutionMagics",
        "time": "ExecutionMagics",
        "timeit": "ExecutionMagics",
        "unalias": "OSMagics",
        "unload_ext": "ExtensionMagics",
        "who": "NamespaceMagics",
        "who_ls": "NamespaceMagics",
        "whos": "NamespaceMagics",
        "xdel": "NamespaceMagics",
        "xmode": "BasicMagics"
       }
      },
      "text/plain": [
       "Available line magics:\n",
       "%alias  %alias_magic  %autoawait  %autocall  %automagic  %autosave  %bookmark  %cd  %clear  %cls  %colors  %conda  %config  %connect_info  %copy  %ddir  %debug  %dhist  %dirs  %doctest_mode  %echo  %ed  %edit  %env  %gui  %hist  %history  %killbgscripts  %ldir  %less  %load  %load_ext  %loadpy  %logoff  %logon  %logstart  %logstate  %logstop  %ls  %lsmagic  %macro  %magic  %matplotlib  %mkdir  %more  %notebook  %page  %pastebin  %pdb  %pdef  %pdoc  %pfile  %pinfo  %pinfo2  %pip  %popd  %pprint  %precision  %prun  %psearch  %psource  %pushd  %pwd  %pycat  %pylab  %qtconsole  %quickref  %recall  %rehashx  %reload_ext  %ren  %rep  %rerun  %reset  %reset_selective  %rmdir  %run  %save  %sc  %set_env  %store  %sx  %system  %tb  %time  %timeit  %unalias  %unload_ext  %who  %who_ls  %whos  %xdel  %xmode\n",
       "\n",
       "Available cell magics:\n",
       "%%!  %%HTML  %%SVG  %%bash  %%capture  %%cmd  %%debug  %%file  %%html  %%javascript  %%js  %%latex  %%markdown  %%perl  %%prun  %%pypy  %%python  %%python2  %%python3  %%ruby  %%script  %%sh  %%svg  %%sx  %%system  %%time  %%timeit  %%writefile\n",
       "\n",
       "Automagic is ON, % prefix IS NOT needed for line magics."
      ]
     },
     "execution_count": 1,
     "metadata": {},
     "output_type": "execute_result"
    }
   ],
   "source": [
    "%lsmagic\n",
    "# List currently available magic functions."
   ]
  },
  {
   "cell_type": "code",
   "execution_count": null,
   "metadata": {},
   "outputs": [],
   "source": [
    "# Listar alla miljövariabler\n",
    "%env"
   ]
  },
  {
   "cell_type": "code",
   "execution_count": 9,
   "metadata": {
    "tags": []
   },
   "outputs": [
    {
     "name": "stdout",
     "output_type": "stream",
     "text": [
      "C:\\Users\\steble70\\Desktop\\POPYS\n"
     ]
    }
   ],
   "source": [
    "# Change directory\n",
    "%cd Desktop\\POPYS"
   ]
  },
  {
   "cell_type": "code",
   "execution_count": null,
   "metadata": {},
   "outputs": [],
   "source": [
    "# Listar inputs\n",
    "%history -n 1-10 "
   ]
  },
  {
   "cell_type": "code",
   "execution_count": null,
   "metadata": {},
   "outputs": [],
   "source": [
    "# Run the named python file inside IPython/Jupyter as a program.\n",
    "%run"
   ]
  },
  {
   "cell_type": "code",
   "execution_count": null,
   "metadata": {},
   "outputs": [],
   "source": [
    "# Load code into the current frontend.\n",
    "%load file.py\n"
   ]
  },
  {
   "cell_type": "code",
   "execution_count": null,
   "metadata": {},
   "outputs": [],
   "source": [
    "# Activate the interactive debugger.\n",
    "%%debug"
   ]
  },
  {
   "cell_type": "code",
   "execution_count": null,
   "metadata": {},
   "outputs": [],
   "source": [
    "%%writefile junk.py\n",
    "# Write the contents of the cell to a file."
   ]
  },
  {
   "cell_type": "code",
   "execution_count": null,
   "metadata": {},
   "outputs": [],
   "source": [
    "%history -p -f myHistory.txt 22"
   ]
  },
  {
   "cell_type": "markdown",
   "metadata": {},
   "source": [
    "## Markdown cells\n",
    "#### Markdown är ett formateringsspråk som generar HTML i dina Notebooks. I JupyterLab kan man ha Markdown celler. Nedan visar jag vad man kan göra i Markdown celler.\n",
    "* **Fet** stil\n",
    "* *Kursiv* stil\n",
    "* ~~Genomstruken~~\n",
    "* [Länkar](https://github.com/steble70/scriptlab)\n",
    "* Syntax highlighting för en rad olika programmeringsspråk\n",
    "* Codeblock\n",
    "\n",
    "```powershell\n",
    "# Exekvera Python filer inuti PowerShell skript \n",
    "# Exempel av Stefan Blecko\n",
    "function Import-PythonCode {\n",
    "    Set-Location $env:USERPROFILE\\Documents\\PowerShell\\\n",
    "    $pyfiles = Get-ChildItem *.py -Name\n",
    "    if ($pyfiles) {\n",
    "        foreach ($p in $pyfiles) {\n",
    "            & python $p\n",
    "        }\n",
    "    }\n",
    "}\n",
    "\n",
    "# Exempel 2: Kryptera filer i PowerShell\n",
    "New-Alias -Name \"New-GPG\" gpg.exe  \n",
    "New-GPG New-GPG -c --no-symkey-cache .\\hemliga_filen.odt\n",
    "```\n",
    "* Blockquote\n",
    "> # ***\"Stefan är känd av de anställda vid Militärhögskolan Karlberg som en kunnig nätverkstekniker\"***\n",
    "* Punktlista  \n",
    "    Mina främsta kvalitéer som IT-tekniker:  \n",
    "    * Jag har IT kunskaper och erfarenheter från flera olika företag \n",
    "    * Jag handledde/utbildade nyanstälda IT-tekniker på Karlberg\n",
    "* Linje \n",
    "---\n",
    "* `Inline code` with backticks\n",
    "* Man kan även ha bildfiler i Notebooks (.jpg tex)\n",
    "\n",
    "    ![ThePicture_small](ThePicture31_small.jpg) "
   ]
  },
  {
   "cell_type": "markdown",
   "metadata": {},
   "source": [
    "# Shortcuts ##\n",
    "* **TAB** - Completion\n",
    "* **Shift + TAB** - Tool tip\n",
    "* **?** - Invoke help\n",
    "* **Shift + Enter** - Execute cell\n",
    "* **Alt + Enter** - Execute cell + new cell below\n",
    "* **Shift + O** - Newline (endast IPython)\n",
    "* **Alt + Höger musknapp** - Markera text vertikalt \n",
    "* **DD** - Delete cells \n",
    "* **A** - Insert cell Above\n",
    "* **B** - Insert cell Below\n",
    "* **K** - Select cell above\n",
    "* **J** - Select cell below\n",
    "* **Shift + L** - Toggle Line Number\n",
    "* **II** -Interrupt kernel (samma som Ctrl + C)\n",
    "* **Ctrl + +** - increase font size"
   ]
  },
  {
   "cell_type": "markdown",
   "metadata": {},
   "source": [
    "## Code cells\n",
    "#### Här skriver man in koden. För att köra koden: **Shift + Enter**"
   ]
  },
  {
   "cell_type": "code",
   "execution_count": 2,
   "metadata": {},
   "outputs": [
    {
     "name": "stdout",
     "output_type": "stream",
     "text": [
      "5T6+0: 3, 6, 4, 4, 1 = 18 + 0 = 18\n",
      "7T8+8: 3, 8, 2, 8, 5, 2, 4 = 32 + 8 = 40\n",
      "5T6+2: 3, 3, 3, 2, 6 = 17 + 2 = 19\n",
      "1T4+0: 2 = 2 + 0 = 2\n",
      "1T20+2: 14 = 14 + 2 = 16\n"
     ]
    }
   ],
   "source": [
    "# Rollspeltärningen 0.1\n",
    "# Ex av Stefan Blecko\n",
    "import random\n",
    "\n",
    "class Dice:\n",
    "    def __init__(self, number=1, side=20):\n",
    "        self.number = number\n",
    "        self.side = side\n",
    "    \n",
    "    def roll(self, constant=0):\n",
    "        l = lambda : random.randint(1, self.side)\n",
    "        dice_list = []\n",
    "        for item in range(1, self.number+1):\n",
    "            dice_list.append(l())\n",
    "        return f\"{self.number}T{self.side}+{constant}: {str(dice_list).lstrip('[').rstrip(']')} \\\n",
    "= {sum(dice_list)} + {constant} = {sum(dice_list) + constant}\"\n",
    "\n",
    "OneD4 = Dice(1, 4)    \n",
    "FiveD6 = Dice(5, 6)\n",
    "SevenD8 = Dice(7, 8)\n",
    "OneD20 = Dice()\n",
    "print(FiveD6.roll())\n",
    "print(SevenD8.roll(8))\n",
    "print(FiveD6.roll(2))\n",
    "print(OneD4.roll())\n",
    "print(OneD20.roll(2))"
   ]
  }
 ],
 "metadata": {
  "kernelspec": {
   "display_name": "Python 3 (ipykernel)",
   "language": "python",
   "name": "python3"
  },
  "language_info": {
   "codemirror_mode": {
    "name": "ipython",
    "version": 3
   },
   "file_extension": ".py",
   "mimetype": "text/x-python",
   "name": "python",
   "nbconvert_exporter": "python",
   "pygments_lexer": "ipython3",
   "version": "3.10.1"
  }
 },
 "nbformat": 4,
 "nbformat_minor": 4
}
