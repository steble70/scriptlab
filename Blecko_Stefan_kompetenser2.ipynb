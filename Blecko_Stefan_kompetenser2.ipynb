{
 "cells": [
  {
   "cell_type": "markdown",
   "id": "7d1ce4e2-5ca2-455c-9c28-36e21ad0eade",
   "metadata": {
    "tags": []
   },
   "source": [
    "# **IT kompetenser 2** \n",
    "#### © 2025 Stefan Blecko, 070-6445868\n",
    "\n",
    "---"
   ]
  },
  {
   "cell_type": "markdown",
   "id": "ffa417d0-8d72-46f9-8802-4e79f941392c",
   "metadata": {},
   "source": [
    "## **Lathund för schemaläggaren i Windows**\n",
    "1. Spara skriptet nedan som `time2stretch.pyw` (t.ex. i din hemkatalog).\n",
    "2. Starta schemaläggaren (*C:\\WINDOWS\\system32\\taskschd.msc*).  \n",
    "    I schemaläggaren (taskschd.msc) definiera:\n",
    "    - Namn på aktiviteten t.ex. *STRETCHING*.\n",
    "    - Utlösare: kl 20:15, varje dag.\n",
    "    - Åtgärder (t.ex. starta ett program):\n",
    "        - Ex: `python.exe time2stretch.pyw` (Python måste naturligvis vara installerad)."
   ]
  },
  {
   "cell_type": "code",
   "execution_count": 1,
   "id": "ab51ac74-fc3d-49cb-9416-0594f0455fef",
   "metadata": {},
   "outputs": [],
   "source": [
    "# time2stretch.pyw version 0.3\n",
    "# © Stefan Blecko 2025\n",
    "\n",
    "import tkinter as tk\n",
    "from tkinter import ttk\n",
    "\n",
    "\n",
    "def postit_window():\n",
    "    root = tk.Tk()\n",
    "    root.title(\"Post-it\") # Initierar root fönstret.\n",
    "    try:\n",
    "        root.attributes(\"-toolwindow\", True)\n",
    "    except tk.TclError:\n",
    "        pass\n",
    "    root.attributes(\"-topmost\", True)\n",
    "\n",
    "    # ttk, för att få ett mera Windows likt utseende på programmen.\n",
    "    style = ttk.Style()\n",
    "    try:\n",
    "        style.theme_use(\"vista\")\n",
    "    except tk.TclError:\n",
    "        style.theme_use(\"default\")\n",
    "\n",
    "    style.configure(\"Yellow.TFrame\", background=\"yellow\")\n",
    "    style.configure(\"Yellow.TLabel\", background=\"yellow\")\n",
    "    main_frame = ttk.Frame(root, padding=20, style=\"Yellow.TFrame\")\n",
    "    main_frame.pack(expand=True, fill=\"both\")\n",
    "\n",
    "    # Dags att fylla fönstret med några Widgets.\n",
    "    label = ttk.Label(main_frame, text=\"TIME 2 STRETCH!\", style=\"Yellow.TLabel\")\n",
    "    label.grid(column=0, row=0)\n",
    "    button = ttk.Button(main_frame, text=\"Avsluta\", command=root.destroy)\n",
    "    button.grid(column=1, row=0, padx=10)\n",
    "\n",
    "    # Startar event loopen.\n",
    "    root.mainloop()\n",
    "\n",
    "\n",
    "if __name__ == \"__main__\":\n",
    "    postit_window()"
   ]
  },
  {
   "cell_type": "code",
   "execution_count": 2,
   "id": "6eddfba7-d35f-43ed-b466-4897757433f0",
   "metadata": {},
   "outputs": [
    {
     "name": "stdout",
     "output_type": "stream",
     "text": [
      "C:\\Users\\steble70\n"
     ]
    }
   ],
   "source": [
    "cd ~"
   ]
  },
  {
   "cell_type": "code",
   "execution_count": 3,
   "id": "5d13bb14-e797-4c48-b6b0-d4bbef95183d",
   "metadata": {},
   "outputs": [
    {
     "name": "stdout",
     "output_type": "stream",
     "text": [
      "The following commands were written to file `time2stretch.ipy`:\n",
      "# time2stretch.pyw version 0.3\n",
      "# © Stefan Blecko 2025\n",
      "\n",
      "import tkinter as tk\n",
      "from tkinter import ttk\n",
      "\n",
      "\n",
      "def postit_window():\n",
      "    root = tk.Tk()\n",
      "    root.title(\"Post-it\") # Initierar root fönstret.\n",
      "    try:\n",
      "        root.attributes(\"-toolwindow\", True)\n",
      "    except tk.TclError:\n",
      "        pass\n",
      "    root.attributes(\"-topmost\", True)\n",
      "\n",
      "    # ttk, för att få ett mera Windows likt utseende på programmen.\n",
      "    style = ttk.Style()\n",
      "    try:\n",
      "        style.theme_use(\"vista\")\n",
      "    except tk.TclError:\n",
      "        style.theme_use(\"default\")\n",
      "\n",
      "    style.configure(\"Yellow.TFrame\", background=\"yellow\")\n",
      "    style.configure(\"Yellow.TLabel\", background=\"yellow\")\n",
      "    main_frame = ttk.Frame(root, padding=20, style=\"Yellow.TFrame\")\n",
      "    main_frame.pack(expand=True, fill=\"both\")\n",
      "\n",
      "    # Dags att fylla fönstret med några Widgets.\n",
      "    label = ttk.Label(main_frame, text=\"TIME 2 STRETCH!\", style=\"Yellow.TLabel\")\n",
      "    label.grid(column=0, row=0)\n",
      "    button = ttk.Button(main_frame, text=\"Avsluta\", command=root.destroy)\n",
      "    button.grid(column=1, row=0, padx=10)\n",
      "\n",
      "    # Startar event loopen.\n",
      "    root.mainloop()\n",
      "\n",
      "\n",
      "if __name__ == \"__main__\":\n",
      "    postit_window()\n"
     ]
    }
   ],
   "source": [
    "%save -r -f time2stretch 1"
   ]
  },
  {
   "cell_type": "code",
   "execution_count": 4,
   "id": "d43a1161-3865-4474-b2c7-a4e4cea924eb",
   "metadata": {},
   "outputs": [],
   "source": [
    "ren time2stretch.ipy time2stretch.pyw"
   ]
  },
  {
   "cell_type": "code",
   "execution_count": 5,
   "id": "d655171a-b791-45c9-9a2b-0c4bf6e85542",
   "metadata": {},
   "outputs": [
    {
     "name": "stdout",
     "output_type": "stream",
     "text": [
      "time2stretch.pyw:11:26: E261 at least two spaces before inline comment\n",
      "    root.title(\"Post-it\") # Initierar root fönstret.\n",
      "                         ^\n",
      "    Separate inline comments by at least two spaces.\n",
      "\n",
      "    An inline comment is a comment on the same line as a statement.\n",
      "    Inline comments should be separated by at least two spaces from the\n",
      "    statement. They should start with a # and a single space.\n",
      "\n",
      "    Each line of a block comment starts with a # and one or multiple\n",
      "    spaces as there can be indented text inside the comment.\n",
      "\n",
      "    Okay: x = x + 1  # Increment x\n",
      "    Okay: x = x + 1    # Increment x\n",
      "    Okay: # Block comments:\n",
      "    Okay: #  - Block comment list\n",
      "    Okay: #  - Block comment list\n",
      "    E261: x = x + 1 # Increment x\n",
      "    E262: x = x + 1  #Increment x\n",
      "    E262: x = x + 1  #  Increment x\n",
      "    E262: x = x + 1  #  Increment x\n",
      "    E265: #Block comment\n",
      "    E266: ### Block comment\n",
      "time2stretch.pyw:31:80: E501 line too long (80 > 79 characters)\n",
      "    label = ttk.Label(main_frame, text=\"TIME 2 STRETCH!\", style=\"Yellow.TLabel\")\n",
      "                                                                               ^\n",
      "    Limit all lines to a maximum of 79 characters.\n",
      "\n",
      "    There are still many devices around that are limited to 80 character\n",
      "    lines; plus, limiting windows to 80 characters makes it possible to\n",
      "    have several windows side-by-side.  The default wrapping on such\n",
      "    devices looks ugly.  Therefore, please limit all lines to a maximum\n",
      "    of 79 characters. For flowing long blocks of text (docstrings or\n",
      "    comments), limiting the length to 72 characters is recommended.\n",
      "\n",
      "    Reports error E501.\n"
     ]
    }
   ],
   "source": [
    "!pycodestyle --show-source --show-pep8 time2stretch.pyw"
   ]
  },
  {
   "cell_type": "code",
   "execution_count": 6,
   "id": "40873ee3-212b-476b-b52a-7e27b3220f15",
   "metadata": {},
   "outputs": [
    {
     "name": "stdout",
     "output_type": "stream",
     "text": [
      "************* Module time2stretch\n",
      "time2stretch.pyw:1:0: C0114: Missing module docstring (missing-module-docstring)\n",
      "time2stretch.pyw:9:0: C0116: Missing function or method docstring (missing-function-docstring)\n",
      "\n",
      "------------------------------------------------------------------\n",
      "Your code has been rated at 9.23/10 (previous run: 8.85/10, +0.38)\n",
      "\n"
     ]
    }
   ],
   "source": [
    "!pylint time2stretch.pyw"
   ]
  },
  {
   "cell_type": "markdown",
   "id": "b742cce4-7f48-4cbb-acc5-c7ab20d25cbd",
   "metadata": {},
   "source": [
    "## **Git/GitHub**"
   ]
  },
  {
   "cell_type": "code",
   "execution_count": 11,
   "id": "ab41f75d-61bc-41ed-b650-8e3542761f7b",
   "metadata": {},
   "outputs": [
    {
     "name": "stdout",
     "output_type": "stream",
     "text": [
      "c:\\Users\\steble70\\Desktop\\POPYS\\VBH\n"
     ]
    }
   ],
   "source": [
    "%cd c:/Users\\steble70/Desktop/POPYS/VBH"
   ]
  },
  {
   "cell_type": "code",
   "execution_count": 12,
   "id": "648eb7b1-a858-48b6-a492-136a469743b4",
   "metadata": {},
   "outputs": [
    {
     "name": "stdout",
     "output_type": "stream",
     "text": [
      "VBH\n",
      "README.md\n",
      "docs\n",
      "temp\n"
     ]
    }
   ],
   "source": [
    "!dir /B /OD"
   ]
  },
  {
   "cell_type": "code",
   "execution_count": 10,
   "id": "08ef8a32-1997-4402-93b2-0b2585d37a61",
   "metadata": {},
   "outputs": [
    {
     "name": "stdout",
     "output_type": "stream",
     "text": [
      "On branch master\n",
      "\n",
      "No commits yet\n",
      "\n",
      "Changes to be committed:\n",
      "  (use \"git rm --cached <file>...\" to unstage)\n",
      "\tnew file:   README.md\n",
      "\tnew file:   temp/Synopsis.md\n",
      "\n",
      "Untracked files:\n",
      "  (use \"git add <file>...\" to include in what will be committed)\n",
      "\ttemp/.obsidian/\n",
      "\n"
     ]
    }
   ],
   "source": [
    "!git status # efter git add"
   ]
  },
  {
   "cell_type": "code",
   "execution_count": 13,
   "id": "e933870b-785c-44c6-8c3f-b6fe63c4e502",
   "metadata": {},
   "outputs": [
    {
     "name": "stdout",
     "output_type": "stream",
     "text": [
      "[master (root-commit) 66fe776] VBH projeket initierad\n",
      " 2 files changed, 47 insertions(+)\n",
      " create mode 100644 README.md\n",
      " create mode 100644 temp/Synopsis.md\n"
     ]
    }
   ],
   "source": [
    "!git commit -m \"VBH projeket initierad\""
   ]
  },
  {
   "cell_type": "code",
   "execution_count": null,
   "id": "4485b2c9-4291-4b79-adae-3a57504c89c4",
   "metadata": {},
   "outputs": [],
   "source": [
    "!git push -u origin main # OBS git push verkar inte funka i JupyterLab, funkar dock i pwsh.exe"
   ]
  },
  {
   "cell_type": "markdown",
   "id": "a2343a8f-3ab1-426c-902c-80992134a53c",
   "metadata": {},
   "source": [
    "```shell\n",
    "The authenticity of host 'github.com (140.82.121.3)' can't be established.\n",
    "ED25519 key fingerprint is SHA256:+DiY3wvvV6TuJJhbpZisF/zLDA0zPMSvHdkr4UvCOqU.\n",
    "This key is not known by any other names\n",
    "Are you sure you want to continue connecting (yes/no/[fingerprint])? y\n",
    "Please type 'yes', 'no' or the fingerprint: y\n",
    "Please type 'yes', 'no' or the fingerprint: yes\n",
    "Warning: Permanently added 'github.com' (ED25519) to the list of known hosts.\n",
    "Enumerating objects: 5, done.\n",
    "Counting objects: 100% (5/5), done.\n",
    "Delta compression using up to 2 threads\n",
    "Compressing objects: 100% (3/3), done.\n",
    "Writing objects: 100% (5/5), 911 bytes | 113.00 KiB/s, done.\n",
    "Total 5 (delta 0), reused 0 (delta 0), pack-reused 0\n",
    "To github.com:steble70/VBH.git\n",
    " * [new branch]      main -> main\n",
    "branch 'main' set up to track 'origin/main'.\n",
    "```"
   ]
  },
  {
   "cell_type": "markdown",
   "id": "3bd2e979-aa23-401f-ab14-39510efd7351",
   "metadata": {},
   "source": [
    "## **PowerShell**\n",
    "### Dator avstängningsknapp i PowerShell\n",
    "![PSpic_v2](PSpic_v2.jpg)"
   ]
  },
  {
   "cell_type": "markdown",
   "id": "eea00c06-998e-487f-99f4-9952972db929",
   "metadata": {},
   "source": [
    "### **Enkel funktion i PowerShell**"
   ]
  },
  {
   "cell_type": "code",
   "execution_count": 7,
   "id": "43314c08-e61c-40b1-a144-fee0d61df50a",
   "metadata": {},
   "outputs": [
    {
     "data": {
      "text/plain": [
       "'C:\\\\Users\\\\steble70'"
      ]
     },
     "execution_count": 7,
     "metadata": {},
     "output_type": "execute_result"
    }
   ],
   "source": [
    "# Kopiera Get-FileSize funktionen (https://github.com/steble70/scriptlab/blob/master/gn.ps1) och\n",
    "# spara den som Get-FileSize.ps1 till:\n",
    "%env USERPROFILE"
   ]
  },
  {
   "cell_type": "code",
   "execution_count": 8,
   "id": "2c2ec6d5-0b94-4623-8a22-8557b595eefd",
   "metadata": {},
   "outputs": [],
   "source": [
    "!pwsh -NoLogo -NoProfile -f Get-FileSize.ps1"
   ]
  },
  {
   "cell_type": "code",
   "execution_count": 9,
   "id": "021c60c0-d943-4550-b371-aa0e5099b492",
   "metadata": {},
   "outputs": [
    {
     "name": "stdout",
     "output_type": "stream",
     "text": [
      "\n",
      "\u001b[32;1mFullName                                                    \u001b[0m\u001b[32;1m  Length\u001b[0m\u001b[32;1m   MB\u001b[0m\n",
      "\u001b[32;1m--------                                                    \u001b[0m \u001b[32;1m ------\u001b[0m \u001b[32;1m  --\u001b[0m\n",
      "C:\\Users\\steble70\\Desktop\\Self Publish With LibreOffice6.pdf 7857195 7,49\n",
      "C:\\Users\\steble70\\Desktop\\IT stuff\\PSmod4.pdf                7818802 7,46\n",
      "C:\\Users\\steble70\\Desktop\\IT stuff\\pySec1.pdf                4493078 4,28\n",
      "\n"
     ]
    }
   ],
   "source": [
    "!pwsh -NoLogo -NoProfile -c Get-FileSize -Mbyte 4 -Path C:\\Users\\steble70\\Desktop\\"
   ]
  }
 ],
 "metadata": {
  "kernelspec": {
   "display_name": "Python 3 (ipykernel)",
   "language": "python",
   "name": "python3"
  },
  "language_info": {
   "codemirror_mode": {
    "name": "ipython",
    "version": 3
   },
   "file_extension": ".py",
   "mimetype": "text/x-python",
   "name": "python",
   "nbconvert_exporter": "python",
   "pygments_lexer": "ipython3",
   "version": "3.12.2"
  }
 },
 "nbformat": 4,
 "nbformat_minor": 5
}
