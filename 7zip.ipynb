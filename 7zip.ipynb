{
 "cells": [
  {
   "cell_type": "markdown",
   "id": "35262e75-e2a0-42e4-b66f-11f8535d1c2d",
   "metadata": {},
   "source": [
    "# **7-Zip tutorial**\n",
    "#### © 2025 av Stefan Blecko, `070-6445868`  \n",
    "**[LinkedIn](https://www.linkedin.com/in/stefan70/recent-activity/all/) | [GitHub](https://github.com/steble70/scriptlab) |\n",
    "Certifieringar: [MS-900](https://www.linkedin.com/posts/stefan70_microsoft-365-certified-fundamentals-activity-7132201402134671360-sZQr?utm_source=share&utm_medium=member_desktop&rcm=ACoAABLNm-IBiq5TlsugIMH7rx0wSvX1qkpzei0), [SC-900](https://www.linkedin.com/posts/stefan70_microsoft-certified-security-compliance-activity-7125476344208969728-TL_O?utm_source=share&utm_medium=member_desktop&rcm=ACoAABLNm-IBiq5TlsugIMH7rx0wSvX1qkpzei0)**\n",
    "\n",
    "---"
   ]
  },
  {
   "cell_type": "code",
   "execution_count": 1,
   "id": "b3963455-3b3a-4010-aaf5-fdc0bff13faf",
   "metadata": {},
   "outputs": [],
   "source": [
    "# © Stefan Blecko 2025\n",
    "\n",
    "from random import randrange as rr\n",
    "from pathlib import Path\n",
    "\n",
    "\n",
    "def fullpath(tdir, fname):\n",
    "    fp = Path(tdir).joinpath(fname)\n",
    "    return fp\n",
    "\n",
    "def bullshit():\n",
    "    bs = \"\"\"Med beaktande av den pågående implementeringsfasens övergripande strategiska inriktning, \n",
    "i vilken arbetsmarknadsrelaterade aktörers intersektoriella samverkanspotential kontinuerligt \n",
    "utvärderas, vill vi understryka att vår primära målsättning är att säkerställa en långsiktigt \n",
    "hållbar process för behovsanpassad icke-intervention. I enlighet med gällande riktlinjer för \n",
    "resursneutral handläggning av arbetslivsfrämjande åtgärdsförslag, har vi därför initierat en \n",
    "omfattande intern koordinationsrutin vars huvudsakliga syfte är att möjliggöra fortsatt \n",
    "beredning av ärenden utan att i praktiken påverka den enskildes arbetsmarknadsstatus. Det är \n",
    "av yttersta vikt att framhålla att varje potentiell anställningsrelation, oavsett \n",
    "subventionsgrad, förutsätter en bilateral konsensusprocess mellan arbetsgivare och \n",
    "arbetssökande, vilken vi - i egenskap av processfacilitator - endast kan observera, dokumentera \n",
    "och i förekommande fall remittera till vidare icke-bindande dialog. Vi är medvetna om att den \n",
    "upplevda avsaknaden av resultat kan ge intryck av passivitet, men vill betona att detta är en \n",
    "planerad och strategiskt förankrad del av vår övergripande måluppfyllelsemodell. Denna modell \n",
    "bygger på principen att ingen åtgärd är den mest inkluderande åtgärden, då den säkerställer \n",
    "likvärdig brist på påverkan för samtliga målgrupper.  \n",
    "\n",
    "Avslutningsvis vill vi försäkra att vi, inom ramen för vår pågående omorganisationsförstudie, \n",
    "kommer att fortsätta utveckla de processer som möjliggör att vi även framgent kan upprätthålla \n",
    "denna höga grad av konsekvent icke-intervention.  \n",
    "\n",
    "\n",
    "Arbetsförmedlingen\"\"\"\n",
    "    return bs \n",
    "\n",
    "def createfile(num=1):\n",
    "    for item in range(num):\n",
    "        fullpath(Path().home(), f'AF_T-2025-{str(rr(10000, 99999))}.pdf').write_text(bullshit())\n",
    "\n",
    "createfile(5)"
   ]
  },
  {
   "cell_type": "code",
   "execution_count": 2,
   "id": "67f6e978-353e-4a6a-8f59-cdb841fbdd9a",
   "metadata": {},
   "outputs": [
    {
     "name": "stdout",
     "output_type": "stream",
     "text": [
      "C:\\Users\\steble70\n"
     ]
    }
   ],
   "source": [
    "cd ~"
   ]
  },
  {
   "cell_type": "code",
   "execution_count": 3,
   "id": "b56e2165-a7a1-4370-aa7a-39b08e6a4dab",
   "metadata": {},
   "outputs": [
    {
     "name": "stdout",
     "output_type": "stream",
     "text": [
      " Volume in drive C is Acer\n",
      " Volume Serial Number is 12B5-DDF8\n",
      "\n",
      " Directory of C:\\Users\\steble70\n",
      "\n",
      "2025-09-20  10:37             1ÿ632 AF_T-2025-27674.pdf\n",
      "2025-09-20  10:37             1ÿ632 AF_T-2025-58894.pdf\n",
      "2025-09-20  10:37             1ÿ632 AF_T-2025-73987.pdf\n",
      "2025-09-20  10:37             1ÿ632 AF_T-2025-74382.pdf\n",
      "2025-09-20  10:37             1ÿ632 AF_T-2025-91781.pdf\n",
      "               5 File(s)          8ÿ160 bytes\n",
      "               0 Dir(s)     668ÿ893ÿ184 bytes free\n"
     ]
    }
   ],
   "source": [
    "%ls AF_*\n",
    "# Filerna är vanliga textfiler som går att öppna i en vanlig texteditor (de är alltså inte PDF:er)."
   ]
  },
  {
   "cell_type": "markdown",
   "id": "94393aa7-07b4-4525-ad2d-e16f71c05dba",
   "metadata": {},
   "source": [
    "## **7-Zip-arkiv**\n",
    "#### **Skapa ett exekverbart arkiv**"
   ]
  },
  {
   "cell_type": "code",
   "execution_count": 4,
   "id": "0db8786e-e49d-4435-8eef-2a88afbb1e5f",
   "metadata": {},
   "outputs": [
    {
     "name": "stdout",
     "output_type": "stream",
     "text": [
      "\n",
      "7-Zip 25.01 (x64) : Copyright (c) 1999-2025 Igor Pavlov : 2025-08-03\n",
      "\n",
      "Scanning the drive:\n",
      "5 files, 8160 bytes (8 KiB)\n",
      "\n",
      "Creating archive: hemliga_tvångsmetoder.exe\n",
      "\n",
      "Add new data to archive: 5 files, 8160 bytes (8 KiB)\n",
      "\n",
      "Write SFX: C:\\Program Files\\7-Zip\\7zCon.sfx : 193536 bytes (189 KiB)\n",
      "\n",
      "Files read from disk: 5\n",
      "Archive size: 194735 bytes (191 KiB)\n",
      "\n",
      "Everything is Ok\n"
     ]
    }
   ],
   "source": [
    "!7z a -sfx7zCon.sfx hemliga_tvångsmetoder.exe AF_T* -sdel -sccWIN"
   ]
  },
  {
   "cell_type": "markdown",
   "id": "d49acbf0-31ad-46dc-be0d-0bf19ea4001e",
   "metadata": {},
   "source": [
    "#### **Lista filerna i arkivet**"
   ]
  },
  {
   "cell_type": "code",
   "execution_count": 5,
   "id": "c52f9a36-dae5-4421-8d4b-28dad6e4acc7",
   "metadata": {},
   "outputs": [
    {
     "name": "stdout",
     "output_type": "stream",
     "text": [
      "\n",
      "7-Zip 25.01 (x64) : Copyright (c) 1999-2025 Igor Pavlov : 2025-08-03\n",
      "\n",
      "Scanning the drive for archives:\n",
      "1 file, 194735 bytes (191 KiB)\n",
      "\n",
      "Listing archive: hemliga_tvångsmetoder.exe\n",
      "\n",
      "--\n",
      "Path = hemliga_tvångsmetoder.exe\n",
      "Type = 7z\n",
      "Offset = 193536\n",
      "Physical Size = 1199\n",
      "Headers Size = 209\n",
      "Method = LZMA2:13\n",
      "Solid = +\n",
      "Blocks = 1\n",
      "\n",
      "   Date      Time    Attr         Size   Compressed  Name\n",
      "------------------- ----- ------------ ------------  ------------------------\n",
      "2025-09-20 10:37:50 ....A         1632          990  AF_T-2025-27674.pdf\n",
      "2025-09-20 10:37:50 ....A         1632               AF_T-2025-58894.pdf\n",
      "2025-09-20 10:37:50 ....A         1632               AF_T-2025-73987.pdf\n",
      "2025-09-20 10:37:50 ....A         1632               AF_T-2025-74382.pdf\n",
      "2025-09-20 10:37:50 ....A         1632               AF_T-2025-91781.pdf\n",
      "------------------- ----- ------------ ------------  ------------------------\n",
      "2025-09-20 10:37:50               8160          990  5 files\n"
     ]
    }
   ],
   "source": [
    "!7z l hemliga_tvångsmetoder.exe -sccWIN"
   ]
  },
  {
   "cell_type": "markdown",
   "id": "053e66d7-d39d-40a7-8e89-4f181eeffc81",
   "metadata": {},
   "source": [
    "#### **Uppdatera filerna i arkivet**"
   ]
  },
  {
   "cell_type": "code",
   "execution_count": 6,
   "id": "7c08fe8f-2d82-41ff-a66b-d476a7aa221e",
   "metadata": {},
   "outputs": [],
   "source": [
    "createfile(2)"
   ]
  },
  {
   "cell_type": "code",
   "execution_count": 7,
   "id": "05d71268-6cbc-409f-9ca9-2ff88a3d9c13",
   "metadata": {},
   "outputs": [
    {
     "name": "stdout",
     "output_type": "stream",
     "text": [
      " Volume in drive C is Acer\n",
      " Volume Serial Number is 12B5-DDF8\n",
      "\n",
      " Directory of C:\\Users\\steble70\n",
      "\n",
      "2025-09-20  10:42             1ÿ632 AF_T-2025-16014.pdf\n",
      "2025-09-20  10:42             1ÿ632 AF_T-2025-40931.pdf\n",
      "               2 File(s)          3ÿ264 bytes\n",
      "               0 Dir(s)     660ÿ664ÿ320 bytes free\n"
     ]
    }
   ],
   "source": [
    "%ls AF_*"
   ]
  },
  {
   "cell_type": "code",
   "execution_count": 8,
   "id": "a85292d5-d38e-4656-ac70-5260bf191c96",
   "metadata": {},
   "outputs": [
    {
     "name": "stdout",
     "output_type": "stream",
     "text": [
      "\n",
      "7-Zip 25.01 (x64) : Copyright (c) 1999-2025 Igor Pavlov : 2025-08-03\n",
      "\n",
      "Open archive: hemliga_tvångsmetoder.exe\n",
      "--\n",
      "Path = hemliga_tvångsmetoder.exe\n",
      "Type = 7z\n",
      "Offset = 193536\n",
      "Physical Size = 1199\n",
      "Headers Size = 209\n",
      "Method = LZMA2:13\n",
      "Solid = +\n",
      "Blocks = 1\n",
      "\n",
      "Scanning the drive:\n",
      "2 files, 3264 bytes (4 KiB)\n",
      "\n",
      "Updating archive: hemliga_tvångsmetoder.exe\n",
      "\n",
      "Keep old data in archive: 5 files, 8160 bytes (8 KiB)\n",
      "Add new data to archive: 2 files, 3264 bytes (4 KiB)\n",
      "\n",
      "\n",
      "Files read from disk: 2\n",
      "Archive size: 195742 bytes (192 KiB)\n",
      "Everything is Ok\n"
     ]
    }
   ],
   "source": [
    "!7z u hemliga_tvångsmetoder.exe AF_T* -sccWIN"
   ]
  },
  {
   "cell_type": "markdown",
   "id": "5b96a719-b7de-4517-bc9e-45f5c6dea74c",
   "metadata": {},
   "source": [
    "#### **Packa upp filerna från 7-Zip-arkivet**"
   ]
  },
  {
   "cell_type": "code",
   "execution_count": 9,
   "id": "70d8f2fe-7e85-4b7a-af38-9f6445a90c30",
   "metadata": {},
   "outputs": [
    {
     "name": "stdout",
     "output_type": "stream",
     "text": [
      "        1 file(s) copied.\n"
     ]
    }
   ],
   "source": [
    "%copy hemliga_tvångsmetoder.exe d:"
   ]
  },
  {
   "cell_type": "code",
   "execution_count": 10,
   "id": "7e0ae788-ab27-490c-9742-4f87c76988f0",
   "metadata": {},
   "outputs": [
    {
     "name": "stdout",
     "output_type": "stream",
     "text": [
      "D:\\\n"
     ]
    }
   ],
   "source": [
    "%cd d:"
   ]
  },
  {
   "cell_type": "code",
   "execution_count": 11,
   "id": "be7f9f12-3578-493d-8ae0-1d49e5338a37",
   "metadata": {},
   "outputs": [
    {
     "name": "stdout",
     "output_type": "stream",
     "text": [
      "\n",
      "7-Zip SFX 25.01 (x86) : Copyright (c) 1999-2025 Igor Pavlov : 2025-08-03\n",
      "\n",
      "Extracting archive: D:\\hemliga_tv†ngsmetoder.exe\n",
      "--\n",
      "Path = D:\\hemliga_tv†ngsmetoder.exe\n",
      "Type = 7z\n",
      "\n",
      "  0%\n",
      "    \n",
      " 71% - AF_T-2025-27674.pdf\n",
      "                          \n",
      " 71% 1 - AF_T-2025-58894.pdf\n",
      "                            \n",
      " 71% 2 - AF_T-2025-73987.pdf\n",
      "                            \n",
      " 71% 3 - AF_T-2025-74382.pdf\n",
      "                            \n",
      " 71% 4 - AF_T-2025-91781.pdf\n",
      "                            \n",
      " 71% 5\n",
      "      \n",
      "100% 5 - AF_T-2025-16014.pdf\n",
      "                            \n",
      "100% 6 - AF_T-2025-40931.pdf\n",
      "                            \n",
      "100% 7\n",
      "      \n",
      "Everything is Ok\n"
     ]
    }
   ],
   "source": [
    "!hemliga_tvångsmetoder.exe"
   ]
  },
  {
   "cell_type": "markdown",
   "id": "a49b96e2-78c6-4453-9dd4-b100d66a8ce0",
   "metadata": {},
   "source": [
    "#### **Kryptering av 7-Zip-arkiv**\n",
    "Läs mer om kryptering [här](https://learn.microsoft.com/en-us/training/modules/describe-concepts-of-cryptography/3-describe-encryption-its-use-cybersecurity)."
   ]
  },
  {
   "cell_type": "code",
   "execution_count": 12,
   "id": "eb187f1e-553a-4385-88a6-bf195d5118cb",
   "metadata": {},
   "outputs": [
    {
     "name": "stdout",
     "output_type": "stream",
     "text": [
      "C:\\Users\\steble70\n"
     ]
    }
   ],
   "source": [
    "%cd ~"
   ]
  },
  {
   "cell_type": "code",
   "execution_count": 13,
   "id": "b531a574-40d1-42f2-9039-b3dcb7374bc0",
   "metadata": {},
   "outputs": [],
   "source": [
    "!del AF_*"
   ]
  },
  {
   "cell_type": "code",
   "execution_count": 14,
   "id": "dbf347d3-54e9-4cb9-b53f-4d8e48582434",
   "metadata": {},
   "outputs": [],
   "source": [
    "createfile(5)"
   ]
  },
  {
   "cell_type": "code",
   "execution_count": 15,
   "id": "7282c7c9-11d5-4d27-8247-bee3251776a4",
   "metadata": {},
   "outputs": [
    {
     "name": "stdout",
     "output_type": "stream",
     "text": [
      "\n",
      "7-Zip 25.01 (x64) : Copyright (c) 1999-2025 Igor Pavlov : 2025-08-03\n",
      "\n",
      "Scanning the drive:\n",
      "5 files, 8160 bytes (8 KiB)\n",
      "\n",
      "Creating archive: hemliga_tvångsmetoder2.exe\n",
      "\n",
      "Add new data to archive: 5 files, 8160 bytes (8 KiB)\n",
      "\n",
      "Write SFX: C:\\Program Files\\7-Zip\\7zCon.sfx : 193536 bytes (189 KiB)\n",
      "\n",
      "Files read from disk: 5\n",
      "Archive size: 194815 bytes (191 KiB)\n",
      "Everything is Ok\n"
     ]
    }
   ],
   "source": [
    "!7z a -sfx7zCon.sfx -pAll_makt_åt_Tengil_vår_befriare hemliga_tvångsmetoder2.exe AF_T* -mhe -sccWIN"
   ]
  },
  {
   "cell_type": "markdown",
   "id": "b7a60063-6c51-415c-b1fd-5c67faf40a2e",
   "metadata": {},
   "source": [
    "## **tar (tarball)-arkiv**\n",
    "tar (se Wikipedia) är ett urgammalt program som numera ersatt av andra program."
   ]
  },
  {
   "cell_type": "markdown",
   "id": "fef71a33-5670-45d2-a8f3-ac8f67fff567",
   "metadata": {},
   "source": [
    "#### **Hashing**\n",
    "Läs mer om hashing [här](https://learn.microsoft.com/en-us/training/modules/describe-concepts-of-cryptography/4-describe-hashing-its-application-digital-signing)."
   ]
  },
  {
   "cell_type": "code",
   "execution_count": 16,
   "id": "fb65c655-72b9-4587-81ee-0f7945403413",
   "metadata": {},
   "outputs": [
    {
     "name": "stdout",
     "output_type": "stream",
     "text": [
      "\n",
      "7-Zip 25.01 (x64) : Copyright (c) 1999-2025 Igor Pavlov : 2025-08-03\n",
      "\n",
      "Scanning the drive:\n",
      "5 files, 8160 bytes (8 KiB)\n",
      "\n",
      "Creating archive: list.sha256\n",
      "\n",
      "Add new data to archive: 5 files, 8160 bytes (8 KiB)\n",
      "\n",
      "\n",
      "Files read from disk: 5\n",
      "Archive size: 430 bytes (1 KiB)\n",
      "Everything is Ok\n"
     ]
    }
   ],
   "source": [
    "!7z a -thash list.sha256 AF_T*"
   ]
  },
  {
   "cell_type": "code",
   "execution_count": 17,
   "id": "5ce3d604-4b33-4ed9-a88f-bc4059869728",
   "metadata": {},
   "outputs": [
    {
     "name": "stdout",
     "output_type": "stream",
     "text": [
      "\n",
      "7-Zip 25.01 (x64) : Copyright (c) 1999-2025 Igor Pavlov : 2025-08-03\n",
      "\n",
      "Scanning the drive:\n",
      "6 files, 8590 bytes (9 KiB)\n",
      "\n",
      "Creating archive: hemliga_tvångsmetoder3.tar\n",
      "\n",
      "Add new data to archive: 6 files, 8590 bytes (9 KiB)\n",
      "\n",
      "\n",
      "Files read from disk: 6\n",
      "Archive size: 14848 bytes (15 KiB)\n",
      "\n",
      "Everything is Ok\n"
     ]
    }
   ],
   "source": [
    "!7z a -ttar hemliga_tvångsmetoder3.tar AF_T* list.sha256 -sdel -sccWIN"
   ]
  },
  {
   "cell_type": "code",
   "execution_count": 18,
   "id": "b34691e2-9f5e-4d47-901b-9d69a64b17f2",
   "metadata": {
    "scrolled": true
   },
   "outputs": [
    {
     "name": "stdout",
     "output_type": "stream",
     "text": [
      "\n",
      "7-Zip 25.01 (x64) : Copyright (c) 1999-2025 Igor Pavlov : 2025-08-03\n",
      "\n",
      "Scanning the drive:\n",
      "1 file, 14848 bytes (15 KiB)\n",
      "\n",
      "Creating archive: hemliga_tvångsmetoder3.tar.bz2\n",
      "\n",
      "Add new data to archive: 1 file, 14848 bytes (15 KiB)\n",
      "\n",
      "\n",
      "Files read from disk: 1\n",
      "Archive size: 1777 bytes (2 KiB)\n",
      "Everything is Ok\n"
     ]
    }
   ],
   "source": [
    "!7z a -tbzip2 hemliga_tvångsmetoder3.tar.bz2 hemliga_tvångsmetoder3.tar -sccWIN"
   ]
  },
  {
   "cell_type": "code",
   "execution_count": 19,
   "id": "1b901d8e-ccb4-4b98-985b-a4b66d512892",
   "metadata": {},
   "outputs": [],
   "source": [
    "!del hemliga_tvångsmetoder3.tar"
   ]
  },
  {
   "cell_type": "code",
   "execution_count": 20,
   "id": "67304ca9-111f-42d8-83d7-1b3ae9cd2060",
   "metadata": {},
   "outputs": [
    {
     "name": "stdout",
     "output_type": "stream",
     "text": [
      "\n",
      "7-Zip 25.01 (x64) : Copyright (c) 1999-2025 Igor Pavlov : 2025-08-03\n",
      "\n",
      "Scanning the drive for archives:\n",
      "1 file, 1777 bytes (2 KiB)\n",
      "\n",
      "Testing archive: hemliga_tvångsmetoder3.tar.bz2\n",
      "--\n",
      "Path = hemliga_tvångsmetoder3.tar.bz2\n",
      "Type = bzip2\n",
      "\n",
      "Everything is Ok\n",
      "\n",
      "Size:       14848\n",
      "Compressed: 1777\n"
     ]
    }
   ],
   "source": [
    "!7z t hemliga_tvångsmetoder3.tar.bz2 -sccWIN"
   ]
  },
  {
   "cell_type": "markdown",
   "id": "f3521df5-9b5a-4e60-8812-f346f17a6d16",
   "metadata": {},
   "source": [
    "## **Zip-arkiv**"
   ]
  },
  {
   "cell_type": "code",
   "execution_count": 21,
   "id": "cf7eb06c-da0b-4fbb-9479-3e92fd1e773e",
   "metadata": {},
   "outputs": [],
   "source": [
    "createfile(10)"
   ]
  },
  {
   "cell_type": "code",
   "execution_count": 22,
   "id": "c81804d6-4bfe-4433-b8ed-72b5fbb0824d",
   "metadata": {},
   "outputs": [
    {
     "name": "stdout",
     "output_type": "stream",
     "text": [
      "\n",
      "7-Zip 25.01 (x64) : Copyright (c) 1999-2025 Igor Pavlov : 2025-08-03\n",
      "\n",
      "Scanning the drive:\n",
      "10 files, 16320 bytes (16 KiB)\n",
      "\n",
      "Creating archive: hemliga_tvångsmetoder4.zip\n",
      "\n",
      "Add new data to archive: 10 files, 16320 bytes (16 KiB)\n",
      "\n",
      "\n",
      "Files read from disk: 10\n",
      "Archive size: 10022 bytes (10 KiB)\n",
      "\n",
      "Everything is Ok\n"
     ]
    }
   ],
   "source": [
    "!7z a -tzip hemliga_tvångsmetoder4.zip AF_* -sdel -sccWIN"
   ]
  },
  {
   "cell_type": "code",
   "execution_count": 23,
   "id": "fc785d22-a8cc-4685-bf24-5c2f95c6b069",
   "metadata": {},
   "outputs": [
    {
     "name": "stdout",
     "output_type": "stream",
     "text": [
      "\n",
      "7-Zip 25.01 (x64) : Copyright (c) 1999-2025 Igor Pavlov : 2025-08-03\n",
      "\n",
      "Scanning the drive for archives:\n",
      "1 file, 10022 bytes (10 KiB)\n",
      "\n",
      "Listing archive: hemliga_tvångsmetoder4.zip\n",
      "\n",
      "--\n",
      "Path = hemliga_tvångsmetoder4.zip\n",
      "Type = zip\n",
      "Physical Size = 10022\n",
      "\n",
      "   Date      Time    Attr         Size   Compressed  Name\n",
      "------------------- ----- ------------ ------------  ------------------------\n",
      "2025-09-20 10:58:10 ....A         1632          850  AF_T-2025-13547.pdf\n",
      "2025-09-20 10:58:10 ....A         1632          850  AF_T-2025-20751.pdf\n",
      "2025-09-20 10:58:10 ....A         1632          850  AF_T-2025-24267.pdf\n",
      "2025-09-20 10:58:10 ....A         1632          850  AF_T-2025-47920.pdf\n",
      "2025-09-20 10:58:10 ....A         1632          850  AF_T-2025-51155.pdf\n",
      "2025-09-20 10:58:10 ....A         1632          850  AF_T-2025-59351.pdf\n",
      "2025-09-20 10:58:10 ....A         1632          850  AF_T-2025-75051.pdf\n",
      "2025-09-20 10:58:10 ....A         1632          850  AF_T-2025-79939.pdf\n",
      "2025-09-20 10:58:10 ....A         1632          850  AF_T-2025-91395.pdf\n",
      "2025-09-20 10:58:10 ....A         1632          850  AF_T-2025-99944.pdf\n",
      "------------------- ----- ------------ ------------  ------------------------\n",
      "2025-09-20 10:58:10              16320         8500  10 files\n"
     ]
    }
   ],
   "source": [
    "!7z l hemliga_tvångsmetoder4.zip -sccWIN"
   ]
  },
  {
   "cell_type": "markdown",
   "id": "af90190f-ba49-4a16-b70f-36cc52f5059e",
   "metadata": {},
   "source": [
    "#### **Radera filer från arkivet**"
   ]
  },
  {
   "cell_type": "code",
   "execution_count": 24,
   "id": "077a493a-2289-460b-894e-eb890fc322f6",
   "metadata": {},
   "outputs": [
    {
     "name": "stdout",
     "output_type": "stream",
     "text": [
      "\n",
      "7-Zip 25.01 (x64) : Copyright (c) 1999-2025 Igor Pavlov : 2025-08-03\n",
      "\n",
      "Open archive: hemliga_tvångsmetoder4.zip\n",
      "--\n",
      "Path = hemliga_tvångsmetoder4.zip\n",
      "Type = zip\n",
      "Physical Size = 10022\n",
      "\n",
      "Updating archive: hemliga_tvångsmetoder4.zip\n",
      "\n",
      "\n",
      "Delete data from archive: 2 files, 3264 bytes (4 KiB)\n",
      "Keep old data in archive: 8 files, 13056 bytes (13 KiB)\n",
      "Add new data to archive: 0 files, 0 bytes\n",
      "\n",
      "\n",
      "Files read from disk: 0\n",
      "Archive size: 8022 bytes (8 KiB)\n",
      "Everything is Ok\n"
     ]
    }
   ],
   "source": [
    "!7z d hemliga_tvångsmetoder4.zip AF_T-2025-2*.pdf -bb -sccWIN"
   ]
  }
 ],
 "metadata": {
  "kernelspec": {
   "display_name": "Python 3 (ipykernel)",
   "language": "python",
   "name": "python3"
  },
  "language_info": {
   "codemirror_mode": {
    "name": "ipython",
    "version": 3
   },
   "file_extension": ".py",
   "mimetype": "text/x-python",
   "name": "python",
   "nbconvert_exporter": "python",
   "pygments_lexer": "ipython3",
   "version": "3.12.2"
  }
 },
 "nbformat": 4,
 "nbformat_minor": 5
}
