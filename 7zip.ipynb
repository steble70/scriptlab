{
 "cells": [
  {
   "cell_type": "markdown",
   "id": "35262e75-e2a0-42e4-b66f-11f8535d1c2d",
   "metadata": {},
   "source": [
    "# **7-Zip tutorial**\n",
    "#### © 2025 av Stefan Blecko, `070-6445868`  \n",
    "**[LinkedIn](https://www.linkedin.com/in/stefan70/recent-activity/all/) | [GitHub](https://github.com/steble70/scriptlab) |\n",
    "Certifieringar: [MS-900](https://www.linkedin.com/posts/stefan70_microsoft-365-certified-fundamentals-activity-7132201402134671360-sZQr?utm_source=share&utm_medium=member_desktop&rcm=ACoAABLNm-IBiq5TlsugIMH7rx0wSvX1qkpzei0), [SC-900](https://www.linkedin.com/posts/stefan70_microsoft-certified-security-compliance-activity-7125476344208969728-TL_O?utm_source=share&utm_medium=member_desktop&rcm=ACoAABLNm-IBiq5TlsugIMH7rx0wSvX1qkpzei0)**\n",
    "\n",
    "---"
   ]
  },
  {
   "cell_type": "code",
   "execution_count": 1,
   "id": "b3963455-3b3a-4010-aaf5-fdc0bff13faf",
   "metadata": {},
   "outputs": [],
   "source": [
    "# © Stefan Blecko 2025\n",
    "\n",
    "from random import randrange as rr\n",
    "from pathlib import Path\n",
    "\n",
    "\n",
    "def fullpath(tdir, fname):\n",
    "    fp = Path(tdir).joinpath(fname)\n",
    "    return fp\n",
    "\n",
    "def bullshit():\n",
    "    bs = \"\"\"Med beaktande av den pågående implementeringsfasens övergripande strategiska inriktning, \n",
    "i vilken arbetsmarknadsrelaterade aktörers intersektoriella samverkanspotential kontinuerligt \n",
    "utvärderas, vill vi understryka att vår primära målsättning är att säkerställa en långsiktigt \n",
    "hållbar process för behovsanpassad icke-intervention. I enlighet med gällande riktlinjer för \n",
    "resursneutral handläggning av arbetslivsfrämjande åtgärdsförslag, har vi därför initierat en \n",
    "omfattande intern koordinationsrutin vars huvudsakliga syfte är att möjliggöra fortsatt \n",
    "beredning av ärenden utan att i praktiken påverka den enskildes arbetsmarknadsstatus. Det är \n",
    "av yttersta vikt att framhålla att varje potentiell anställningsrelation, oavsett \n",
    "subventionsgrad, förutsätter en bilateral konsensusprocess mellan arbetsgivare och \n",
    "arbetssökande, vilken vi - i egenskap av processfacilitator - endast kan observera, dokumentera \n",
    "och i förekommande fall remittera till vidare icke-bindande dialog. Vi är medvetna om att den \n",
    "upplevda avsaknaden av resultat kan ge intryck av passivitet, men vill betona att detta är en \n",
    "planerad och strategiskt förankrad del av vår övergripande måluppfyllelsemodell. Denna modell \n",
    "bygger på principen att ingen åtgärd är den mest inkluderande åtgärden, då den säkerställer \n",
    "likvärdig brist på påverkan för samtliga målgrupper.  \n",
    "\n",
    "Avslutningsvis vill vi försäkra att vi, inom ramen för vår pågående omorganisationsförstudie, \n",
    "kommer att fortsätta utveckla de processer som möjliggör att vi även framgent kan upprätthålla \n",
    "denna höga grad nav konsekvent icke-intervention.  \n",
    "\n",
    "\n",
    "Generaldirektör\n",
    "\n",
    "Arbetsförmedlingen\"\"\"\n",
    "    return bs \n",
    "\n",
    "def createfile(num=1):\n",
    "    for item in range(num):\n",
    "        fullpath(Path().home(), f'AF_T-2025-{str(rr(10000, 99999))}.pdf').write_text(bullshit())\n",
    "\n",
    "createfile(5)"
   ]
  },
  {
   "cell_type": "code",
   "execution_count": 2,
   "id": "67f6e978-353e-4a6a-8f59-cdb841fbdd9a",
   "metadata": {},
   "outputs": [
    {
     "name": "stdout",
     "output_type": "stream",
     "text": [
      "C:\\Users\\steble70\n"
     ]
    }
   ],
   "source": [
    "cd ~"
   ]
  },
  {
   "cell_type": "code",
   "execution_count": 3,
   "id": "b56e2165-a7a1-4370-aa7a-39b08e6a4dab",
   "metadata": {},
   "outputs": [
    {
     "name": "stdout",
     "output_type": "stream",
     "text": [
      " Volume in drive C is Acer\n",
      " Volume Serial Number is 12B5-DDF8\n",
      "\n",
      " Directory of C:\\Users\\steble70\n",
      "\n",
      "2025-09-18  17:35             1ÿ652 AF_T-2025-16103.pdf\n",
      "2025-09-18  17:35             1ÿ652 AF_T-2025-55620.pdf\n",
      "2025-09-18  17:35             1ÿ652 AF_T-2025-77706.pdf\n",
      "2025-09-18  17:35             1ÿ652 AF_T-2025-79306.pdf\n",
      "2025-09-18  17:35             1ÿ652 AF_T-2025-90422.pdf\n",
      "               5 File(s)          8ÿ260 bytes\n",
      "               0 Dir(s)     810ÿ196ÿ992 bytes free\n"
     ]
    }
   ],
   "source": [
    "%ls AF_*\n",
    "# Filerna är vanliga textfiler som går att öppna i en vanlig texteditor (de är alltså inte PDF:er)."
   ]
  },
  {
   "cell_type": "markdown",
   "id": "94393aa7-07b4-4525-ad2d-e16f71c05dba",
   "metadata": {},
   "source": [
    "## **7-Zip-arkiv**\n",
    "#### **Skapa ett exekverbart arkiv**"
   ]
  },
  {
   "cell_type": "code",
   "execution_count": 4,
   "id": "de99556f-1743-4110-9383-d42e1597dceb",
   "metadata": {},
   "outputs": [
    {
     "name": "stdout",
     "output_type": "stream",
     "text": [
      "C:\\Users\\steble70\n"
     ]
    }
   ],
   "source": [
    "%cd ~"
   ]
  },
  {
   "cell_type": "code",
   "execution_count": 5,
   "id": "0db8786e-e49d-4435-8eef-2a88afbb1e5f",
   "metadata": {},
   "outputs": [
    {
     "name": "stdout",
     "output_type": "stream",
     "text": [
      "\n",
      "7-Zip 25.01 (x64) : Copyright (c) 1999-2025 Igor Pavlov : 2025-08-03\n",
      "\n",
      "Open archive: hemliga_tvångsmetoder.exe\n",
      "--\n",
      "Path = hemliga_tvångsmetoder.exe\n",
      "Type = 7z\n",
      "Offset = 193536\n",
      "Physical Size = 1210\n",
      "Headers Size = 207\n",
      "Method = LZMA2:12k\n",
      "Solid = +\n",
      "Blocks = 1\n",
      "\n",
      "Scanning the drive:\n",
      "5 files, 8260 bytes (9 KiB)\n",
      "\n",
      "Updating archive: hemliga_tvångsmetoder.exe\n",
      "\n",
      "Keep old data in archive: 5 files, 8260 bytes (9 KiB)\n",
      "Add new data to archive: 5 files, 8260 bytes (9 KiB)\n",
      "\n",
      "Write SFX: C:\\Program Files\\7-Zip\\7zCon.sfx : 193536 bytes (189 KiB)\n",
      "\n",
      "Files read from disk: 5\n",
      "Archive size: 195805 bytes (192 KiB)\n",
      "Everything is Ok\n"
     ]
    }
   ],
   "source": [
    "!7z a -sfx7zCon.sfx hemliga_tvångsmetoder.exe AF_T* -sccWIN"
   ]
  },
  {
   "cell_type": "markdown",
   "id": "d49acbf0-31ad-46dc-be0d-0bf19ea4001e",
   "metadata": {},
   "source": [
    "#### **Lista filerna i arkivet**"
   ]
  },
  {
   "cell_type": "code",
   "execution_count": 6,
   "id": "c52f9a36-dae5-4421-8d4b-28dad6e4acc7",
   "metadata": {},
   "outputs": [
    {
     "name": "stdout",
     "output_type": "stream",
     "text": [
      "\n",
      "7-Zip 25.01 (x64) : Copyright (c) 1999-2025 Igor Pavlov : 2025-08-03\n",
      "\n",
      "Scanning the drive for archives:\n",
      "1 file, 195805 bytes (192 KiB)\n",
      "\n",
      "Listing archive: hemliga_tvångsmetoder.exe\n",
      "\n",
      "--\n",
      "Path = hemliga_tvångsmetoder.exe\n",
      "Type = 7z\n",
      "Offset = 193536\n",
      "Physical Size = 2269\n",
      "Headers Size = 263\n",
      "Method = LZMA2:12k\n",
      "Solid = +\n",
      "Blocks = 2\n",
      "\n",
      "   Date      Time    Attr         Size   Compressed  Name\n",
      "------------------- ----- ------------ ------------  ------------------------\n",
      "2025-09-18 17:12:41 ....A         1652         1003  AF_T-2025-13943.pdf\n",
      "2025-09-18 17:12:41 ....A         1652               AF_T-2025-23653.pdf\n",
      "2025-09-18 17:12:41 ....A         1652               AF_T-2025-70272.pdf\n",
      "2025-09-18 17:12:41 ....A         1652               AF_T-2025-87850.pdf\n",
      "2025-09-18 17:12:41 ....A         1652               AF_T-2025-94236.pdf\n",
      "2025-09-18 17:35:27 ....A         1652         1003  AF_T-2025-16103.pdf\n",
      "2025-09-18 17:35:27 ....A         1652               AF_T-2025-55620.pdf\n",
      "2025-09-18 17:35:27 ....A         1652               AF_T-2025-77706.pdf\n",
      "2025-09-18 17:35:27 ....A         1652               AF_T-2025-79306.pdf\n",
      "2025-09-18 17:35:27 ....A         1652               AF_T-2025-90422.pdf\n",
      "------------------- ----- ------------ ------------  ------------------------\n",
      "2025-09-18 17:35:27              16520         2006  10 files\n"
     ]
    }
   ],
   "source": [
    "!7z l hemliga_tvångsmetoder.exe -sccWIN"
   ]
  },
  {
   "cell_type": "markdown",
   "id": "fef71a33-5670-45d2-a8f3-ac8f67fff567",
   "metadata": {},
   "source": [
    "#### **Hashing**\n",
    "Läs mer om hashing [här](https://learn.microsoft.com/en-us/training/modules/describe-concepts-of-cryptography/4-describe-hashing-its-application-digital-signing)."
   ]
  },
  {
   "cell_type": "code",
   "execution_count": 7,
   "id": "b09513b3-4ec0-4613-8f0b-e14302d73275",
   "metadata": {},
   "outputs": [
    {
     "name": "stdout",
     "output_type": "stream",
     "text": [
      "\n",
      "7-Zip 25.01 (x64) : Copyright (c) 1999-2025 Igor Pavlov : 2025-08-03\n",
      "\n",
      "Scanning\n",
      "1 file, 195805 bytes (192 KiB)\n",
      "\n",
      "SHA256                                                                    Size  Name\n",
      "---------------------------------------------------------------- -------------  ------------\n",
      "5c7e546dfae96057e695fea5e6042dfd9fede395291dc19ff50c56666d4e65a2        195805  hemliga_tvångsmetoder.exe\n",
      "---------------------------------------------------------------- -------------  ------------\n",
      "5c7e546dfae96057e695fea5e6042dfd9fede395291dc19ff50c56666d4e65a2        195805  \n",
      "\n",
      "Size: 195805\n",
      "\n",
      "SHA256 for data:              5c7e546dfae96057e695fea5e6042dfd9fede395291dc19ff50c56666d4e65a2\n",
      "\n",
      "Everything is Ok\n"
     ]
    }
   ],
   "source": [
    "!7z h -scrcsha256 hemliga_tvångsmetoder.exe -sccWIN"
   ]
  },
  {
   "cell_type": "markdown",
   "id": "5b96a719-b7de-4517-bc9e-45f5c6dea74c",
   "metadata": {},
   "source": [
    "#### **Packa upp filerna från 7-Zip-arkivet**"
   ]
  },
  {
   "cell_type": "code",
   "execution_count": 8,
   "id": "70d8f2fe-7e85-4b7a-af38-9f6445a90c30",
   "metadata": {},
   "outputs": [
    {
     "name": "stdout",
     "output_type": "stream",
     "text": [
      "        1 file(s) copied.\n"
     ]
    }
   ],
   "source": [
    "%copy hemliga_tvångsmetoder.exe d:"
   ]
  },
  {
   "cell_type": "code",
   "execution_count": 9,
   "id": "7e0ae788-ab27-490c-9742-4f87c76988f0",
   "metadata": {},
   "outputs": [
    {
     "name": "stdout",
     "output_type": "stream",
     "text": [
      "D:\\\n"
     ]
    }
   ],
   "source": [
    "%cd d:"
   ]
  },
  {
   "cell_type": "code",
   "execution_count": 10,
   "id": "be7f9f12-3578-493d-8ae0-1d49e5338a37",
   "metadata": {},
   "outputs": [
    {
     "name": "stdout",
     "output_type": "stream",
     "text": [
      "\n",
      "7-Zip SFX 25.01 (x86) : Copyright (c) 1999-2025 Igor Pavlov : 2025-08-03\n",
      "\n",
      "Extracting archive: D:\\hemliga_tv†ngsmetoder.exe\n",
      "--\n",
      "Path = D:\\hemliga_tv†ngsmetoder.exe\n",
      "Type = 7z\n",
      "\n",
      "  0%\n",
      "    \n",
      " 50% - AF_T-2025-13943.pdf\n",
      "                          \n",
      " 50% 1 - AF_T-2025-23653.pdf\n",
      "                            \n",
      " 50% 2 - AF_T-2025-70272.pdf\n",
      "                            \n",
      " 50% 3 - AF_T-2025-87850.pdf\n",
      "                            \n",
      " 50% 4 - AF_T-2025-94236.pdf\n",
      "                            \n",
      " 50% 5\n",
      "      \n",
      "100% 5 - AF_T-2025-16103.pdf\n",
      "                            \n",
      "100% 6 - AF_T-2025-55620.pdf\n",
      "                            \n",
      "100% 7 - AF_T-2025-77706.pdf\n",
      "                            \n",
      "100% 8 - AF_T-2025-79306.pdf\n",
      "                            \n",
      "100% 9 - AF_T-2025-90422.pdf\n",
      "                            \n",
      "100% 10\n",
      "       \n",
      "Everything is Ok\n"
     ]
    }
   ],
   "source": [
    "!hemliga_tvångsmetoder.exe"
   ]
  },
  {
   "cell_type": "markdown",
   "id": "a49b96e2-78c6-4453-9dd4-b100d66a8ce0",
   "metadata": {},
   "source": [
    "#### **Kryptering av 7-Zip-arkiv**\n",
    "Läs mer om kryptering [här](https://learn.microsoft.com/en-us/training/modules/describe-concepts-of-cryptography/3-describe-encryption-its-use-cybersecurity)."
   ]
  },
  {
   "cell_type": "code",
   "execution_count": 11,
   "id": "eb187f1e-553a-4385-88a6-bf195d5118cb",
   "metadata": {},
   "outputs": [
    {
     "name": "stdout",
     "output_type": "stream",
     "text": [
      "C:\\Users\\steble70\n"
     ]
    }
   ],
   "source": [
    "%cd ~"
   ]
  },
  {
   "cell_type": "code",
   "execution_count": 12,
   "id": "7282c7c9-11d5-4d27-8247-bee3251776a4",
   "metadata": {},
   "outputs": [
    {
     "name": "stdout",
     "output_type": "stream",
     "text": [
      "\n",
      "7-Zip 25.01 (x64) : Copyright (c) 1999-2025 Igor Pavlov : 2025-08-03\n",
      "\n",
      "Scanning the drive:\n",
      "5 files, 8260 bytes (9 KiB)\n",
      "\n",
      "Creating archive: hemliga_tvångsmetoder2.exe\n",
      "\n",
      "Add new data to archive: 5 files, 8260 bytes (9 KiB)\n",
      "\n",
      "\n",
      "Files read from disk: 5\n",
      "Archive size: 1244 bytes (2 KiB)\n",
      "Everything is Ok\n"
     ]
    }
   ],
   "source": [
    "!7z a -pAll_makt_åt_Tengil_vår_befriare hemliga_tvångsmetoder2.exe AF_T* -sccWIN"
   ]
  },
  {
   "cell_type": "markdown",
   "id": "b7a60063-6c51-415c-b1fd-5c67faf40a2e",
   "metadata": {},
   "source": [
    "## **tar (tarball)-arkiv**\n",
    "tar är ett urgammalt program (se Wikipedia) som numera ersatt av andra program."
   ]
  },
  {
   "cell_type": "code",
   "execution_count": 13,
   "id": "5ce3d604-4b33-4ed9-a88f-bc4059869728",
   "metadata": {},
   "outputs": [
    {
     "name": "stdout",
     "output_type": "stream",
     "text": [
      "\n",
      "7-Zip 25.01 (x64) : Copyright (c) 1999-2025 Igor Pavlov : 2025-08-03\n",
      "\n",
      "Scanning the drive:\n",
      "5 files, 8260 bytes (9 KiB)\n",
      "\n",
      "Creating archive: hemliga_tvångsmetoder3.tar\n",
      "\n",
      "Add new data to archive: 5 files, 8260 bytes (9 KiB)\n",
      "\n",
      "\n",
      "Files read from disk: 5\n",
      "Archive size: 13824 bytes (14 KiB)\n",
      "Everything is Ok\n"
     ]
    }
   ],
   "source": [
    "!7z a -ttar hemliga_tvångsmetoder3.tar AF_T* -sccWIN"
   ]
  },
  {
   "cell_type": "code",
   "execution_count": 14,
   "id": "b34691e2-9f5e-4d47-901b-9d69a64b17f2",
   "metadata": {},
   "outputs": [
    {
     "name": "stdout",
     "output_type": "stream",
     "text": [
      "\n",
      "7-Zip 25.01 (x64) : Copyright (c) 1999-2025 Igor Pavlov : 2025-08-03\n",
      "\n",
      "Scanning the drive:\n",
      "1 file, 13824 bytes (14 KiB)\n",
      "\n",
      "Creating archive: hemliga_tvångsmetoder3.tar.bz2\n",
      "\n",
      "Add new data to archive: 1 file, 13824 bytes (14 KiB)\n",
      "\n",
      "\n",
      "Files read from disk: 1\n",
      "Archive size: 1648 bytes (2 KiB)\n",
      "Everything is Ok\n"
     ]
    }
   ],
   "source": [
    "!7z a -tbzip2 hemliga_tvångsmetoder3.tar.bz2 hemliga_tvångsmetoder3.tar -sccWIN"
   ]
  },
  {
   "cell_type": "markdown",
   "id": "f3521df5-9b5a-4e60-8812-f346f17a6d16",
   "metadata": {},
   "source": [
    "## **Zip-arkiv**"
   ]
  },
  {
   "cell_type": "code",
   "execution_count": 15,
   "id": "c81804d6-4bfe-4433-b8ed-72b5fbb0824d",
   "metadata": {},
   "outputs": [
    {
     "name": "stdout",
     "output_type": "stream",
     "text": [
      "\n",
      "7-Zip 25.01 (x64) : Copyright (c) 1999-2025 Igor Pavlov : 2025-08-03\n",
      "\n",
      "Scanning the drive:\n",
      "5 files, 8260 bytes (9 KiB)\n",
      "\n",
      "Creating archive: hemliga_tvångsmetoder4.zip\n",
      "\n",
      "Add new data to archive: 5 files, 8260 bytes (9 KiB)\n",
      "\n",
      "\n",
      "Files read from disk: 5\n",
      "Archive size: 5082 bytes (5 KiB)\n",
      "Everything is Ok\n"
     ]
    }
   ],
   "source": [
    "!7z a -tzip hemliga_tvångsmetoder4.zip AF_* -sccWIN"
   ]
  }
 ],
 "metadata": {
  "kernelspec": {
   "display_name": "Python 3 (ipykernel)",
   "language": "python",
   "name": "python3"
  },
  "language_info": {
   "codemirror_mode": {
    "name": "ipython",
    "version": 3
   },
   "file_extension": ".py",
   "mimetype": "text/x-python",
   "name": "python",
   "nbconvert_exporter": "python",
   "pygments_lexer": "ipython3",
   "version": "3.12.2"
  }
 },
 "nbformat": 4,
 "nbformat_minor": 5
}
